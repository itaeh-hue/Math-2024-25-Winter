{
  "nbformat": 4,
  "nbformat_minor": 0,
  "metadata": {
    "colab": {
      "provenance": [],
      "authorship_tag": "ABX9TyO2S/zOJw0I7yRW8R3THRHh",
      "include_colab_link": true
    },
    "kernelspec": {
      "name": "python3",
      "display_name": "Python 3"
    },
    "language_info": {
      "name": "python"
    }
  },
  "cells": [
    {
      "cell_type": "markdown",
      "metadata": {
        "id": "view-in-github",
        "colab_type": "text"
      },
      "source": [
        "<a href=\"https://colab.research.google.com/github/itaeh-hue/Math-2024-25-Winter/blob/main/Lecture_Notes/Linear_Algebra/05_Inverse_of_a_Matrix_from_the_formula.ipynb\" target=\"_parent\"><img src=\"https://colab.research.google.com/assets/colab-badge.svg\" alt=\"Open In Colab\"/></a>"
      ]
    },
    {
      "cell_type": "markdown",
      "source": [
        "## Exercises\n",
        "\n",
        "1. Find the inverse matrix for matrix\n",
        "\n",
        "$$\\mathbf{A}=\\begin{bmatrix}\n",
        "2 & 0 & 1 \\\\\n",
        "0 & 1 & 0 \\\\\n",
        "1 & 2 & 0\n",
        "\\end{bmatrix}$$\n",
        "\n",
        "and verify if the result is correct.\n",
        "\n",
        "2. Determine the rank of the matrix:\n",
        "\n",
        "$$\\mathbf{B} =\n",
        "\\begin{bmatrix}\n",
        "4 & -3 & 7 \\\\\n",
        "-1 & 6 & 3 \\\\\n",
        "2 & 9 & 1\n",
        "\\end{bmatrix}$$\n"
      ],
      "metadata": {
        "id": "xVSsWU2Rrv0q"
      }
    },
    {
      "cell_type": "markdown",
      "source": [
        "### Exercise 1\n",
        "\n",
        "According to the formula,\n",
        "\n",
        "$$\\mathbf{A}^{-1} = \\frac{1}{\\det\\mathbf{A}} \\text{adj}(\\mathbf{A})$$\n",
        "where $\\text{adj}\\mathbf{A}$ is the adjugate matrix.\n",
        "\n",
        "\n",
        "###### 1. We first calculate the determinant of the matrix $\\mathbf{A}$ using Laplace expansion:\n",
        "\n",
        "$$\\det \\mathbf{A} = 1\\cdot \\det \\begin{bmatrix}0 & 1 \\\\ 1 & 2 \\end{bmatrix} = -1$$\n",
        "###### 2. And then the adjugate matrix by calculating minors and cofactors:\n",
        "\n",
        "\n",
        "Minors: $$\\begin{bmatrix}\n",
        "0 & 0 & -1 \\\\\n",
        "-2 & -1 & 4 \\\\\n",
        "-1 & 0 & 2\n",
        "\\end{bmatrix}$$\n",
        "\n",
        "Cofactors: $$\\begin{bmatrix}\n",
        "0 & 0 & -1 \\\\\n",
        "2 & -1 & -4 \\\\\n",
        "-1 & 0 & 2\n",
        "\\end{bmatrix}$$\n",
        "\n",
        "Then we take transpose to get the adjugate:\n",
        "\n",
        "$$\\begin{bmatrix}\n",
        "0 & 2 & -1 \\\\\n",
        "0 & -1 & 0 \\\\\n",
        "-1 & -4 & 2\n",
        "\\end{bmatrix}$$\n",
        "\n",
        "###### 3. Then we can finally calculate the inverse:\n",
        "\n",
        "\n",
        "$$\\mathbf{A}^{-1} = \\frac{1}{\\det(\\mathbf{A})} \\text{adj}(\\mathbf{A}) = \\frac{1}{-1}\n",
        "\\begin{bmatrix}\n",
        "0 & 2 & -1 \\\\\n",
        "0 & -1 & 0 \\\\\n",
        "-1 & -4 & 2\n",
        "\\end{bmatrix} = \\begin{bmatrix}\n",
        "0 & -2 & 1 \\\\\n",
        "0 & 1 & 0 \\\\\n",
        "1 & 4 & -2\n",
        "\\end{bmatrix}$$\n"
      ],
      "metadata": {
        "id": "QacbTV6pr0i-"
      }
    },
    {
      "cell_type": "code",
      "source": [
        "import sympy as sp\n",
        "\n",
        "A = sp.Matrix([[2,0,1],[0,1,0],[1,2,0]])\n",
        "\n",
        "print(f'The determinant of matrix A: {A.det()}')\n",
        "print(f'The transpose of matrix A: {A.T}')\n",
        "print(f'The inverse of matrix A: {A.inv()}')"
      ],
      "metadata": {
        "colab": {
          "base_uri": "https://localhost:8080/"
        },
        "id": "OyqIdj6Zr2ei",
        "outputId": "6f569767-515b-45b9-ba3e-d32b8348244c"
      },
      "execution_count": 2,
      "outputs": [
        {
          "output_type": "stream",
          "name": "stdout",
          "text": [
            "The determinant of matrix A: -1\n",
            "The transpose of matrix A: Matrix([[2, 0, 1], [0, 1, 2], [1, 0, 0]])\n",
            "The inverse of matrix A: Matrix([[0, -2, 1], [0, 1, 0], [1, 4, -2]])\n"
          ]
        }
      ]
    },
    {
      "cell_type": "markdown",
      "source": [
        "### Exercise 2\n",
        "\n",
        "Given matrix, we first calculate its determinant:\n",
        "$$\\det\\mathbf{B} =\n",
        "\\det\\begin{bmatrix}\n",
        "4 & -3 & 7 \\\\\n",
        "-1 & 6 & 3 \\\\\n",
        "2 & 9 & 1\n",
        "\\end{bmatrix}$$\n",
        "\n",
        "1. For $\\det\\begin{bmatrix} 6 & 3 \\\\ 9 & 1 \\end{bmatrix}$:\n",
        "$$\\det\\begin{bmatrix} 6 & 3 \\\\ 9 & 1 \\end{bmatrix} = (6)(1) - (3)(9) = 6 - 27 = -21$$\n",
        "\n",
        "2. For $\\det\\begin{bmatrix} -1 & 3 \\\\ 2 & 1 \\end{bmatrix}$:\n",
        "$$\\det\\begin{bmatrix} -1 & 3 \\\\ 2 & 1 \\end{bmatrix} = (-1)(1) - (3)(2) = -1 - 6 = -7$$\n",
        "\n",
        "3. For $\\det\\begin{bmatrix} -1 & 6 \\\\ 2 & 9 \\end{bmatrix}$:\n",
        "$$\\det\\begin{bmatrix} -1 & 6 \\\\ 2 & 9 \\end{bmatrix} = (-1)(9) - (6)(2) = -9 - 12 = -21$$\n",
        "\n",
        "\n",
        "$$\\det(\\mathbf{B}) = 4(-21) + 3(-7) + 7(-21) = -84 -21 -147 = -252$$\n",
        "\n",
        "Since the determinant is not zero, we conclude that the determinant of this matrix is $3$ ($3 \\times 3$ matrix)."
      ],
      "metadata": {
        "id": "CWjEclidr4xu"
      }
    },
    {
      "cell_type": "code",
      "source": [
        "import sympy as sp\n",
        "\n",
        "B = sp.Matrix([[4,-3,7],[-1,6,3],[2,9,1]])\n",
        "\n",
        "print(f'The determinant of matrix B: {B.det()}')\n",
        "print(f'The rank of the matrix B: {B.rank()}')"
      ],
      "metadata": {
        "colab": {
          "base_uri": "https://localhost:8080/"
        },
        "id": "P4NSS8Bsr7VO",
        "outputId": "1c9525e1-b30c-489c-c1b7-6e8daeea8f9d"
      },
      "execution_count": 1,
      "outputs": [
        {
          "output_type": "stream",
          "name": "stdout",
          "text": [
            "The determinant of matrix B: -252\n",
            "The rank of the matrix B: 3\n"
          ]
        }
      ]
    }
  ]
}