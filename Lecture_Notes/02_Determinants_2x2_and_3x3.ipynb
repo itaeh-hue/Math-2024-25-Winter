{
  "nbformat": 4,
  "nbformat_minor": 0,
  "metadata": {
    "colab": {
      "provenance": [],
      "authorship_tag": "ABX9TyMZfHlQTxP4QjMP/VEKFwLH",
      "include_colab_link": true
    },
    "kernelspec": {
      "name": "python3",
      "display_name": "Python 3"
    },
    "language_info": {
      "name": "python"
    }
  },
  "cells": [
    {
      "cell_type": "markdown",
      "metadata": {
        "id": "view-in-github",
        "colab_type": "text"
      },
      "source": [
        "<a href=\"https://colab.research.google.com/github/itaeh-hue/Math-2024-25-Winter/blob/main/Lecture_Notes/Linear_Algebra/02_Determinants_2x2_and_3x3.ipynb\" target=\"_parent\"><img src=\"https://colab.research.google.com/assets/colab-badge.svg\" alt=\"Open In Colab\"/></a>"
      ]
    },
    {
      "cell_type": "markdown",
      "source": [
        "## Determinants\n",
        "\n",
        ">Definition\n",
        ">For $n \\geq 2$, the **determinant** of an $n \\times n$ matrix $A$ is the sum of $n$ entries of the form $\\pm a_{1j}\\det A_{1j}$, with plus and minus signs alternating, where $a_{11}, a_{12}, \\dots, a_{1n}$ form the first row of $A$.\n",
        ">$$\\det A = a_{11}\\det A_{11} + \\dots+ (-1)^{1+n}a_{1n}\\det A_{1n}$$$$=\\sum^n_{j=1}{(-1)^{1+j}a_{1j}\\det A_{1j}}$$\n",
        "\n",
        "Thus, the determinant is a scalar value that can be computed from a square matrix. It encodes several important properties of the matrix, such as whether the matrix is invertible or not.\n",
        "\n",
        ">A square matrix $A$ is invertible if and only if its determinant equals zero: $A \\text{ is invertible} \\iff \\det A \\neq 0$.\n",
        "\n",
        "Determinant of a $2\\times 2$ matrix:\n",
        "$$\\det A = \\det \\begin{bmatrix}\n",
        "a & b \\\\ c & d\n",
        "\\end{bmatrix} = ad - bc$$\n",
        "For example,\n",
        "$$\\det A = \\det \\begin{bmatrix}\n",
        "3 & 4 \\\\ 2 & 5\n",
        "\\end{bmatrix}=3\\cdot5−4\\cdot2=15−8=7$$\n",
        "\n",
        ">Given $A = [a_{ij}]$, the **$(i, j)$-cofactor** of $A$ is the number $C_{ij}$ given by $$C_{ij}=(-1)^{i+j}\\det A_{ij}$$\n",
        ">The **determinant** of a matrix $A \\in \\mathbb{R}^{n \\times n}, n \\geq 2,$ is the sum of its cofactors $C_{ij}$ multiplied by the corresponding entries of $a_{ij}$ which form the $i_{{th}}$ of $A$, namely, $$\\det A = a_{i1}C_{i1} + a_{i2}C_{i2} + \\dots + a_{in}C_{in}$$\n",
        ">The determinant can also be computed using the columns of $A$, $$\\det A = a_{1j}C_{1j} + a_{2j}C_{2j} + \\dots + a_{nj}C_{nj}$$\n",
        ">The above formulas are called **cofactor expansions across the $i^{th}$ row or $j_{th}$ column** of $A$, respectively.\n",
        "\n",
        "Determinant of a $3 \\times 3$ matrix:\n",
        "$$\\det A = \\det \\begin{bmatrix}\n",
        "a & b & c \\\\ d & e & f \\\\\n",
        "g & h & j\n",
        "\\end{bmatrix} = a \\det \\begin{bmatrix}\n",
        "e & f \\\\ h & j\n",
        "\\end{bmatrix} - b \\det \\begin{bmatrix}\n",
        "d & f \\\\ g & j\n",
        "\\end{bmatrix} + c \\det \\begin{bmatrix}\n",
        "d & e \\\\ g & h\n",
        "\\end{bmatrix} = a(ei -fh) - b(di - fg) + c (dh - eg)$$\n",
        "\n",
        "---\n",
        "\n",
        ">If $A$ is a triangular matrix, then $\\det A$ is the product of the entries on the main diagonal of $A$.\n",
        "\n",
        ">A triangular matrix is a special kind of square matrix where all elements above or below the principal diagonal are zeros.\n",
        "\n",
        "## Properties of determinants\n",
        "\n",
        ">Let $A$ be a square matrix.\n",
        "- $\\bigcirc$ If a multiple of one row of $A$ is added to another row to produce a matrix $A$, then $\\det B = \\det A$.\n",
        "- $\\bigcirc$ If two rows of $A$ are interchanged to produce $B$, then $\\det B = -\\det A$.\n",
        "- $\\bigcirc$ If one row of $A$ is multiplied by $k$ to produce $B$, then $\\det B = k\\det A$ .\n",
        "\n",
        "\n",
        ">$$\\det A =\\begin{cases}\n",
        "(-1)^r\\cdot (\\text{product of pivots in U}) \\quad \\text{when $A$ is invertible} \\\\\n",
        "\\\\\n",
        "0 \\quad \\quad \\quad \\quad \\quad \\quad \\quad \\quad \\quad \\quad \\quad \\quad \\quad \\quad \\text{when $A$ is not invertible}\n",
        "\\end{cases}$$\n",
        ">Where $U$ is $A$ in the echelon form.\n",
        "\n",
        ">A square matrix A$ is invertible if and only if $det A \\neq 0$.\n",
        "\n",
        ">If $A$ is an $n \\times n$ matrix, then $\\det A^T = \\det A$.\n"
      ],
      "metadata": {
        "id": "QJ9BvFo7cAoD"
      }
    },
    {
      "cell_type": "markdown",
      "source": [
        "## Exercises\n",
        "\n",
        "Calculate the determinants for the $2\\times2$ and $3\\times3$ matrices given below.\n",
        "\n",
        "$2\\times2$ Matrices:\n",
        "\n",
        "$$\n",
        "\\mathbf{A} =\n",
        "\\begin{pmatrix}\n",
        "2 & 3 \\\\\n",
        "1 & 4\n",
        "\\end{pmatrix}\n",
        ", \\qquad\n",
        "\\mathbf{B} =\n",
        "\\begin{pmatrix}\n",
        "5 & 6 \\\\\n",
        "7 & 8\n",
        "\\end{pmatrix}\n",
        ", \\qquad\n",
        "\\mathbf{C} =\n",
        "\\begin{pmatrix}\n",
        "-1 & 2 \\\\\n",
        "3 & 0\n",
        "\\end{pmatrix}\n",
        "$$\n",
        "\n",
        "$3\\times3$ Matrices:\n",
        "\n",
        "$$\n",
        "\\mathbf{D} =\n",
        "\\begin{pmatrix}\n",
        "1 & 0 & 2 \\\\\n",
        "-1 & 3 & 1 \\\\\n",
        "2 & 4 & -2\n",
        "\\end{pmatrix}\n",
        ", \\qquad\n",
        "\\mathbf{E} =\n",
        "\\begin{pmatrix}\n",
        "3 & 1 & -1 \\\\\n",
        "0 & 2 & 4 \\\\\n",
        "5 & 3 & 2\n",
        "\\end{pmatrix}\n",
        ", \\qquad\n",
        "\\mathbf{F} =\n",
        "\\begin{pmatrix}\n",
        "2 & -3 & 1 \\\\\n",
        "1 & 4 & -2 \\\\\n",
        "1 & 5 & 3\n",
        "\\end{pmatrix}\n",
        "$$\n",
        "\n"
      ],
      "metadata": {
        "id": "EJYux4U50FvV"
      }
    },
    {
      "cell_type": "markdown",
      "source": [
        "### Exercise 1: Determinants of $2\\times2$ matrices\n",
        "  \n",
        "1.  $\\det A$:\n",
        "$$\\det \\begin{bmatrix}\n",
        "2 & 3 \\\\\n",
        "1 & 4\n",
        "\\end{bmatrix} = 2 \\times 4 - 3 \\times 1 = 8 - 3 = 5$$"
      ],
      "metadata": {
        "id": "lEyIcCjF0QNT"
      }
    },
    {
      "cell_type": "code",
      "source": [
        "import sympy as sp\n",
        "\n",
        "A = sp.Matrix([[2,3],[1,4]])\n",
        "A.det()"
      ],
      "metadata": {
        "id": "Ihx2RfWb0Ud-"
      },
      "execution_count": null,
      "outputs": []
    },
    {
      "cell_type": "markdown",
      "source": [
        "2. $\\det B$:\n",
        "$$\\det \\begin{pmatrix}\n",
        "5 & 6 \\\\\n",
        "7 & 8\n",
        "\\end{pmatrix} = 5 \\times 8 - 6 \\times 7 = 40 - 42 = -2\n",
        "$$"
      ],
      "metadata": {
        "id": "g-0rHlgn0W1j"
      }
    },
    {
      "cell_type": "code",
      "source": [
        "import sympy as sp\n",
        "\n",
        "B = sp.Matrix([[5,6],[7,8]])\n",
        "B.det()"
      ],
      "metadata": {
        "id": "yt5iQy7B0vI9"
      },
      "execution_count": null,
      "outputs": []
    },
    {
      "cell_type": "markdown",
      "source": [
        "3. $\\det C$:\n",
        "$$\\det \\begin{pmatrix}\n",
        "-1 & 2 \\\\\n",
        "3 & 0\n",
        "\\end{pmatrix} = -1 \\times 0 - 2 \\times 3 = 0 - 6 = -6$$"
      ],
      "metadata": {
        "id": "0VtyyCKM0yq6"
      }
    },
    {
      "cell_type": "code",
      "source": [
        "import sympy as sp\n",
        "\n",
        "C = sp.Matrix([[-1,2],[3,0]])\n",
        "C.det()"
      ],
      "metadata": {
        "id": "LVexYnad01SB"
      },
      "execution_count": null,
      "outputs": []
    },
    {
      "cell_type": "markdown",
      "source": [
        "### Exercise 2:  Determinants of $3\\times3$ matrices\n",
        "\n",
        "1. $\\det D$:\n",
        "\n",
        "$$\\det(D) =\n",
        "\\det \\begin{pmatrix}\n",
        "1 & 0 & 2 \\\\\n",
        "-1 & 3 & 1 \\\\\n",
        "2 & 4 & -2\n",
        "\\end{pmatrix} = \\det\\begin{pmatrix}\n",
        "3 & 1 \\\\\n",
        "4 & -2\n",
        "\\end{pmatrix} - 0 + 2 \\det \\begin{pmatrix}\n",
        "-1 & 3  \\\\\n",
        "2 & 4\n",
        "\\end{pmatrix} = (-6 - 4) + 2(-4 - 6) = -10 - 20 = -30$$"
      ],
      "metadata": {
        "id": "uiJKKicV030U"
      }
    },
    {
      "cell_type": "code",
      "source": [
        "import sympy as sp\n",
        "\n",
        "E = sp.Matrix([[3,1,-1],[0,2,4],[5,3,2]])\n",
        "E.det()"
      ],
      "metadata": {
        "id": "sLwadNWc05p1"
      },
      "execution_count": null,
      "outputs": []
    },
    {
      "cell_type": "markdown",
      "source": [
        "2. $\\det E$:\n",
        "\n",
        "$$\\det(E) = \\det \\begin{pmatrix}\n",
        "3 & 1 & -1  \\\\\n",
        "0 & 2 & 4 \\\\\n",
        "5 & 3 & 2\n",
        "\\end{pmatrix} = -0 + 2\\det \\begin{pmatrix}\n",
        "3 & -1  \\\\\n",
        "5 & 2\n",
        "\\end{pmatrix} - 4 \\det \\begin{pmatrix}\n",
        "3 & 1  \\\\\n",
        "5 & 3\n",
        "\\end{pmatrix} = 2(6 + 5) - 4(9 - 5) = 22 - 16 = 6$$"
      ],
      "metadata": {
        "id": "TnsmdXWC08zc"
      }
    },
    {
      "cell_type": "code",
      "source": [
        "import sympy as sp\n",
        "\n",
        "E = sp.Matrix([[3,1,-1],[0,2,4],[5,3,2]])\n",
        "E.det()"
      ],
      "metadata": {
        "id": "Ro5TbHS10_Ef"
      },
      "execution_count": null,
      "outputs": []
    },
    {
      "cell_type": "markdown",
      "source": [
        "\n",
        "3. $\\det F$:\n",
        "\n",
        "$$\\det(F) = \\det \\begin{pmatrix}\n",
        "2 & -3 & 1 \\\\\n",
        "1 & 4 & -2 \\\\\n",
        "1 & 5 & 3\n",
        "\\end{pmatrix} =\n",
        "2\\det \\begin{pmatrix}\n",
        "4 & -2 \\\\\n",
        "5 & 3\n",
        "\\end{pmatrix} - (-3)\\det \\begin{pmatrix}\n",
        "1 & -2 \\\\\n",
        "1 & 3\n",
        "\\end{pmatrix} + \\det\\begin{pmatrix}\n",
        "1 & 4 \\\\\n",
        "1 & 5\n",
        "\\end{pmatrix} = 2(12 + 10) + 3(3 + 2) + (5-4) = 44 + 15 + 1 = 60$$"
      ],
      "metadata": {
        "id": "WE2U0SGr1DWX"
      }
    },
    {
      "cell_type": "code",
      "source": [
        "import sympy as sp\n",
        "\n",
        "F = sp.Matrix([[2,-3,1],[1,4,-2],[1,5,3]])\n",
        "F.det()"
      ],
      "metadata": {
        "id": "YKrbkGth1FQy"
      },
      "execution_count": null,
      "outputs": []
    }
  ]
}