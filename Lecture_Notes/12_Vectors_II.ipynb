{
  "nbformat": 4,
  "nbformat_minor": 0,
  "metadata": {
    "colab": {
      "provenance": [],
      "authorship_tag": "ABX9TyNlWvyJwun/81p8+QPSkj+G",
      "include_colab_link": true
    },
    "kernelspec": {
      "name": "python3",
      "display_name": "Python 3"
    },
    "language_info": {
      "name": "python"
    }
  },
  "cells": [
    {
      "cell_type": "markdown",
      "metadata": {
        "id": "view-in-github",
        "colab_type": "text"
      },
      "source": [
        "<a href=\"https://colab.research.google.com/github/itaeh-hue/Math-2024-25-Winter/blob/main/Lecture_Notes/Linear_Algebra/12_Vectors_II.ipynb\" target=\"_parent\"><img src=\"https://colab.research.google.com/assets/colab-badge.svg\" alt=\"Open In Colab\"/></a>"
      ]
    },
    {
      "cell_type": "markdown",
      "source": [
        "\n",
        "## Vectors\n",
        "\n",
        ">A **vector** is a mathematical object that has both a **magnitude** (length) and a **direction**. Vectors can be represented in various dimensions, and they are often denoted as ordered tuples of numbers (coordinates).\n",
        "\n",
        "In other words, a vector is a straightforward directed  segment that has both magnitude and direction.\n",
        "\n",
        ">The **length**, or **magnitude**, of a vector, denoted as $|\\vec{a}|$, is a scalar value that represents the size of the vector.\n",
        "\n",
        "The length of a vector $\\mathbf{a}$ can be determined using the Pythagorean theorem: $$|\\mathbf{a}|=\\sqrt{ a_{1}^2 + \\dots + a_{n}^2 }$$\n",
        "\n",
        "- The vector whose length equals $0$ is called the **null vector**, denoted as $\\vec{0}$. The null vector does not have a direction.\n",
        "\n",
        "- The vector whose length equals $1$ s called the **unit vector**, often denoted as a lowercase letter with a circumflex, e.g., $\\mathbf{\\hat{u}}$.\n",
        "\n",
        "- The **normalized vector $\\mathbf{\\hat{u}}$** of a non-zero vector $\\mathbf{\\vec{u}}$ is the unit vector in the direction of $\\mathbf{u}$.\n",
        "\n",
        "- The unit vector $\\mathbf{\\hat{u}}$ of a vector $\\mathbf{u}$ is given by the formula $$\\mathbf{\\hat{u}}=\\mathbf{\\frac{u}{|u|}}$$\n",
        "\n",
        ">Vectors $\\mathbf{a}$ and $\\mathbf{b}$ are called **collinear** of they are lying on the same line or on two parallel lines, i.e., $\\mathbf{a}|| \\mathbf{b}$.\n",
        "\n",
        "- Collinear vectors can either have the same or reciprocal direction.\n",
        "\n",
        ">Vectors $\\mathbf{a}$ and $\\mathbf{b}$ are **equal**, sometimes called **free** vectors, if they are collinear and have the same length.\n",
        "\n",
        ">Three vectors $\\mathbf{a}, \\mathbf{b},$ and $\\mathbf{c}$ are called **coplanar** if they are lying in the same plane or in parallel planes.\n",
        "\n",
        "- If among any of three vectors, $\\mathbf{a}, \\mathbf{b},$ and $\\mathbf{c}$, there is at least one null vector or two of the vectors are collinear, then then $\\mathbf{a}, \\mathbf{b},$ and $\\mathbf{c}$ are coplanar.\n",
        "\n",
        "## Vector addition and scalar multiplication\n",
        "\n",
        ">Definition. Vector Addition.\n",
        ">Given two vectors $\\mathbf{u} = (u_1, u_2)$ and $\\mathbf{v} = (v_1, v_2)$, their sum $\\mathbf{u} + \\mathbf{v}$ is defined as: $$\\mathbf{u} + \\mathbf{v} = (u_1 + v_1, u_2 + v_2)$$\n",
        "\n",
        "Properties of Vector Addition:\n",
        "\n",
        "1. **Commutativity**: $$\\mathbf{u} + \\mathbf{v} = \\mathbf{v} + \\mathbf{u}$$\n",
        "\n",
        "2. **Associativity**: $$(\\mathbf{u} + \\mathbf{v}) + \\mathbf{w} = \\mathbf{u} + (\\mathbf{v} + \\mathbf{w})$$\n",
        "\n",
        "3. **Existence of Identity Element**: There exists a zero vector $\\mathbf{0}$ such that: $$\\mathbf{u} + \\mathbf{0} = \\mathbf{u}$$\n",
        "\n",
        "4. **Existence of Inverse Element**: For each vector $\\mathbf{u}$, there exists a vector $-\\mathbf{u}$ such that: $$\\mathbf{u} + (-\\mathbf{u}) = \\mathbf{0}$$\n",
        ">Definition. Scalar multiplication.\n",
        ">**Scalar multiplication** involves multiplying a vector by a scalar (a real number). If $c$ is a scalar and $\\mathbf{v} = (v_1, v_2)$, then: $$c \\cdot \\mathbf{v} = (c \\cdot v_1, c \\cdot v_2)$$\n",
        "\n",
        "Properties of Scalar Multiplication\n",
        "1. **Distributive Property**:$$c \\cdot (\\mathbf{u} + \\mathbf{v}) = c \\cdot \\mathbf{u} + c \\cdot \\mathbf{v}$$\n",
        "\n",
        "2. **Associative Property**: $$c \\cdot (d \\cdot \\mathbf{v}) = (c \\cdot d) \\cdot \\mathbf{v}$$\n",
        "\n",
        "3. **Identity Element**:\n",
        "   $$1\\cdot \\mathbf{v} = \\mathbf{v}$$\n",
        "\n",
        "4. **Zero Scalar**: $$0 \\cdot \\mathbf{v} = \\mathbf{0}$$\n",
        "\n",
        "## Dot product\n",
        "\n",
        ">The **dot product**, or **scalar product**, of two vectors $\\mathbf{a}$ and $\\mathbf{b}$ *of the same size* is an algebraic operation that returns a single number.\n",
        "\n",
        "The dot product can be defined in two ways:\n",
        "- algebraically\n",
        "- geometrically\n",
        "\n",
        ">The dot product of two vectors, $\\mathbf{a} = [a_1, a_2, \\cdots, a_n]$ and $\\mathbf{b} = [b_1, b_2, \\cdots, b_n]$, is defined as: $$\\mathbf a \\cdot \\mathbf b = \\sum_{i=1}^n a_i b_i = a_1 b_1 + a_2 b_2 + \\cdots + a_n b_n$$\n",
        "\n",
        ">The dot product of two Euclidean vectors $\\mathbf{a}$ and $\\mathbf{b}$ is defined by $$\\mathbf{a}\\cdot \\mathbf{b} = |\\mathbf{a}|\\cdot|\\mathbf{b}|\\cdot \\cos\\varphi$$ where $\\varphi$ is the angle between $\\mathbf{a}$ and $\\mathbf{b}$.\n",
        ">In other words, $$\\cos\\varphi=\\frac{\\mathbf{a}\\cdot \\mathbf{b}}{|\\mathbf{a}|\\cdot|\\mathbf{b}|}$$\n",
        "\n",
        "Properties:\n",
        "\n",
        "- Commutativity: $\\mathbf{a} \\cdot \\mathbf{b} = \\mathbf{b} \\cdot \\mathbf{a}$\n",
        "- Not associative.\n",
        "\n",
        "- $\\mathbf{a}$ and $\\mathbf{b}$ are **orthogonal**, or **perpendicular**, if and only if $$\\mathbf{a} \\cdot \\mathbf{b} = 0$$\n",
        "- $\\mathbf{a}$ and $\\mathbf{b}$ are **collinear**, or **parallel**, if and only if $$\\mathbf{a} \\cdot \\mathbf{b} = 1$$\n",
        "\n",
        "## Vector product\n",
        "\n",
        ">The **cross product**, or **vector product**, is an operation on two vectors, $\\mathbf{a}$ and $\\mathbf{b}$, that returns another vector $\\mathbf{c}=\\mathbf{a}\\times \\mathbf{b}$ such that:\n",
        "\n",
        "- $\\bigcirc$ $\\mathbf{c}$ is perpendicular to both $\\mathbf{a}$ and $\\mathbf{b}$.\n",
        "- $\\bigcirc$ $\\mathbf{c}$ is equal to the area of a parallelogram constructed by vectors $\\mathbf{a}$ and $\\mathbf{b}$, i.e., $$\\mathbf{a}\\times \\mathbf{b} = |\\mathbf{a}|\\cdot|\\mathbf{b}|\\sin\\varphi$$\n",
        "where $\\varphi$ is the angle between $\\mathbf{a}$ and $\\mathbf{b}$.\n",
        "\n",
        ">Alternatively, the cross product can be expressed as $$\\mathbf{a}\\times \\mathbf{b} = \\det \\begin{bmatrix}\n",
        "\\mathbf{i} & \\mathbf{j} & \\mathbf{k} \\\\\n",
        "a_{x} & a_{y} & a_{z} \\\\\n",
        "b_{x} & b_{y} & b_{z}\n",
        "\\end{bmatrix}$$\n",
        "\n",
        "-  $\\mathbf{a}$ and $\\mathbf{b}$ are **orthogonal**, or **perpendicular**, if and only if $$\\mathbf{a} \\times \\mathbf{b} = 1$$\n",
        "-  $\\mathbf{a}$ and $\\mathbf{b}$ are **collinear**, or **parallel**, if and only if $$\\mathbf{a} \\times \\mathbf{b} = 0$$\n",
        "\n",
        "## Mixed product\n",
        "\n",
        "The mixed product of three vectors $\\mathbf{a}, \\mathbf{b}, \\mathbf{c}$ is defined as: $$\\mathbf{a} \\cdot \\left( \\mathbf{b} \\times \\mathbf{c} \\right)$$\n"
      ],
      "metadata": {
        "id": "7mUqPM9R9cQi"
      }
    },
    {
      "cell_type": "markdown",
      "source": [
        "## Vector Bases\n",
        "\n",
        "This is how I understood vector bases:\n",
        ">If you’re a stingy painter, you might say that you only need to buy 5 colors to make any painting: red, yellow, blue, white, and black. Sure, green would be nice, and pink would be cool, but you don’t need to buy pink and green paint. After all, you can combine red and white paint to make pink, or yellow and blue paint to make green.\n",
        ">If we think of the set of all possible colors as of a vector space (although colors don't have dimensions), then these 5 paints - red, yellow, blue, white, and black - are the basis of that vector space, since we can mix these colors in needed proportions to get any possible color for a painting.\n",
        "\n",
        ">Let $V$ be a subspace of $\\mathbb{R}^n$. A **basis** of $V$ is a set of vectors $\\{ \\vec{v_{1}}, \\dots, \\vec{v_{k}}\\}$ in $V$ such that:\n",
        ">1. $V =\\space Span \\{ \\vec{v_{1}}, \\dots, \\vec{v_{k}}\\}$, and\n",
        ">2. The set $\\{ \\vec{v_{1}}, \\dots, \\vec{v_{k}}\\}$ is linearly independent.\n",
        "\n",
        "A basis of a vector space is a set of vectors which are used to represent every vector in that space.  \n",
        "\n",
        "The vectors in the basis must span the vector space, meaning any vector in $V$ can be expressed as a linear combination of the basis vectors:\n",
        "\n",
        "$$ \\forall \\space \\mathbf{v} \\in V, \\exists \\space c_1, c_2, \\ldots, c_n \\in \\mathbb{R} \\text{ such that } \\mathbf{v} = c_1 \\mathbf{b_1} + c_2 \\mathbf{b_2} + \\ldots + c_n \\mathbf{b_n}$$\n",
        "The basis vectors must be linearly independent, meaning no vector in the set can be expressed as a linear combination of the others.\n",
        "\n",
        "Formally, for the set ${ \\mathbf{b_1}, \\mathbf{b_2}, \\ldots, \\mathbf{b_n} }$, the only solution to the equation $$c_1 \\mathbf{b_1} + c_2 \\mathbf{b_2} + \\ldots + c_n \\mathbf{b_n} = \\mathbf{0}$$ is $c_1 = c_2 = \\ldots = c_n = 0$.\n",
        "\n",
        "- If a vector space has a basis, any vector in that space can be uniquely represented as a linear combination of the basis vectors. This uniqueness is crucial for computations and theoretical work because it avoids ambiguity.\n"
      ],
      "metadata": {
        "id": "LbSN8YYdTM_x"
      }
    },
    {
      "cell_type": "markdown",
      "source": [
        "## Exercises\n",
        "\n",
        "\n",
        "A. Perform the addition of vector $[2, 1]$ to vector $[-1, 1]$. Plot both vectors and their sum on a graph.\n",
        "\n",
        "B. Calculate the area of the triangle spanned by vectors $[2, 1]$ and $[-1, 1]$.\n",
        "\n",
        "C. Calculate the volume of the parallelepiped spanned by vectors $[2, 1]$, $[-1, 1]$, and $[1, 2]$.\n",
        "\n",
        "D. Check if vectors $[2, 1]$ and $[-1, 1]$ are perpendicular.\n",
        "\n",
        "E. Calculate the angle in degrees between vectors $[4,2,1]$ and $[1,3,2]$.\n",
        "\n",
        "F. For three-dimensional vectors: $\\mathbf{a}=[a_x, a_y, a_z]$, $\\mathbf{b}=[b_x, b_y, b_z]$, $\\mathbf{c}=[c_x, c_y, c_z]$, prove that the following identity is satisfied:\n",
        "\n",
        "$$\\mathbf{a} \\times (\\mathbf{b} \\times \\mathbf{c}) = (\\mathbf{a} \\cdot \\mathbf{c}) \\mathbf{b} - (\\mathbf{a} \\cdot \\mathbf{b}) \\mathbf{c}.$$\n"
      ],
      "metadata": {
        "id": "iSmBzOxM9sF0"
      }
    },
    {
      "cell_type": "markdown",
      "source": [
        "## Exercise A\n",
        "\n",
        ">A. Perform the addition of vector $[2, 1]$ to vector $[-1, 1]$. Plot both vectors and their sum on a graph.\n",
        "\n",
        "The sum of two vectors, $[2,1]$ and $[-1,1]$, is:\n",
        "\n",
        "\n",
        "$$[2,1] + [-1, 1] = [1, 2]$$"
      ],
      "metadata": {
        "id": "rHPY7OeT-Cd6"
      }
    },
    {
      "cell_type": "code",
      "source": [
        "import matplotlib.pyplot as plt\n",
        "import numpy as np\n",
        "\n",
        "a = np.array([2,1])\n",
        "b = np.array([-1,1])\n",
        "c = a + b\n",
        "\n",
        "fig, ax = plt.subplots()\n",
        "\n",
        "\n",
        "# Plot vector a (in blue)\n",
        "ax.quiver(0, 0, a[0], a[1], angles='xy', scale_units='xy', scale=1, color='b', label='Vector a = [2, 1]')\n",
        "# Plot vector b (in green)\n",
        "ax.quiver(0, 0, b[0], b[1], angles='xy', scale_units='xy', scale=1, color='g', label='Vector b = [-1, 1]')\n",
        "# Plot vector c (in red)\n",
        "ax.quiver(0, 0, c[0], c[1], angles='xy', scale_units='xy', scale=1, color='r', label='Vector c = a + b')\n",
        "\n",
        "plt.xlim(-2,2)\n",
        "plt.ylim(-2,2)\n",
        "plt.gca().set_aspect('equal')\n",
        "\n",
        "plt.grid()\n",
        "plt.show()"
      ],
      "metadata": {
        "id": "Rx3MxqGG-Odu"
      },
      "execution_count": null,
      "outputs": []
    },
    {
      "cell_type": "markdown",
      "source": [
        "### Exercise B\n",
        "\n",
        ">B. Calculate the area of the triangle spanned by vectors $[2, 1]$ and $[-1, 1]$.\n",
        "\n",
        "The area $A$ of the triangle spanned by vectors $\\mathbf{a}$ and $\\mathbf{b}$ can be calculated using the formula:\n",
        "\n",
        "$$\n",
        "\\text{Area}_{t} = \\frac{1}{2} |\\mathbf{a} \\times \\mathbf{b}|\n",
        "$$\n",
        "\n",
        "In two dimensions, the cross product for vectors $\\mathbf{a} = [2, 1]$ and $\\mathbf{b} = [-1, 1]$:\n",
        "\n",
        "$\\mathbf{a} \\times \\mathbf{b} = |\\mathbf{a}||\\mathbf{b}| sin(θ) \\mathbf{n}$\n",
        "$$\\cos \\theta = \\frac{\\mathbf{a} \\cdot \\mathbf{b}}{\\|\\mathbf{a}\\| \\|\\mathbf{b}\\|}\n",
        "$$\n",
        "\n",
        "\n",
        "The dot product:\n",
        "$$\\mathbf{a} \\cdot \\mathbf{b} = a_1 b_1 + a_2 b_2 = (2)(-1) + (1)(1) = -2 + 1 = -1$$\n",
        "\n",
        "Lengths of the vectors:\n",
        "$$|\\mathbf{a}| = \\sqrt{a_1^2 + a_2^2} = \\sqrt{2^2 + 1^2} = \\sqrt{4 + 1} = \\sqrt{5}$$\n",
        "$$|\\mathbf{b}| = \\sqrt{b_1^2 + b_2^2} = \\sqrt{(-1)^2 + 1^2} = \\sqrt{1 + 1} = \\sqrt{2}$$\n",
        "\n",
        "Co-sinus of theta:\n",
        "\n",
        "$$\\cos \\theta = \\frac{\\mathbf{a} \\cdot \\mathbf{b}}{|\\mathbf{a}| |\\mathbf{b}|} = \\frac{-1}{\\sqrt{5} \\cdot \\sqrt{2}} = \\frac{-1}{\\sqrt{10}}$$\n",
        "\n",
        "Sinus of theta:\n",
        "\n",
        "$\\sin^2 \\theta = 1 - \\cos^2 \\theta = 1 - \\frac{1}{10} = \\frac{9}{10}$\n",
        "\n",
        "$\\sin \\theta = \\sqrt{\\frac{9}{10}} = \\frac{3}{\\sqrt{10}}$\n",
        "\n",
        "\n",
        "Now, substitute the values of $|\\mathbf{a}|$, $|\\mathbf{b}|$, and $\\sin \\theta$ into the area formula:\n",
        "\n",
        "$$\\text{Area} = \\frac{1}{2} |\\mathbf{a}| |\\mathbf{b}| \\sin \\theta = \\frac{1}{2} \\cdot \\sqrt{5} \\cdot \\sqrt{2} \\cdot \\frac{3}{\\sqrt{10}} = \\frac{3 \\cdot \\sqrt{ 5 } \\cdot \\sqrt{ 2 }}{2 \\cdot \\sqrt{ 10 }} = \\frac{3 \\cdot \\sqrt{ 10 }}{2 \\cdot \\sqrt{ 10 }} = 1.5$$"
      ],
      "metadata": {
        "id": "iA37oVmj-R4u"
      }
    },
    {
      "cell_type": "markdown",
      "source": [
        "### Exercise C\n",
        "\n",
        ">C. Calculate the volume of the parallelepiped spanned by vectors $[2, 1]$, $[-1, 1]$, and $[1, 2]$.\n",
        "\n",
        "The volume $V$ of the parallelepiped spanned by vectors $[2, 1]$, $[-1, 1]$, and $[1, 2]$ can be calculated by the formula: $V = |\\mathbf{v}_1 \\cdot (\\mathbf{v}_2 \\times \\mathbf{v}_3)|$\n",
        "\n",
        "However, since our vectors are in $\\mathbb{R}^2$ and we want a volume in $\\mathbb{R}^3$, we need to consider the vectors in $\\mathbb{R}^3$ by adding a third coordinate of 0: $$\\mathbf{v}_1 = [2, 1, 0], \\quad \\mathbf{v}_2 = [-1, 1, 0], \\quad \\mathbf{v}_3 = [1, 2, 0]$$\n",
        "$$V = \\left| \\begin{matrix} 2 & -1 & 1 \\\\ 1 & 1 & 2 \\\\ 0 & 0 & 0 \\end{matrix} \\right| = 0$$"
      ],
      "metadata": {
        "id": "VWDHoHmX-Vl2"
      }
    },
    {
      "cell_type": "markdown",
      "source": [
        "### Exercise D\n",
        "\n",
        ">D. Check if vectors $[2, 1]$ and $[-1, 1]$ are perpendicular.\n",
        "\n",
        "Vectors are perpendicular if their dot product is zero: $$[2,1] \\cdot [-1,1] = 2 \\cdot (-1) + 1 \\cdot 1 = -2 + 1 = -1$$Vectors are not perpendicular."
      ],
      "metadata": {
        "id": "fsai_-Ig-Xll"
      }
    },
    {
      "cell_type": "markdown",
      "source": [
        "### Exercise E\n",
        "\n",
        ">E. Calculate the angle in degrees between vectors $[4,2,1]$ and $[1,3,2]$.\n",
        "\n",
        "The angle between two vectors can be calculated using the following formula:\n",
        "\n",
        "$$\\cos \\theta = \\frac{\\mathbf{a} \\cdot \\mathbf{b}}{|\\mathbf{a}| |\\mathbf{b}|}$$\n",
        "\n",
        "First, calculate the dot product $\\mathbf{a}\\cdot \\mathbf{b}$: $$[4,2,1]\\cdot[1,3,2] = 4\\cdot1 + 2\\cdot3 + 1\\cdot2 = 4 + 6 + 2 = 12$$\n",
        "Then, calculate the magnitudes of both vectors:\n",
        "\n",
        "$$|\\mathbf{a}| = \\sqrt{ 4^2 + 2^2 + 1^2 } = \\sqrt{ 16 + 4 + 1 } = \\sqrt{ 21 }$$\n",
        "\n",
        "$$|\\mathbf{b}| = \\sqrt{ 1^2 + 3^2 + 2^2 } = \\sqrt{ 1 + 9 + 4 } = \\sqrt{ 14 }$$\n",
        "\n",
        "And then substitute the values into the formula:\n",
        "\n",
        "$$\\cos \\theta = \\frac{\\mathbf{a} \\cdot \\mathbf{b}}{|\\mathbf{a}| |\\mathbf{b}|} = \\frac{12}{\\sqrt{ 21 }\\cdot \\sqrt{ 14 }} = \\frac{12}{\\sqrt{ 294 }}\\approx \\frac{12}{17.146}\\approx0.6999$$\n",
        "\n",
        "Then $\\theta$ can be found using the inverse function of $\\cos\\theta$:\n",
        "\n",
        "$$\\theta=\\cos^{-1}{0.6999} \\approx\\boxed{45.581^\\circ}$$"
      ],
      "metadata": {
        "id": "wHjNoUlv-ZdV"
      }
    },
    {
      "cell_type": "markdown",
      "source": [
        "### Exercise F\n",
        "\n",
        "F. For three-dimensional vectors: $\\mathbf{a}=[a_x, a_y, a_z]$, $\\mathbf{b}=[b_x, b_y, b_z]$, $\\mathbf{c}=[c_x, c_y, c_z]$, prove that the following identity is satisfied:\n",
        "\n",
        "$$\\mathbf{a} \\times (\\mathbf{b} \\times \\mathbf{c}) = (\\mathbf{a} \\cdot \\mathbf{c}) \\mathbf{b} - (\\mathbf{a} \\cdot \\mathbf{b}) \\mathbf{c}.$$\n",
        "\n"
      ],
      "metadata": {
        "id": "yb9WVdTK-bbB"
      }
    }
  ]
}