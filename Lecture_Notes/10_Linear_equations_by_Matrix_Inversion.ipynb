{
  "nbformat": 4,
  "nbformat_minor": 0,
  "metadata": {
    "colab": {
      "provenance": [],
      "authorship_tag": "ABX9TyM0eyr8BrHirnbrPlCvskx2",
      "include_colab_link": true
    },
    "kernelspec": {
      "name": "python3",
      "display_name": "Python 3"
    },
    "language_info": {
      "name": "python"
    }
  },
  "cells": [
    {
      "cell_type": "markdown",
      "metadata": {
        "id": "view-in-github",
        "colab_type": "text"
      },
      "source": [
        "<a href=\"https://colab.research.google.com/github/itaeh-hue/Math-2024-25-Winter/blob/main/Lecture_Notes/Linear_Algebra/10_Linear_equations_by_Matrix_Inversion.ipynb\" target=\"_parent\"><img src=\"https://colab.research.google.com/assets/colab-badge.svg\" alt=\"Open In Colab\"/></a>"
      ]
    },
    {
      "cell_type": "markdown",
      "source": [
        "## Exercises\n",
        "\n",
        "1. Solve the system of linear equations using the inverse matrix method:\n",
        "\n",
        "$$\n",
        "\\begin{cases}\n",
        "x + 2y + 3z = 5, \\\\\n",
        "2y + 3z = 4, \\\\\n",
        "3z = 3.\n",
        "\\end{cases}\n",
        "$$\n",
        "\n",
        "2. Solve the system of linear equations using the inverse matrix method:\n",
        "\n",
        "$$\n",
        "\\begin{cases}\n",
        "x_1 + 2x_2 + 3x_3 = 41, \\\\\n",
        "4x_1 + 5x_2 + 6x_3 = 93, \\\\\n",
        "7x_1 + 8x_2 + 9x_3 = 145.\n",
        "\\end{cases}\n",
        "$$\n",
        "\n",
        "### Exercise 1\n",
        "\n",
        ">1. Solve the system of linear equations using the inverse matrix method: $$\n",
        "\\begin{cases}\n",
        "x + 2y + 3z = 5, \\\\\n",
        "2y + 3z = 4, \\\\\n",
        "3z = 3.\n",
        "\\end{cases}\n",
        "$$\n",
        "\n",
        "\n",
        "Given: $$\\begin{cases}\n",
        "x + 2y + 3z = 5 \\\\\n",
        "2y + 3z = 4 \\\\\n",
        "3z = 3\n",
        "\\end{cases}$$\n",
        "\n",
        "\n",
        "Can be represented as $\\mathbf{AX=B}$:\n",
        "\n",
        "$$\\begin{pmatrix}\n",
        "1 & 2 & 3 \\\\\n",
        "0 & 2 & 3 \\\\\n",
        "0 & 0 & 3\n",
        "\\end{pmatrix}\\begin{pmatrix}x \\\\ y \\\\ z\\end{pmatrix}=\\begin{pmatrix}5\\\\4\\\\3\\end{pmatrix}\\implies\\begin{pmatrix}x \\\\ y \\\\ z\\end{pmatrix}=\\begin{pmatrix}\n",
        "1 & 2 & 3 \\\\\n",
        "0 & 2 & 3 \\\\\n",
        "0 & 0 & 3\n",
        "\\end{pmatrix}^{-1}\\begin{pmatrix}5\\\\4\\\\3\\end{pmatrix}$$\n",
        "\n",
        "Calculate the inverse:\n",
        "\n",
        "$$\\begin{pmatrix}\n",
        "1 & 2 & 3 \\\\\n",
        "0 & 2 & 3 \\\\\n",
        "0 & 0 & 3\n",
        "\\end{pmatrix}^{-1}=\\begin{pmatrix}\n",
        "1 & -1 & 0 \\\\ 0 & \\frac{1}{2} & -\\frac{1}{2} \\\\ 0 & 0 & \\frac{1}{3}\n",
        "\\end{pmatrix}$$\n",
        "\n",
        "\n",
        "$$\\begin{pmatrix}\n",
        "1 & 2 & 3 \\\\\n",
        "0 & 2 & 3 \\\\\n",
        "0 & 0 & 3\n",
        "\\end{pmatrix}^{-1}\\begin{pmatrix}5\\\\4\\\\3\\end{pmatrix} = \\begin{pmatrix}\n",
        "1 & -1 & 0 \\\\ 0 & \\frac{1}{2} & -\\frac{1}{2} \\\\ 0 & 0 & \\frac{1}{3}\n",
        "\\end{pmatrix}\\begin{pmatrix}5\\\\4\\\\3\\end{pmatrix} = \\begin{pmatrix}1 \\\\\n",
        "\\frac{1}{2} \\\\\n",
        "1\n",
        "\\end{pmatrix}$$\n"
      ],
      "metadata": {
        "id": "LnoKqyaSXjUM"
      }
    },
    {
      "cell_type": "code",
      "source": [
        "import sympy as sp\n",
        "\n",
        "A = sp.Matrix([[1,2,3],[0,2,3],[0,0,3]])\n",
        "\n",
        "if (A.det()!=0):\n",
        "    print(f'The inverse of matrix A: {A.inv()}')"
      ],
      "metadata": {
        "colab": {
          "base_uri": "https://localhost:8080/"
        },
        "id": "RZGE96nSYC6O",
        "outputId": "7b03b031-b1a9-4ab7-9591-34c70b69b51a"
      },
      "execution_count": 7,
      "outputs": [
        {
          "output_type": "stream",
          "name": "stdout",
          "text": [
            "The inverse of matrix A: Matrix([[1, -1, 0], [0, 1/2, -1/2], [0, 0, 1/3]])\n"
          ]
        }
      ]
    },
    {
      "cell_type": "markdown",
      "source": [
        "\n",
        "### Exercise 2\n",
        "\n",
        ">2. Solve the system of linear equations using the inverse matrix method: $$\n",
        "\\begin{cases}\n",
        "x_1 + 2x_2 + 3x_3 = 41, \\\\\n",
        "4x_1 + 5x_2 + 6x_3 = 93, \\\\\n",
        "7x_1 + 8x_2 + 9x_3 = 145.\n",
        "\\end{cases}\n",
        "$$\n",
        "\n",
        "\n",
        "Given: $$\\begin{cases}\n",
        "x_1 + 2x_2 + 3x_3 = 41 \\\\\n",
        "4x_1 + 5x_2 + 6x_3 = 93 \\\\\n",
        "7x_1 + 8x_2 + 9x_3 = 145\n",
        "\\end{cases}$$\n",
        "\n",
        "Can be represented as $\\mathbf{AX=B}$:\n",
        "\n",
        "$$\\begin{pmatrix}\n",
        "1 & 2 & 3 \\\\\n",
        "4 & 5 & 6 \\\\\n",
        "7 & 8 & 9\n",
        "\\end{pmatrix}\\begin{pmatrix}x_{1} \\\\ x_{2} \\\\ x_{3}\\end{pmatrix}=\\begin{pmatrix}41\\\\93\\\\145\\end{pmatrix}\\implies\\begin{pmatrix}x_{1} \\\\ x_{2} \\\\ x_{3}\\end{pmatrix}=\\begin{pmatrix}\n",
        "1 & 2 & 3 \\\\\n",
        "4 & 5 & 6 \\\\\n",
        "7 & 8 & 9\n",
        "\\end{pmatrix}^{-1}\\begin{pmatrix}41\\\\93\\\\145\\end{pmatrix}$$\n",
        "\n",
        "\n",
        "This matrix is, however, not invertible, since its determinant equals zero. Therefore the system has no solutions.\n",
        "$$\\det\\begin{pmatrix}\n",
        "1 & 2 & 3 \\\\\n",
        "4 & 5 & 6 \\\\\n",
        "7 & 8 & 9\n",
        "\\end{pmatrix}=0$$\n"
      ],
      "metadata": {
        "id": "H1FvWx1hYAmX"
      }
    },
    {
      "cell_type": "code",
      "source": [
        "import sympy as sp\n",
        "\n",
        "B = sp.Matrix([[1,2,3],[4,5,6],[7,8,9]])\n",
        "\n",
        "print(f'The determinant of matrix B: {B.det()}')\n",
        "if (B.det()!=0):\n",
        "    print(f'The inverse of matrix B: {B.inv()}')"
      ],
      "metadata": {
        "colab": {
          "base_uri": "https://localhost:8080/"
        },
        "id": "sujiqHSFYFHG",
        "outputId": "cd7f3c3b-de08-4e13-f54a-d3fc316d982c"
      },
      "execution_count": 8,
      "outputs": [
        {
          "output_type": "stream",
          "name": "stdout",
          "text": [
            "The determinant of matrix B: 0\n"
          ]
        }
      ]
    }
  ]
}