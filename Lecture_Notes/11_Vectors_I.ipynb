{
  "nbformat": 4,
  "nbformat_minor": 0,
  "metadata": {
    "colab": {
      "provenance": [],
      "authorship_tag": "ABX9TyMAJDM8DWmtSZs6fg4mBspa",
      "include_colab_link": true
    },
    "kernelspec": {
      "name": "python3",
      "display_name": "Python 3"
    },
    "language_info": {
      "name": "python"
    }
  },
  "cells": [
    {
      "cell_type": "markdown",
      "metadata": {
        "id": "view-in-github",
        "colab_type": "text"
      },
      "source": [
        "<a href=\"https://colab.research.google.com/github/itaeh-hue/Math-2024-25-Winter/blob/main/Lecture_Notes/Linear_Algebra/11_Vectors_I.ipynb\" target=\"_parent\"><img src=\"https://colab.research.google.com/assets/colab-badge.svg\" alt=\"Open In Colab\"/></a>"
      ]
    },
    {
      "cell_type": "markdown",
      "source": [
        "## Exercises\n",
        "\n",
        "\n",
        "A. By what number should vector $\\mathbf{a} = [3, 4]$ be multiplied so that its length is equal to 1?\n",
        "\n",
        "B. Calculate the length of vector $\\mathbf{b} = [1, 1]$ and find the unit vector of this vector.\n",
        "\n",
        "C. Plot the vector and the unit vector from the previous exercise.\n",
        "\n",
        "D. Calculate the length of vector $\\mathbf{c} = [1, 2, 3]$ and find the unit vector of this vector.\n",
        "\n",
        "E. Find the Cartesian coordinates of vector $\\mathbf{v} = [2, 3, 4]$ in the basis $\\{\\mathbf{b_1} = [1, 0, 1], \\mathbf{b_2} = [0, 1, 0], \\mathbf{b_3} = [1, 0, -1]\\}$."
      ],
      "metadata": {
        "id": "1BwO9bfdUx5g"
      }
    },
    {
      "cell_type": "markdown",
      "source": [
        "### Exercise A\n",
        "\n",
        ">A. By what number should vector $\\mathbf{a} = [3, 4]$ be multiplied so that its length is equal to 1?\n",
        "\n",
        "The vector $\\mathbf{a}$ should be multiplied by its magnitude to make its length equal 1, e.g., to obtain a unit vector. The magnitude of the vector can be found by the Pythagorean theorem:\n",
        "\n",
        "$$\n",
        "|\\mathbf{a}| = \\sqrt{3^2 + 4^2} = \\sqrt{9 + 16} = \\sqrt{25} = 5\n",
        "$$\n",
        "\n",
        "Therefore, the unit vector can be found by dividing the vector by $5$:\n",
        "\n",
        "$$\\hat{\\mathbf{a}} = \\frac{\\mathbf{a}}{|\\mathbf{a}|} =\\left[ \\frac{3}{5}, \\frac{4}{5} \\right]$$\n",
        "\n",
        "### Exercise B\n",
        "\n",
        ">B. Calculate the length of vector $\\mathbf{b} = [1, 1]$ and find the unit vector of this vector.\n",
        "\n",
        "The magnitude of $\\mathbf{b}$:\n",
        "\n",
        "$$|\\mathbf{b}| = \\sqrt{1^2 + 1^2} = \\sqrt{2}$$\n",
        "\n",
        "The unit vector of $\\mathbf{b}$:\n",
        "\n",
        "$$\n",
        "\\hat{\\mathbf{b}} = \\frac{\\mathbf{b}}{|\\mathbf{b}|} = \\frac{[1,1]}{\\sqrt{ 2 }} = \\left[ \\frac{1}{\\sqrt{ 2 }} ,\\frac{1}{\\sqrt{ 2 }}\\right]  \n",
        "$$\n",
        "\n",
        "### Exercise C\n",
        "\n",
        ">C. Plot the vector and the unit vector from the previous exercise.\n"
      ],
      "metadata": {
        "id": "A4q2Pa7kU4Zu"
      }
    },
    {
      "cell_type": "code",
      "source": [
        "import matplotlib.pyplot as plt\n",
        "import math\n",
        "\n",
        "plt.figure()\n",
        "plt.quiver(0, 0, 1, 1, angles='xy', scale_units='xy', scale=1, color='r', label='Vector b = [1, 1]')\n",
        "magnitude_b = math.sqrt(2)\n",
        "b_xy = 1/magnitude_b\n",
        "plt.quiver(0, 0, b_xy, b_xy, angles='xy', scale_units='xy', scale=1, color='b', label='Unit Vector b-hat')\n",
        "\n",
        "plt.xlim(0, 2)\n",
        "plt.ylim(0, 2)\n",
        "plt.grid(True)\n",
        "plt.gca().set_aspect('equal')\n",
        "\n",
        "plt.show()"
      ],
      "metadata": {
        "colab": {
          "base_uri": "https://localhost:8080/",
          "height": 455
        },
        "id": "L_Xrwvy5Vc-_",
        "outputId": "09c77bb7-3885-4285-bd38-e928b77e4273"
      },
      "execution_count": 1,
      "outputs": [
        {
          "output_type": "display_data",
          "data": {
            "text/plain": [
              "<Figure size 640x480 with 1 Axes>"
            ],
            "image/png": "[encoded data removed]"
          },
          "metadata": {}
        }
      ]
    },
    {
      "cell_type": "markdown",
      "source": [
        "### Exercise D\n",
        "\n",
        ">D. Calculate the length of vector $\\mathbf{c} = [1, 2, 3]$ and find the unit vector of this vector.\n",
        "\n",
        "\n",
        "The length of vector $\\mathbf{c} = [1, 2, 3]$\n",
        "\n",
        "$$\n",
        "|c| = \\sqrt{ 1^2 + 2^2 + 3^2 } = \\sqrt{ 1 + 4 + 9 } = \\sqrt{ 14 }\n",
        "$$\n",
        "\n",
        "### Exercise E\n",
        "\n",
        ">E. Find the Cartesian coordinates of vector $\\mathbf{v} = [2, 3, 4]$ in the basis $\\{\\mathbf{b_1} = [1, 0, 1], \\mathbf{b_2} = [0, 1, 0], \\mathbf{b_3} = [1, 0, -1]\\}$.\n",
        "\n",
        "$\\mathbf{v} = [2,3,4]$ in the basis $\\{\\mathbf{b_1} = [1,0,1], \\mathbf{b_2} = [0,1,0], \\mathbf{b_3} = [1,0,-1]\\}$ is\n",
        "$$\n",
        "\\mathbf{v} = c_1 \\cdot \\mathbf{b_1} + c_2 \\cdot \\mathbf{b_2} + c_3 \\cdot \\mathbf{b_3} = 2 \\cdot [1,0,1] + 3 \\cdot [0,1,0] + 4 \\cdot [1,0,-1] = [2,0,2] + [0,3,0] + [4,0,-4] = [6,3,-2]\n",
        "$$\n"
      ],
      "metadata": {
        "id": "ea7NwmmlViEk"
      }
    }
  ]
}