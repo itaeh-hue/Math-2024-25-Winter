{
  "nbformat": 4,
  "nbformat_minor": 0,
  "metadata": {
    "colab": {
      "provenance": [],
      "authorship_tag": "ABX9TyNOFECB0CpGBgc964FOP769",
      "include_colab_link": true
    },
    "kernelspec": {
      "name": "python3",
      "display_name": "Python 3"
    },
    "language_info": {
      "name": "python"
    }
  },
  "cells": [
    {
      "cell_type": "markdown",
      "metadata": {
        "id": "view-in-github",
        "colab_type": "text"
      },
      "source": [
        "<a href=\"https://colab.research.google.com/github/itaeh-hue/Math-2024-25-Winter/blob/main/Lecture_Notes/23_Taylor_Series.ipynb\" target=\"_parent\"><img src=\"https://colab.research.google.com/assets/colab-badge.svg\" alt=\"Open In Colab\"/></a>"
      ]
    },
    {
      "cell_type": "markdown",
      "source": [
        "\n",
        "## Taylor Series\n",
        "\n",
        ">A Taylor series is an infinite sum of terms that are expressed in terms of a function’s derivatives at a single point.\n",
        "\n",
        "$$f(x)=\\sum_{n=0}^\\infty \\frac{f^{(n)}(a)}{n!}(x-a)^n$$\n",
        "- $f^{(n)}(a)$ represents the $n^{th}$ derivative of $f$ evaluated at the point $a$.\n",
        "## Exercises\n",
        "\n",
        "1. Find the Taylor series and visualize obtained functions in GeoGebra:\n",
        "   - $f(x) = \\cos(x)$ around $x = 0$ up to the 4th degree.\n",
        "   - $h(x) = 1/(1-x)$ around $x = 0$ up to the 4$^{th}$ degree.\n",
        "   - $g(x) = \\sin(x)$ around $x = \\pi$ up to the 4$^{th}$ degree.\n",
        "\n",
        "2. Find a tangent line $y = f'(x_0) (x-x_0) + f(x_0)$ to the function $f(x) = e^{\\sin(x)}$ at $x_0 = \\pi$. Hints for GeoGebra visualization: define f(x), include slider s, define y = f'(s) (x-s) + f(s), and include point P(s, f(s)).\n",
        "\n",
        "\n",
        "### Exercise 1\n",
        "\n",
        ">1. Find the Taylor series and visualize obtained functions in GeoGebra:\n",
        "   - $f(x) = \\cos(x)$ around $x = 0$ up to the 4th degree.\n",
        "   - $h(x) = \\frac{1}{(1-x)}$ around $x = 0$ up to the 4$^{th}$ degree.\n",
        "   - $g(x) = \\sin(x)$ around $x = \\pi$ up to the 4$^{th}$ degree.\n",
        "\n",
        "[GeoGebra link!](https://www.geogebra.org/calculator/dbjtwfhs)\n",
        "#### 1.  $f(x) = \\cos(x)$\n",
        "\n",
        "Taylor series, where $a=0$ (Maclaurin):\n",
        "$f(a)=\\cos(a)=\\frac{f(a)}{0!}(x-a)^0+\\frac{f'(a)}{1!}(x-a)^1+\\frac{f''(a)}{2!}(x-a)^2+\\frac{f^{(3)}(a)}{3!}(x-a)^3+\\frac{f^{(4)}(a)}{4!}(x-a)^4$\n",
        "Simplifying:\n",
        "\n",
        "$f(0)+f'(0)x+\\frac{f''(0)}{2}x^2+\\frac{f^{(3)}(0)}{6}x^3+\\frac{f^{(4)}(0)}{24}x^4$\n",
        "\n",
        "Expanding function:\n",
        "\n",
        "$\\cos0 + (-\\sin 0)x+\\frac{-\\cos 0}{2}x^2+\\frac{\\sin 0}{6}x^3+\\frac{{\\cos 0}}{24}x^4$\n",
        "\n",
        "Evaluating functions:\n",
        "\n",
        "$1 + 0 + \\left( -\\frac{1}{2} \\right)x^2+0+\\left( \\frac{1}{24} \\right)x^4=1-\\frac{1}{2}x^2+\\frac{1}{24}x^4$\n",
        "\n",
        "\n",
        "Therefore:\n",
        "\n",
        "$$\\cos(x)\\approx1-\\frac{1}{2}x^2+\\frac{1}{24}x^4$$\n",
        "#### 2. $h(x) = \\frac{1}{(1-x)}$\n",
        "\n",
        "Taylor series, where $a=0$ (Maclaurin):\n",
        "\n",
        "$f(0) \\approx f(0)+f'(0)x+\\frac{f''(0)}{2}x^2+\\frac{f^{(3)}(0)}{6}x^3+\\frac{f^{(4)}(0)}{24}x^4$\n",
        "\n",
        "$h(0) \\approx 1 + x + x^2 + x^3 + x^4$\n",
        "\n",
        "#### 3. $g(x) = \\sin(x)$\n",
        "\n",
        "- $g(\\pi) = \\sin(\\pi) = 0$\n",
        "- $g'(\\pi) = \\cos(\\pi) = -1$\n",
        "- $g''(\\pi) = -\\sin(\\pi) = 0$\n",
        "- $g'''(\\pi) = -\\cos(\\pi) = 1$\n",
        "- $g^{(4)}(\\pi) = \\sin(\\pi) = 0$\n",
        "\n",
        "$$\n",
        "g(x) \\approx 0 - 1(x - \\pi) + 0 + \\frac{1}{6}(x - \\pi)^3 + 0\n",
        "$$\n",
        "\n",
        "$$\n",
        "g(x) \\approx - (x - \\pi) + \\frac{(x - \\pi)^3}{6}\n",
        "$$\n",
        "\n",
        "### Exercise 2\n",
        "\n",
        "\n",
        ">2. Find a tangent line $y = f'(x_0) (x-x_0) + f(x_0)$ to the function $f(x) = e^{\\sin(x)}$ at $x_0 = \\pi$. Hints for GeoGebra visualization: define $f(x)$, include slider $s$, define $y = f'(s) (x-s) + f(s)$, and include point $P(s, f(s))$.\n",
        "\n",
        "[GeoGebra link!](https://www.geogebra.org/calculator/kppjpaza)\n",
        "\n",
        "$f(\\pi)=e^0=1$\n",
        "Calculating the first derivative:\n",
        "\n",
        "$f'(x)=(e^{\\sin (x)})'=e^{\\sin (x)}\\cos (x)$\n",
        "\n",
        "At $x_{0}=\\pi$:\n",
        "\n",
        "$f'(\\pi)=e^{\\sin (\\pi)}\\cos (\\pi)=e^0(-1)=-1$\n",
        "\n",
        "Then the tangent line:\n",
        "\n",
        "$y = f'(x_0) (x-x_0) + f(x_0)=-2(x-\\pi)+1$\n",
        "\n"
      ],
      "metadata": {
        "id": "ElRrulnjgEac"
      }
    }
  ]
}