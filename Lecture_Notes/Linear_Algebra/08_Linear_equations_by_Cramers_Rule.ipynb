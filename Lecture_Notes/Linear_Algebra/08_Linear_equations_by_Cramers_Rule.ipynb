{
  "nbformat": 4,
  "nbformat_minor": 0,
  "metadata": {
    "colab": {
      "provenance": [],
      "authorship_tag": "ABX9TyPIW3nsbzlvJCFHh19zTp0K",
      "include_colab_link": true
    },
    "kernelspec": {
      "name": "python3",
      "display_name": "Python 3"
    },
    "language_info": {
      "name": "python"
    }
  },
  "cells": [
    {
      "cell_type": "markdown",
      "metadata": {
        "id": "view-in-github",
        "colab_type": "text"
      },
      "source": [
        "<a href=\"https://colab.research.google.com/github/itaeh-hue/Math-2024-25-Winter/blob/main/Lecture_Notes/Linear_Algebra/08_Linear_equations_by_Cramers_Rule.ipynb\" target=\"_parent\"><img src=\"https://colab.research.google.com/assets/colab-badge.svg\" alt=\"Open In Colab\"/></a>"
      ]
    },
    {
      "cell_type": "markdown",
      "source": [
        "---\n",
        "\n",
        "## Exercises\n",
        "\n",
        "1. Solve the system of equations:\n",
        "   $$\n",
        "   \\begin{cases}\n",
        "   2x_1 - 3x_2 = 7 \\\\\n",
        "   3x_1 + 5x_2 = 2\n",
        "   \\end{cases}\n",
        "   $$\n",
        "\n",
        "2. Solve the system of equations:\n",
        "   $$\n",
        "   \\begin{cases}\n",
        "   2x + y - z = 1 \\\\\n",
        "   x - y + 2z = 4 \\\\\n",
        "   3x - 2z = -1\n",
        "   \\end{cases}\n",
        "   $$\n",
        "\n",
        "3. Solve the system of equations:\n",
        "   $$\n",
        "   \\begin{cases}\n",
        "   x + y + z - t = 2 \\\\\n",
        "   x - z + 2t = 6 \\\\\n",
        "   2x - 3y + t = 4 \\\\\n",
        "   3x + y + 3z - 4t = -2\n",
        "   \\end{cases}\n",
        "   $$\n",
        "\n",
        "4. Why can't the following system of equations be solved using Cramer's rule?\n",
        "$$\n",
        "\\begin{cases}\n",
        "x_1 + 2x_2 + 3x_3 = 3 \\\\\n",
        "4x_1 + 5x_2 + 6x_3 = 2 \\\\\n",
        "7x_1 + 8x_2 + 9x_3 = 1\n",
        "\\end{cases}\n",
        "$$"
      ],
      "metadata": {
        "id": "jcmxzv1LllQp"
      }
    },
    {
      "cell_type": "markdown",
      "source": [
        "### Exercise 1\n",
        "\n",
        "$$\\begin{cases}\n",
        "2x_1 - 3x_2 = 7 \\\\\n",
        "3x_1 + 5x_2 = 2\n",
        "\\end{cases}\n",
        "$$\n",
        "\n",
        "$$\\det(A) = \\det \\begin{pmatrix}\n",
        "2 & -3 \\\\\n",
        "3 & 5\n",
        "\\end{pmatrix} = 10 + 9 = 19\n",
        "$$\n",
        "\n",
        "$$\n",
        "\\det(A_{1}) = \\det\\begin{pmatrix}\n",
        "7 & -3 \\\\\n",
        "2 & 5\n",
        "\\end{pmatrix} = 35 + 6 = 41\n",
        "$$\n",
        "\n",
        "$$\n",
        "\\det(A_{2}) = \\det\\begin{pmatrix}\n",
        "2 & 7 \\\\\n",
        "3 & 2\n",
        "\\end{pmatrix} = 4 - 21 = -17\n",
        "$$\n",
        "\n",
        "$$\n",
        "x_{1} = \\frac{\\det(A_{1})}{\\det(A)} = \\frac{42}{19}\n",
        "$$\n",
        "\n",
        "$$\n",
        "x_{2} = \\frac{\\det(A_{2})}{\\det(A)} = -\\frac{17}{19}\n",
        "$$\n",
        "\n",
        "### Exercise 2\n",
        "\n",
        "$$\\begin{cases}\n",
        "2x + y - z = 1 \\\\\n",
        "x - y + 2z = 4 \\\\\n",
        "3x - 2z = -1\n",
        "\\end{cases}\n",
        "$$\n",
        "\n",
        "\n",
        "According to the Cramer's rule, the solutions to the system of linear equations is as follows:\n",
        "$$\n",
        "x_1 = \\frac{\\det(A_1)}{\\det(A)} \\quad x_2 = \\frac{\\det(A_2)}{\\det(A)} \\quad x_3 = \\frac{\\det(A_3)}{\\det(A)}\n",
        "$$\n",
        "\n",
        "We can rewrite the system as follows:\n",
        "$$\n",
        "\\begin{bmatrix}\n",
        "2 & 1 & -1 \\\\\n",
        " 1 & -1 & 2 \\\\\n",
        " 3 & 0 & -2  \\\\\n",
        "\\end{bmatrix} \\begin{bmatrix}\n",
        "x \\\\\n",
        "y \\\\\n",
        "z \\\\\n",
        "\\end{bmatrix} = \\begin{bmatrix} 1 \\\\ 4 \\\\ -1 \\end{bmatrix}\n",
        "$$\n",
        "\n",
        "Where\n",
        "\n",
        "$$\n",
        "B = \\begin{bmatrix} 1 \\\\ 4 \\\\ -1 \\end{bmatrix}\n",
        "$$\n",
        "\n",
        "Coefficient Matrix:\n",
        "\n",
        "$$\n",
        "\\det(A) = \\det \\begin{bmatrix}\n",
        "2 & 1 & -1  \\\\\n",
        "1 & -1 & 2  \\\\\n",
        "3 & 0 & -2\n",
        "\\end{bmatrix} = -1\n",
        "$$\n",
        "\n",
        "\n"
      ],
      "metadata": {
        "id": "81FnaoSxvPKT"
      }
    },
    {
      "cell_type": "code",
      "source": [
        "import sympy as sp\n",
        "\n",
        "A = sp.Matrix([\n",
        "\t\t\t   [2,-1,1],\n",
        "\t\t\t   [1,-1,2],\n",
        "\t\t\t   [3,0,-2]\n",
        "])\n",
        "A.det()"
      ],
      "metadata": {
        "id": "MTx-ukl6vRr9"
      },
      "execution_count": null,
      "outputs": []
    },
    {
      "cell_type": "markdown",
      "source": [
        "Substituting the first row with the $B$ vector:\n",
        "\n",
        "$$\\det(A_{1}) = \\det \\begin{bmatrix}\n",
        "1 & 2 & 1 \\\\\n",
        "4 & 1 & -1 \\\\\n",
        "-1 & 3 & 0\n",
        "\\end{bmatrix} = 18\n",
        "$$"
      ],
      "metadata": {
        "id": "QUqFa_auvVt8"
      }
    },
    {
      "cell_type": "code",
      "source": [
        "import sympy as sp\n",
        "\n",
        "A1 = sp.Matrix([\n",
        "\t\t\t   [1,2,1],\n",
        "\t\t\t   [4,1,-1],\n",
        "\t\t\t   [-1,3,0]\n",
        "])\n",
        "A1.det()"
      ],
      "metadata": {
        "id": "fv0HJOZhvXZX"
      },
      "execution_count": null,
      "outputs": []
    },
    {
      "cell_type": "markdown",
      "source": [
        "\n",
        "Substituting the second row with the $B$ vector:\n",
        "$$\n",
        "\\det(A_{2}) = \\det \\begin{bmatrix}\n",
        "2 & 1 & -1 \\\\\n",
        "1 & 4 & 2 \\\\\n",
        "3 & -1 & -2\n",
        "\\end{bmatrix} = 9\n",
        "$$\n",
        "\n"
      ],
      "metadata": {
        "id": "RCz8iElRvZDq"
      }
    },
    {
      "cell_type": "code",
      "source": [
        "import sympy as sp\n",
        "\n",
        "A2 = sp.Matrix([\n",
        "\t\t\t   [2,1,-1],\n",
        "\t\t\t   [1,4,2],\n",
        "\t\t\t   [3,-1,-2]\n",
        "])\n",
        "A2.det()"
      ],
      "metadata": {
        "id": "68tCRQXTvgtW"
      },
      "execution_count": null,
      "outputs": []
    },
    {
      "cell_type": "markdown",
      "source": [
        "Substituting the third row with the $B$ vector:\n",
        "\n",
        "$$\n",
        "\\det(A_{3}) = \\det \\begin{bmatrix}\n",
        "2 & 1 & 1 \\\\\n",
        "1 & -1 & 4 \\\\\n",
        "3 & 0 & -1\n",
        "\\end{bmatrix} = 18\n",
        "$$\n"
      ],
      "metadata": {
        "id": "bUF2ks-DvjQY"
      }
    },
    {
      "cell_type": "code",
      "source": [
        "import sympy as sp\n",
        "\n",
        "A3 = sp.Matrix([\n",
        "\t\t\t   [2,1,1],\n",
        "\t\t\t   [1,-1,4],\n",
        "\t\t\t   [3,0,-1]\n",
        "])\n",
        "A3.det()"
      ],
      "metadata": {
        "colab": {
          "base_uri": "https://localhost:8080/",
          "height": 57
        },
        "id": "FYmQUZ85vlgc",
        "outputId": "3693b76e-a832-4d3f-f3b9-a186fc0e5a54"
      },
      "execution_count": 1,
      "outputs": [
        {
          "output_type": "execute_result",
          "data": {
            "text/plain": [
              "18"
            ],
            "text/latex": "$\\displaystyle 18$"
          },
          "metadata": {},
          "execution_count": 1
        }
      ]
    },
    {
      "cell_type": "markdown",
      "source": [
        "\n",
        "$$\n",
        "\\det(A) = -1, \\space\n",
        "\\det(A_{1}) = 18, \\space\n",
        "\\det(A_{2}) = 9, \\space\n",
        "\\det(A_{3}) = 18\n",
        "$$\n",
        "\n",
        "$$\n",
        "x_1 = \\frac{\\det(A_1)}{\\det(A)} \\quad x_2 = \\frac{\\det(A_2)}{\\det(A)} \\quad x_3 = \\frac{\\det(A_3)}{\\det(A)}\n",
        "$$\n",
        "$$\n",
        "x_1 = \\frac{\\det(A_1)}{\\det(A)} \\quad = \\frac{18}{-1} = -18\n",
        "$$\n",
        "$$\n",
        "x_2 = \\frac{\\det(A_2)}{\\det(A)} \\quad = \\frac{9}{-1} = -9\n",
        "$$\n",
        "\n",
        "$$\n",
        "x_3 = \\frac{\\det(A_3)}{\\det(A)} \\quad = \\frac{18}{-1} = -18\n",
        "$$\n",
        "\n",
        "\n",
        "### Exercise 3\n",
        "$$\\begin{cases}\n",
        "   x + y + z - t = 2 \\\\\n",
        "   x - z + 2t = 6 \\\\\n",
        "   2x - 3y + t = 4 \\\\\n",
        "   3x + y + 3z - 4t = -2\n",
        "   \\end{cases}$$\n",
        "We can rewrite this in the following form:\n",
        "\n",
        "$$\\begin{bmatrix}\n",
        "1 & 1 & 1 & -1\\\\\n",
        "1 & 0 & -1 & 2\\\\\n",
        "2 & -3 & 0 & 1 \\\\\n",
        "3 & 1 & 3 & -4\n",
        "\\end{bmatrix} \\begin{bmatrix}\n",
        "x \\\\\n",
        "y \\\\\n",
        "z \\\\\n",
        "t\n",
        "\\end{bmatrix} = \\begin{bmatrix} 2 \\\\ 6 \\\\ 4 \\\\ -2 \\end{bmatrix}\n",
        "$$\n",
        "Where the solution vector $B$ is:\n",
        "\n",
        "$$\n",
        "B = \\begin{bmatrix} 2 \\\\ 6 \\\\ 4 \\\\ -2 \\end{bmatrix}\n",
        "$$\n",
        "\n",
        "$$x_1 = \\frac{\\det(A_1)}{\\det(A)} \\quad x_2 = \\frac{\\det(A_2)}{\\det(A)} \\quad x_3 = \\frac{\\det(A_3)}{\\det(A)} \\quad x_4 = \\frac{\\det(A_4)}{\\det(A)}$$\n",
        "\n",
        "\n",
        "Coefficient matrix:\n",
        "\n",
        "$$\\det(A) = \\det\\begin{bmatrix}\n",
        "1 & 1 & 1 & -1\\\\\n",
        "1 & 0 & -1 & 2\\\\\n",
        "2 & -3 & 0 & 1 \\\\\n",
        "3 & 1 & 3 & -4\n",
        "\\end{bmatrix}\n",
        "= 8\n",
        "$$\n"
      ],
      "metadata": {
        "id": "CVIvxywkvoNL"
      }
    },
    {
      "cell_type": "code",
      "source": [
        "import sympy as sp\n",
        "\n",
        "A = sp.Matrix([\n",
        "\t\t\t   [1, 1, 1, -1],\n",
        "\t\t\t   [1, 0, -1, 2],\n",
        "\t\t\t   [2, -3, 0, 1],\n",
        "\t\t\t   [3, 1, 3, -4]\n",
        "])\n",
        "A.det()"
      ],
      "metadata": {
        "id": "uXom1SAUvuLp"
      },
      "execution_count": null,
      "outputs": []
    },
    {
      "cell_type": "markdown",
      "source": [
        "Substituting the first row with the $B$ vector:\n",
        "\n",
        "$$\n",
        "A_{1} = \\det\\begin{bmatrix}\n",
        "2 & 1 & 1 & -1\\\\\n",
        "6 & 0 & -1 & 2\\\\\n",
        "4 & -3 & 0 & 1 \\\\\n",
        "-2 & 1 & 3 & -4\n",
        "\\end{bmatrix} = 20\n",
        "$$"
      ],
      "metadata": {
        "id": "SlWHzyv7vw55"
      }
    },
    {
      "cell_type": "code",
      "source": [
        "import sympy as sp\n",
        "\n",
        "\n",
        "b = sp.Matrix([2, 6, 4, 2])\n",
        "\n",
        "A1 = A.copy()\n",
        "A1[:, 0] = b\n",
        "A1.det()"
      ],
      "metadata": {
        "id": "ESqp0ZY3v3lA"
      },
      "execution_count": null,
      "outputs": []
    },
    {
      "cell_type": "markdown",
      "source": [
        "Substituting the second row with the $B$ vector:\n",
        "$$\\det(A_{2}) = \\det\\begin{bmatrix}\n",
        "1 & 2 & 1 & -1\\\\\n",
        "1 & 6 & -1 & 2\\\\\n",
        "2 & 4 & 0 & 1 \\\\\n",
        "3 & -2 & 3 & -4\n",
        "\\end{bmatrix}\n",
        "= 8\n",
        "$$"
      ],
      "metadata": {
        "id": "P2MAwKYzv6Ju"
      }
    },
    {
      "cell_type": "code",
      "source": [
        "import sympy as sp\n",
        "\n",
        "b = sp.Matrix([2, 6, 4, 2])\n",
        "\n",
        "A2 = A.copy()\n",
        "A2[:, 1] = b\n",
        "A2.det()"
      ],
      "metadata": {
        "id": "pfSQu4qTv8fY"
      },
      "execution_count": null,
      "outputs": []
    },
    {
      "cell_type": "markdown",
      "source": [
        "Substituting the third row with the $B$ vector:\n",
        "$$\\det(A_{3}) = \\det\\begin{bmatrix}\n",
        "1 & 1 & 2 & -1\\\\\n",
        "1 & 0 & 6 & 2\\\\\n",
        "2 & -3 & 4 & 1 \\\\\n",
        "3 & 1 & -2 & -4\n",
        "\\end{bmatrix}\n",
        "= 4\n",
        "$$"
      ],
      "metadata": {
        "id": "k4H7UQ73v-V1"
      }
    },
    {
      "cell_type": "code",
      "source": [
        "import sympy as sp\n",
        "\n",
        "b = sp.Matrix([2, 6, 4, 2])\n",
        "\n",
        "A3 = A.copy()\n",
        "A3[:, 2] = b\n",
        "\n",
        "A3.det()"
      ],
      "metadata": {
        "id": "tFkP2urXwACY"
      },
      "execution_count": null,
      "outputs": []
    },
    {
      "cell_type": "markdown",
      "source": [
        "Substituting the fourth row with the $B$ vector:\n",
        "$$\\det(A_{4}) = \\det\\begin{bmatrix}\n",
        "1 & 1 & 1 & 2\\\\\n",
        "1 & 0 & -1 & 6\\\\\n",
        "2 & -3 & 0 & 4 \\\\\n",
        "3 & 1 & 3 & -2\n",
        "\\end{bmatrix}\n",
        "= 16\n",
        "$$"
      ],
      "metadata": {
        "id": "xkIzy0hkwBz4"
      }
    },
    {
      "cell_type": "code",
      "source": [
        "import sympy as sp\n",
        "\n",
        "b = sp.Matrix([2, 6, 4, 2])\n",
        "\n",
        "A4 = A.copy()\n",
        "A4[:, 3] = b\n",
        "A4.det()"
      ],
      "metadata": {
        "id": "FUjGGv6SwDWy"
      },
      "execution_count": null,
      "outputs": []
    },
    {
      "cell_type": "markdown",
      "source": [
        "\n",
        "$$\n",
        "\\det(A) = 8, \\space\n",
        "\\det(A_{1}) = 20, \\space\n",
        "\\det(A_{2}) = 8, \\space\n",
        "\\det(A_{3}) = 4, \\space\n",
        "\\det(A_{4}) = 16\n",
        "$$\n",
        "\n",
        "$$\n",
        "x_1 = \\frac{\\det(A_1)}{\\det(A)} = \\frac{20}{8} = 2.5 \\quad x_2 = \\frac{\\det(A_2)}{\\det(A)} = \\frac{8}{8} = 1 \\quad x_3 = \\frac{\\det(A_3)}{\\det(A)} = \\frac{4}{8} = 0.5 \\quad x_4 = \\frac{\\det(A_4)}{\\det(A)} = \\frac{16}{8}\n",
        "$$\n",
        "\n",
        "## Exercise 4\n",
        "\n",
        "Why can't the following system of equations be solved using Cramer's rule?\n",
        "$$\n",
        "\\begin{cases}\n",
        "x_1 + 2x_2 + 3x_3 = 3 \\\\\n",
        "4x_1 + 5x_2 + 6x_3 = 2 \\\\\n",
        "7x_1 + 8x_2 + 9x_3 = 1\n",
        "\\end{cases}\n",
        "$$\n",
        "\n",
        "The Cramer's rule requires that the coefficient matrix of the system of equation is invertible. This happens if and only if the determinant of this matrix is zero. However, if we calculate the determinant, we see that the matrix is not invertible:\n",
        "\n",
        "\n",
        "$$\\det\\begin{bmatrix}\n",
        "1 & 2 & 3 \\\\ 4 & 5 & 6 \\\\ 7 & 8 & 9\n",
        "\\end{bmatrix} = 1(5 \\cdot 9 - 6 \\cdot 8) - 2 ( 4 \\cdot 9 - 6 \\cdot 7) + 3 (4 \\cdot 8 - 7 \\cdot 5) = (45 - 48) - 2(36 - 42) + 3(32 - 35) = -3 - 2(-6) + 3(-3) = -3 + 12 - 9 = 0$$\n"
      ],
      "metadata": {
        "id": "DPmmL8M9wE_i"
      }
    }
  ]
}