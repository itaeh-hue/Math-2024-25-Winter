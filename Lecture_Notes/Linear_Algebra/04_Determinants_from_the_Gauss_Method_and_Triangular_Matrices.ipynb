{
  "nbformat": 4,
  "nbformat_minor": 0,
  "metadata": {
    "colab": {
      "provenance": [],
      "authorship_tag": "ABX9TyNb6YZduceg4VnuGOVJCJsn",
      "include_colab_link": true
    },
    "kernelspec": {
      "name": "python3",
      "display_name": "Python 3"
    },
    "language_info": {
      "name": "python"
    }
  },
  "cells": [
    {
      "cell_type": "markdown",
      "metadata": {
        "id": "view-in-github",
        "colab_type": "text"
      },
      "source": [
        "<a href=\"https://colab.research.google.com/github/itaeh-hue/Math-2024-25-Winter/blob/main/Lecture_Notes/Linear_Algebra/04_Determinants_from_the_Gauss_Method_and_Triangular_Matrices.ipynb\" target=\"_parent\"><img src=\"https://colab.research.google.com/assets/colab-badge.svg\" alt=\"Open In Colab\"/></a>"
      ]
    },
    {
      "cell_type": "markdown",
      "source": [
        "## Determinants of triangular matrices\n",
        "\n",
        ">A triangular matrix is a square matrix in which all elements above or below the main diagonal are zeros.\n",
        "---\n",
        ">An upper triangular matrix is a triangular matrix those entries below the main diagonal are zeroes (i.e., all non-zero entries are above the main diagonal).\n",
        "\n",
        "$$U = \\begin{bmatrix}\n",
        "  u_{1,1} & u_{1,2} & u_{1,3} & \\ldots &   u_{1,n} \\\\\n",
        "        0 & u_{2,2} & u_{2,3} & \\ldots &   u_{2,n} \\\\\n",
        "   \\vdots &       0 &  \\ddots & \\ddots &    \\vdots \\\\\n",
        "        0 &       0 &       0 & \\ddots & u_{n-1,n} \\\\\n",
        "        0 &       0 &   \\dots &      0 &   u_{n,n}\n",
        "\\end{bmatrix}$$\n",
        "---\n",
        ">A lower triangular matrix is a triangular matrix those entries above the main diagonal are zeroes (i.e., all non-zero entries are below the main diagonal).\n",
        "\n",
        "\n",
        "$$L =\\begin{bmatrix}\n",
        "  \\ell_{1,1} &          0 & \\ldots &            0 &          0 \\\\\n",
        "  \\ell_{2,1} & \\ell_{2,2} &      0 &            0 &          0 \\\\\n",
        "  \\ell_{3,1} & \\ell_{3,2} & \\ddots &            0 &          \\vdots \\\\\n",
        "      \\vdots &     \\vdots & \\ddots &       \\ddots &          0 \\\\\n",
        "  \\ell_{n,1} & \\ell_{n,2} & \\ldots & \\ell_{n,n-1} & \\ell_{n,n}\n",
        "\\end{bmatrix}$$\n",
        "---\n",
        "\n",
        "Triangular matrices, either upper or lower, have a unique property when it comes to calculating their determinant. The determinant of a triangular matrix is equal to the product of its diagonal entries.\n",
        "It becomes obvious when we try to calculate the determinant of a triangular matrix using Laplace expansion. Any co-factor expansion, either along rows or columns of the matrix, yields the product of the diagonal entries.\n",
        "\n",
        "This fact can be proven by induction. I found one here: https://proofwiki.org/wiki/Determinant_of_Upper_Triangular_Matrix.\n",
        "\n",
        ">If $A$ is a triangular matrix, then $\\det A$ is the product of the entries on the main diagonal of $A$.\n",
        "\n",
        "\n",
        ">Any square matrix can be reduced to a triangular form using Gaussian elimination.\n",
        "\n",
        "This means that we can calculate the determinant of any square matrix by first reducing it to a triangular one using Gaussian elimination method, and then just calculating the product of its diagonal entries.\n",
        "\n"
      ],
      "metadata": {
        "id": "gQOSw1-_hXha"
      }
    },
    {
      "cell_type": "markdown",
      "source": [
        "## Exercises\n",
        "\n",
        "Perform row and column operations to reduce the following matrices to an upper triangular form and calculate their determinants by taking the product of the diagonal elements.\n",
        "\n",
        "$$\n",
        "\\mathbf{A} = \\begin{bmatrix}\n",
        "12 & 3 \\\\\n",
        "-18 & -4\n",
        "\\end{bmatrix}\\qquad\\qquad\n",
        "\\mathbf{B} = \\begin{bmatrix}\n",
        "1 & 2 & 3 \\\\\n",
        "4 & 5 & 6 \\\\\n",
        "7 & 8 & 9\n",
        "\\end{bmatrix}\n",
        "$$\n",
        "\n"
      ],
      "metadata": {
        "id": "E_AkZD0lhbhk"
      }
    },
    {
      "cell_type": "markdown",
      "source": [
        "### Exercise 1\n",
        "\n",
        "We need to reduce the matrix $\\mathbf{A}$ to an upper triangular one, and then calculate its determinant by multiplying its diagonal entries together.\n",
        "\n",
        "$$\\mathbf{A} = \\begin{bmatrix}\n",
        "12 & 3 \\\\\n",
        "-18 & -4\n",
        "\\end{bmatrix}$$\n",
        "\n",
        "To turn $\\mathbf{A}$ to an upper triangular matrix, we only need to get rid of this $-18$ in the second row:\n",
        "\n",
        "$$\\begin{bmatrix}\n",
        "12 & 3 \\\\\n",
        "-18 & -4\n",
        "\\end{bmatrix}R_{2}+\\frac{3}{2}R_{1}\\implies\\begin{bmatrix}\n",
        "12 & 3 \\\\\n",
        "0 & \\frac{1}{2}\n",
        "\\end{bmatrix}$$\n",
        "\n",
        "$$\\begin{bmatrix}\n",
        "12 & 3 \\\\\n",
        "-18 & -4\n",
        "\\end{bmatrix} \\frac{R_{1}}{3};\\frac{R_{2}}{2} \\implies \\begin{bmatrix}\n",
        "4 & 1 \\\\\n",
        "-9 & -2\n",
        "\\end{bmatrix}R_{2}+2R_{1}\\implies\\begin{bmatrix}\n",
        "4 & 1 \\\\\n",
        "-1 & 0\n",
        "\\end{bmatrix}R_{2}+\\frac{1}{4}R_{1}\\implies\\begin{bmatrix}\n",
        "4 & 1 \\\\\n",
        "0 & \\frac{1}{4}\n",
        "\\end{bmatrix}$$\n",
        "\n",
        "Then, inter-multiplying entries of the main diagonal of $\\mathbf{A}$, we get:\n",
        "\n",
        "$$\\det \\mathbf{A} = 12 \\cdot \\frac{1}{2} = 6$$\n",
        "\n"
      ],
      "metadata": {
        "id": "NOU8PWelhf4H"
      }
    },
    {
      "cell_type": "code",
      "source": [
        "import sympy as sp\n",
        "\n",
        "A = sp.Matrix([[12,3],[-18,-4]])\n",
        "A.det()\n"
      ],
      "metadata": {
        "colab": {
          "base_uri": "https://localhost:8080/",
          "height": 57
        },
        "id": "A9xOIWs0hg_x",
        "outputId": "e683ef00-7f5f-4806-a606-04be34cfde1f"
      },
      "execution_count": 2,
      "outputs": [
        {
          "output_type": "execute_result",
          "data": {
            "text/plain": [
              "6"
            ],
            "text/latex": "$\\displaystyle 6$"
          },
          "metadata": {},
          "execution_count": 2
        }
      ]
    },
    {
      "cell_type": "markdown",
      "source": [
        "### Exercise 2\n",
        "\n",
        "As for the matrix $\\mathbf{B} = \\begin{bmatrix} 1 & 2 & 3 \\\\4 & 5 & 6 \\\\7 & 8 & 9 \\end{bmatrix}$, we perform the following operations to reduce it to the upper triangular matrix:\n",
        "\n",
        "\n",
        "$$\\begin{bmatrix}\n",
        "1 & 2 & 3 \\\\\n",
        "4 & 5 & 6 \\\\\n",
        "7 & 8 & 9\n",
        "\\end{bmatrix}R_{2}-4R_{1}\\implies\\begin{bmatrix}\n",
        "1 & 2 & 3 \\\\\n",
        "0 & -3 & -6 \\\\\n",
        "7 & 8 & 9\n",
        "\\end{bmatrix}R_{3}-7R_{1}\\implies \\begin{bmatrix}\n",
        "1 & 2 & 3 \\\\\n",
        "0 & -3 & -6 \\\\\n",
        "0 & -6 & -12\n",
        "\\end{bmatrix}R_{3}-2R_{2} \\implies \\begin{bmatrix}\n",
        "1 & 2 & 3 \\\\\n",
        "0 & -3 & -6 \\\\\n",
        "0 & 0 & 0\n",
        "\\end{bmatrix}$$\n",
        "\n",
        "Therefore, $$\\det \\mathbf{B} = 1 \\cdot (-3) \\cdot 0 = 0$$"
      ],
      "metadata": {
        "id": "wbMydtIfhjjT"
      }
    },
    {
      "cell_type": "code",
      "source": [
        "import sympy as sp\n",
        "\n",
        "B = sp.Matrix([[1,2,3],[4,5,6],[7,8,9]])\n",
        "B.det()"
      ],
      "metadata": {
        "id": "l5a1NsZcho28"
      },
      "execution_count": null,
      "outputs": []
    }
  ]
}