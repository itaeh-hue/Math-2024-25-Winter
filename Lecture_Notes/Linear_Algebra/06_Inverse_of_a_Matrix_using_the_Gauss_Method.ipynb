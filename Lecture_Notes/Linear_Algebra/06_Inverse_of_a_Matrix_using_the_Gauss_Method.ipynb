{
  "nbformat": 4,
  "nbformat_minor": 0,
  "metadata": {
    "colab": {
      "provenance": [],
      "authorship_tag": "ABX9TyMaTlxazCLHoriB/Bywsz8q",
      "include_colab_link": true
    },
    "kernelspec": {
      "name": "python3",
      "display_name": "Python 3"
    },
    "language_info": {
      "name": "python"
    }
  },
  "cells": [
    {
      "cell_type": "markdown",
      "metadata": {
        "id": "view-in-github",
        "colab_type": "text"
      },
      "source": [
        "<a href=\"https://colab.research.google.com/github/itaeh-hue/Math-2024-25-Winter/blob/main/Lecture_Notes/Linear_Algebra/06_Inverse_of_a_Matrix_using_the_Gauss_Method.ipynb\" target=\"_parent\"><img src=\"https://colab.research.google.com/assets/colab-badge.svg\" alt=\"Open In Colab\"/></a>"
      ]
    },
    {
      "cell_type": "markdown",
      "source": [
        "## Exercises\n",
        "\n",
        "\n",
        "Find the inverse matrices using the Gauss method:\n",
        "\n",
        "$$\n",
        "\\mathbf{A} =\n",
        "\\begin{pmatrix}\n",
        "1 & 2\\\\\n",
        "3 & 4\n",
        "\\end{pmatrix}\n",
        ", \\qquad\n",
        "\\mathbf{B} =\n",
        "\\begin{pmatrix}\n",
        "1 & 2 & 3 \\\\\n",
        "4 & 5 & 1 \\\\\n",
        "2 & 3 & 2\n",
        "\\end{pmatrix}\n",
        ",\\qquad\n",
        "\\mathbf{C} =\n",
        "\\begin{pmatrix}\n",
        "0 & 0 & 1\\\\\n",
        "0 & 1 & 0\\\\\n",
        "1 & 0 & 0\n",
        "\\end{pmatrix}\n",
        "$$\n"
      ],
      "metadata": {
        "id": "jcmxzv1LllQp"
      }
    },
    {
      "cell_type": "markdown",
      "source": [
        "### Exercise 1\n",
        "\n",
        "Given:\n",
        "$$\\mathbf{A} =\n",
        "\\begin{pmatrix}\n",
        "1 & 2\\\\\n",
        "3 & 4\n",
        "\\end{pmatrix}$$\n",
        "\n",
        "First, we will find the determinant of $\\mathbf{A}$ to get to know whether it is invertible at all:\n",
        "\n",
        "$$\\det \\mathbf{A} = 4 - 2\\cdot 3 = 4 - 6 = -2 \\neq {0}$$\n",
        "\n",
        "The determinant does not equal zero, therefore the matrix is invertible.\n",
        "\n",
        "We use the Gauss-Jordan method to find the inverse. For this, we first augment the matrix $\\mathbf{A}$ with the identity matrix $I$, and then try to turn $\\mathbf{A}$ into identity matrix itself using elementary row operations:\n",
        "\n",
        "\n",
        "$$\\mathbf{A} =\n",
        "\\begin{pmatrix}\n",
        "1 & 2 & | & 1 & 0 \\\\\n",
        "3 & 4 & | & 0 & 1\n",
        "\\end{pmatrix} R_{2}-3R_{1}\\implies \\begin{pmatrix}\n",
        "1 & 2 & | & 1 & 0 \\\\\n",
        "0 & -2 & | & -3 & 1\n",
        "\\end{pmatrix} \\frac{R_{1}}{-2} \\implies \\begin{pmatrix}\n",
        "1 & 2 & | & 1 & 0 \\\\\n",
        "0 & 1 & | & \\frac{3}{2} & -\\frac{1}{2}\n",
        "\\end{pmatrix}R_{1}-2R_{2}\\implies\\begin{pmatrix}\n",
        "1 & 0 & | & \\left( 1 - 2\\cdot \\frac{3}{2} \\right) & 0- 2\\cdot\\left( -\\frac{1}{2} \\right) \\\\\n",
        "0 & 1 & | & \\frac{3}{2} & -\\frac{1}{2}\n",
        "\\end{pmatrix}\\implies\\begin{pmatrix}\n",
        "1 & 0 & | & -2 &1 \\\\\n",
        "0 & 1 & | & \\frac{3}{2} & -\\frac{1}{2}\n",
        "\\end{pmatrix}$$\n",
        "\n",
        "Therefore, $$\\mathbf{A}^{-1} = \\begin{pmatrix}\n",
        "1 & 2\\\\\n",
        "3 & 4\n",
        "\\end{pmatrix}^{-1} = \\begin{pmatrix}\n",
        "-2 & 1 \\\\\n",
        "\\frac{3}{2} & -\\frac{1}{2}\n",
        "\\end{pmatrix}$$"
      ],
      "metadata": {
        "id": "Ov2Th_WwluoX"
      }
    },
    {
      "cell_type": "code",
      "source": [
        "import sympy as sp\n",
        "\n",
        "A = sp.Matrix([[1,2],[3,4]])\n",
        "\n",
        "print(f'The determinant of matrix A: {A.det()}')\n",
        "if (A.det() != 0):\n",
        "  print(f'The inverse of matrix A: {A.inv()}')\n",
        "else:\n",
        "  print(f'The matrix A is not invertible!')"
      ],
      "metadata": {
        "colab": {
          "base_uri": "https://localhost:8080/"
        },
        "id": "1DpfKFAZlxIA",
        "outputId": "a7a9ae91-79a0-42e9-f441-3de57e53b19b"
      },
      "execution_count": 1,
      "outputs": [
        {
          "output_type": "stream",
          "name": "stdout",
          "text": [
            "The determinant of matrix A: -2\n",
            "The inverse of matrix A: Matrix([[-2, 1], [3/2, -1/2]])\n"
          ]
        }
      ]
    },
    {
      "cell_type": "markdown",
      "source": [
        "### Exercise 2\n",
        "\n",
        "Given:\n",
        "\n",
        "$$\\mathbf{B} =\n",
        "\\begin{pmatrix}\n",
        "1 & 2 & 3 \\\\\n",
        "4 & 5 & 1 \\\\\n",
        "2 & 3 & 2\n",
        "\\end{pmatrix}$$\n",
        "\n",
        "As before, first calculate the determinant:\n",
        "\n",
        "$$\\det \\mathbf{B} = (+1) \\cdot 1 \\cdot\\det \\begin{pmatrix} 5 & 1 \\\\ 3 & 2 \\end{pmatrix} + (-1)\\cdot 2 \\cdot \\det \\begin{pmatrix} 4 & 1 \\\\ 2 & 2 \\end{pmatrix} + (+1)\\cdot 3 \\cdot \\det \\begin{pmatrix} 4 & 5 \\\\ 2 & 3 \\end{pmatrix} = (10 - 3) - 2(8 - 2) + 3(12 - 10) = 7 - 12 + 6 = 1 \\neq 0$$\n",
        "\n",
        "The matrix $\\mathbf{B}$ is invertible as well.\n",
        "\n",
        "As in the previous exercise, we do the following to find the inverse:\n",
        "\n",
        "$$\\begin{pmatrix}\n",
        "1 & 2 & 3 & | & 1 & 0 & 0 \\\\\n",
        "4 & 5 & 1 & | & 0 & 1 & 0 \\\\\n",
        "2 & 3 & 2 & | & 0 & 0 & 1\n",
        "\\end{pmatrix}R_{2}-4R_{1}\\implies\\begin{pmatrix}\n",
        "1 & 2 & 3 & | & 1 & 0 & 0 \\\\\n",
        "0 & -3 & -11 & | & -4 & 1 & 0 \\\\\n",
        "2 & 3 & 2 & | & 0 & 0 & 1\n",
        "\\end{pmatrix}R_{3}-2R_{1}\\implies\\begin{pmatrix}\n",
        "1 & 2 & 3 & | & 1 & 0 & 0 \\\\\n",
        "0 & -3 & -11 & | & -4 & 1 & 0 \\\\\n",
        "0 & -1 & -4 & | & -2 & 0 & 1\n",
        "\\end{pmatrix} R_{2}\\cdot (-\\frac{1}{3})\n",
        "$$\n",
        "\n",
        "$$\n",
        "\\implies\\begin{pmatrix}\n",
        "1 & 2 & 3 & | & 1 & 0 & 0 \\\\\n",
        "0 & 1 & \\frac{11}{3} & | & \\frac{4}{3} & -\\frac{1}{3} & 0 \\\\\n",
        "0 & -1 & -4 & | & -2 & 0 & 1\n",
        "\\end{pmatrix} R_{1}-2R_{2}\\implies\\begin{pmatrix}\n",
        "1 & 0 & -\\frac{13}{3} & | & -\\frac{5}{3} & \\frac{2}{3} & 0 \\\\\n",
        "0 & 1 & \\frac{11}{3} & | & \\frac{4}{3} & -\\frac{1}{3} & 0 \\\\\n",
        "0 & -1 & -4 & | & -2 & 0 & 1\n",
        "\\end{pmatrix}R_{3}+R_{2} = \\begin{pmatrix}\n",
        "1 & 0 & -\\frac{13}{3} & | & -\\frac{5}{3} & \\frac{2}{3} & 0 \\\\\n",
        "0 & 1 & \\frac{11}{3} & | & \\frac{4}{3} & -\\frac{1}{3} & 0 \\\\\n",
        "0 & 0 & -\\frac{1}{3} & | & -\\frac{2}{3} & -\\frac{1}{3} & 1\n",
        "\\end{pmatrix}R_{3}\\cdot(-3)\\implies\\begin{pmatrix}\n",
        "1 & 0 & -\\frac{13}{3} & | & -\\frac{5}{3} & \\frac{2}{3} & 0 \\\\\n",
        "0 & 1 & \\frac{11}{3} & | & \\frac{4}{3} & -\\frac{1}{3} & 0 \\\\\n",
        "0 & 0 & 1 & | & 2 & 1 & -3\n",
        "\\end{pmatrix}R_{1}+ \\frac{13R_{3}}{3}\n",
        "$$\n",
        "\n",
        "$$\\begin{pmatrix}\n",
        "1 & 0 & 0 & | & 7 & 5 & -13 \\\\\n",
        "0 & 1 & \\frac{11}{3} & | & \\frac{4}{3} & -\\frac{1}{3} & 0 \\\\\n",
        "0 & 0 & 1 & | & 2 & 1 & -3\n",
        "\\end{pmatrix}R_{2}- \\frac{11R_{3}}{3}\\implies\\begin{pmatrix}\n",
        "1 & 0 & 0 & | & 7 & 5 & -13 \\\\\n",
        "0 & 1 & 0 & | & -6 & -4 & 11 \\\\\n",
        "0 & 0 & 1 & | & 2 & 1 & -3\n",
        "\\end{pmatrix}$$\n",
        "\n",
        "Therefore, the inverse of $\\mathbf{B}$ is $$\\mathbf{B}^{-1} = \\begin{pmatrix}\n",
        "1 & 2 & 3 \\\\\n",
        "4 & 5 & 1 \\\\\n",
        "2 & 3 & 2\n",
        "\\end{pmatrix}^{-1} = \\begin{pmatrix}\n",
        "7 & 5 & -13  \\\\\n",
        "-6 & -4 & 11  \\\\\n",
        "2 & 1 & - 3\n",
        "\\end{pmatrix}$$\n",
        "\n",
        "It was very laborious, but voila!\n",
        "Yet. There is the last (thankfully) one left."
      ],
      "metadata": {
        "id": "FMLxpWOzl0P8"
      }
    },
    {
      "cell_type": "code",
      "source": [
        "import sympy as sp\n",
        "\n",
        "B = sp.Matrix([[1,2,3],[4,5,1],[2, 3, 2]])\n",
        "\n",
        "print(f'The determinant of matrix B: {B.det()}')\n",
        "if (B.det() != 0):\n",
        "  print(f'The inverse of matrix B: {B.inv()}')\n",
        "else:\n",
        "  print(f'The matrix B is not invertible!')"
      ],
      "metadata": {
        "id": "mDZozTSzl5EJ"
      },
      "execution_count": null,
      "outputs": []
    },
    {
      "cell_type": "markdown",
      "source": [
        "### Exercise 3\n",
        "\n",
        "Given:\n",
        "$$\n",
        "\\mathbf{C} =\n",
        "\\begin{pmatrix}\n",
        "0 & 0 & 1\\\\\n",
        "0 & 1 & 0\\\\\n",
        "1 & 0 & 0\n",
        "\\end{pmatrix}\n",
        "$$\n",
        "\n",
        "Calculate the determinant (expanding over the first row): $$\\det \\mathbf{C} = (+1)\\cdot 1\\cdot \\det \\begin{pmatrix}\n",
        "0 & 1 \\\\ 1 & 0\n",
        "\\end{pmatrix} = 0 - 1 = -1$$\n",
        "Unfortunately, this matrix is invertible as well.\n",
        "\n",
        "So, we do the same as before:\n",
        "\n",
        "$$\\begin{pmatrix}\n",
        "0 & 0 & 1 & | & 1 & 0 & 0 \\\\\n",
        "0 & 1 & 0 & | & 0 & 1 & 0\\\\\n",
        "1 & 0 & 0 & | & 0 & 0 & 1\n",
        "\\end{pmatrix}R_{1}\\updownarrow R_{3}\\implies\\begin{pmatrix}\n",
        "1 & 0 & 0 & | & 0 & 0 & 1 \\\\\n",
        "0 & 1 & 0 & | & 0 & 1 & 0\\\\\n",
        "0 & 0 & 1 & | & 1 & 0 & 0 \\\\\n",
        "\\end{pmatrix}$$\n",
        "\n",
        "Therefore, $$\\mathbf{C}^{-1} = \\begin{pmatrix}\n",
        "0 & 0 & 1\\\\\n",
        "0 & 1 & 0\\\\\n",
        "1 & 0 & 0\n",
        "\\end{pmatrix}^{-1} = \\begin{pmatrix} 0 & 0 & 1 \\\\ 0 & 1 & 0 \\\\ 1 & 0 & 0\n",
        "\\end{pmatrix}$$\n"
      ],
      "metadata": {
        "id": "57snD1fMl8xK"
      }
    },
    {
      "cell_type": "code",
      "source": [
        "import sympy as sp\n",
        "\n",
        "C = sp.Matrix([[0,0,1],[0,1,0],[1, 0, 0]])\n",
        "\n",
        "print(f'The determinant of matrix C: {C.det()}')\n",
        "if (C.det() != 0):\n",
        "  print(f'The inverse of matrix C: {C.inv()}')\n",
        "else:\n",
        "  print(f'The matrix C is not invertible!')"
      ],
      "metadata": {
        "colab": {
          "base_uri": "https://localhost:8080/"
        },
        "id": "oUAWHTbtl-zq",
        "outputId": "819af893-4494-4041-e716-c62957f2b760"
      },
      "execution_count": 2,
      "outputs": [
        {
          "output_type": "stream",
          "name": "stdout",
          "text": [
            "The determinant of matrix C: -1\n",
            "The inverse of matrix C: Matrix([[0, 0, 1], [0, 1, 0], [1, 0, 0]])\n"
          ]
        }
      ]
    }
  ]
}