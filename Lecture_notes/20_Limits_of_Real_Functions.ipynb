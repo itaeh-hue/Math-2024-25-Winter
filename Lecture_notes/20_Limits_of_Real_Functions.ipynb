{
  "nbformat": 4,
  "nbformat_minor": 0,
  "metadata": {
    "colab": {
      "provenance": [],
      "authorship_tag": "ABX9TyPEtA1jUFSZ36/uIhLWidla",
      "include_colab_link": true
    },
    "kernelspec": {
      "name": "python3",
      "display_name": "Python 3"
    },
    "language_info": {
      "name": "python"
    }
  },
  "cells": [
    {
      "cell_type": "markdown",
      "metadata": {
        "id": "view-in-github",
        "colab_type": "text"
      },
      "source": [
        "<a href=\"https://colab.research.google.com/github/itaeh-hue/Math-2024-25-Winter/blob/main/Lecture_notes/20_Limits_of_Real_Functions.ipynb\" target=\"_parent\"><img src=\"https://colab.research.google.com/assets/colab-badge.svg\" alt=\"Open In Colab\"/></a>"
      ]
    },
    {
      "cell_type": "markdown",
      "source": [
        "## Limits of Real Functions"
      ],
      "metadata": {
        "id": "41THL00_vGiq"
      }
    },
    {
      "cell_type": "markdown",
      "source": [
        "## Exercises\n",
        "\n",
        "\n",
        "1. $$\\lim_{ x \\to \\infty } \\frac{x^3 + 2x^2}{x^4 - 3x^3} = \\lim_{ x \\to \\infty } \\frac{x^4\\left( \\frac{1}{x} + \\frac{2}{x^2} \\right)}{x^4\\left( 1 - \\frac{3}{x} \\right)} = \\frac{0}{1} = 0$$\n",
        "2. $$\\lim_{ x \\to 0 } \\frac{\\sin 3x}{2x+1} = \\lim_{ x \\to 0 } \\frac{\\sin 3x}{2x+1} \\cdot \\frac{3x}{3x} = \\lim_{ x \\to 0 } \\frac{\\sin 3x}{3x} \\cdot \\frac{3x}{2x+1} = 1$$\n",
        "\n",
        "3.\n",
        "- For $f(x) = \\frac{x^2 - 1}{x^2 + 1}$:\n",
        "\n",
        "Vertical asymptotes occur where the function is undefined, typically where the denominator is zero. We check the denominator: $x^2 + 1 = 0$ . However, this equation has no real solutions, since the square can not be negative. Therefore, there are no vertical asymptotes for $f(x)$.\n",
        "\n",
        "To find horizontal asymptotes, we examine the behavior of $f(x)$ as $x$ approaches infinity:\n",
        "\n",
        "$$\\lim_{ x \\to \\infty } f(x) = \\frac{x^2 - 1}{x^2 + 1} = \\lim_{ x \\to \\infty } \\frac{1 - \\frac{1}{x^2}}{1 + \\frac{1}{x^2}} =1$$\n",
        "Thus, there is a horizontal asymptote at $y = 1$.\n",
        "\n",
        " - For $g(x) = \\frac{\\sin x}{x^2 + 1}$:\n",
        "\n",
        "Vertical Asymptotes:  $g(x) = \\frac{\\sin x}{x^2 + 1}$\n",
        "Again, we check where the function $g(x)$ is undefined, which would occur where the denominator is zero: $x^2 + 1 = 0$. Like before: no real solutions - no vertical asymptotes.\n",
        "\n",
        "To find horizontal asymptotes, we evaluate the limit of $g(x)$ as $x \\to \\infty$ (and also $x \\to -\\infty$):\n",
        "\n",
        "$$\n",
        "\\lim_{ x \\to \\infty } g(x) = \\frac{\\sin x}{x^2 + 1}\n",
        "$$\n",
        "\n",
        "Since $|\\sin x| \\leq 1$:\n",
        "\n",
        "$$\\left| \\frac{\\sin x}{x^2 + 1} \\right| \\leq \\frac{1}{x^2 + 1}\n",
        "$$\n",
        "\n",
        "As $x \\to \\infty$, $\\frac{1}{x^2 + 1} \\to 0$, so by the Squeeze Theorem:\n",
        "\n",
        "$$\\lim_{x \\to \\infty} g(x) = 0$$\n",
        "\n",
        "Therefore, there is a horizontal asymptote at $y = 0$."
      ],
      "metadata": {
        "id": "E25NSkwC0VK1"
      }
    }
  ]
}