{
  "nbformat": 4,
  "nbformat_minor": 0,
  "metadata": {
    "colab": {
      "provenance": [],
      "authorship_tag": "ABX9TyM8yHIMd0imq4pzeIaNffK/",
      "include_colab_link": true
    },
    "kernelspec": {
      "name": "python3",
      "display_name": "Python 3"
    },
    "language_info": {
      "name": "python"
    }
  },
  "cells": [
    {
      "cell_type": "markdown",
      "metadata": {
        "id": "view-in-github",
        "colab_type": "text"
      },
      "source": [
        "<a href=\"https://colab.research.google.com/github/itaeh-hue/Math-2024-25-Winter/blob/main/Lecture_notes/18_Functoins.ipynb\" target=\"_parent\"><img src=\"https://colab.research.google.com/assets/colab-badge.svg\" alt=\"Open In Colab\"/></a>"
      ]
    },
    {
      "cell_type": "markdown",
      "source": [
        "## Exercises\n",
        "\n",
        "1. GeoGebra link: https://www.geogebra.org/calculator/e9nhrybd\n",
        "\n",
        "- $f ( x ) = x^2$\n",
        "- $g ( x ) = \\sqrt{ x }$\n",
        "- $h ( x ) = \\frac{1}{x}$\n",
        "- $j ( x ) = sin ⁡ ( x )$\n",
        "\n",
        "At $x=2$:\n",
        "- $f(2) = 2^2 = 4$\n",
        "- $g(2) = \\sqrt{ 2 } = 1.414213562373095$\n",
        "- $h(2) = \\frac{1}{2}$\n",
        "- $j(2) = \\sin(2) \\approx 0.0348994$\n",
        "\n",
        "\n",
        "2.\n",
        "\n",
        "- $f ( g ( x ) ) = 3x - 1$\n",
        "- $g ( f ( x ) ) = 3x-1$\n",
        "- $f ( f ( x ) ) = 3(3x-1) -1 = 9x - 3 - 1= 9x -4$\n",
        "- $g ( g ( x ) ) = x$\n",
        "\n",
        "\n",
        "3.  $f(g(x)) = e^{\\ln x} = x$\n",
        "\n",
        "$g(f(x)) = \\ln e^x = x$\n",
        "\n",
        "Magic - this is what I notice. $g(x)^{-1} = f(x)$ and $f(x)^{-1} = g(x)$\n",
        "\n",
        "4. The inverse of $f(x)$:\n",
        "\n",
        "$f(g(x)) = x$\n",
        "\n",
        "$g(x) - 1 = x$\n",
        "\n",
        "$g(x) = x+1$\n",
        "\n"
      ],
      "metadata": {
        "id": "6eNQ1TtEqWSk"
      }
    },
    {
      "cell_type": "markdown",
      "source": [],
      "metadata": {
        "id": "cct9CWCAqqw_"
      }
    }
  ]
}