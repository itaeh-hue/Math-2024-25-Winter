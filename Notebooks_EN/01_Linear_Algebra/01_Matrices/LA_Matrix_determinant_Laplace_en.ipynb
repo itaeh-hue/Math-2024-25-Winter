{
  "cells": [
    {
      "cell_type": "markdown",
      "metadata": {
        "id": "Kv_rg4aWLeNH"
      },
      "source": [
        "# Determinants of 3x3 and 4x4 Matrices using Laplace expansion\n",
        "\n",
        "## Determinant of a 3x3 Matrix using Laplace expansion\n",
        "\n",
        "The general formula for the determinant of a 3x3 matrix is as follows:\n",
        "\n",
        "$$\n",
        "\\mathbf{A} =\n",
        "\\begin{pmatrix}\n",
        "a_{11} & a_{12} & a_{13} \\\\\n",
        "a_{21} & a_{22} & a_{23} \\\\\n",
        "a_{31} & a_{32} & a_{33}\n",
        "\\end{pmatrix}\n",
        "$$\n",
        "\n",
        "The determinant of a 3x3 matrix is calculated by expanding along the first row. We use Laplace expansion, which involves selecting elements of the first row and calculating the determinants of the 2x2 matrices that result from removing the appropriate rows and columns.\n",
        "\n",
        "Expanding along the first row of a 3x3 matrix:\n",
        "\n",
        "$$\n",
        "\\text{det}(A) =\n",
        "(-1)^{1+1}a_{11} \\cdot\n",
        "\\text{det}\n",
        "\\begin{pmatrix}\n",
        "a_{22} & a_{23} \\\\\n",
        "a_{32} & a_{33}\n",
        "\\end{pmatrix}\n",
        "+(-1)^{1+2} a_{12} \\cdot \\text{det}\n",
        "\\begin{pmatrix}\n",
        "a_{21} & a_{23} \\\\\n",
        "a_{31} & a_{33}\n",
        "\\end{pmatrix}\n",
        "+(-1)^{1+3}a_{13} \\cdot \\text{det}\n",
        "\\begin{pmatrix}\n",
        "a_{21} & a_{22} \\\\\n",
        "a_{31} & a_{32}\n",
        "\\end{pmatrix}\n",
        "$$\n",
        "\n",
        "### Example of a 3x3 Matrix\n",
        "\n",
        "For the matrix:\n",
        "\n",
        "$$\n",
        "\\mathbf{A} =\n",
        "\\begin{pmatrix}\n",
        "2 & 3 & 1 \\\\\n",
        "1 & 4 & 5 \\\\\n",
        "3 & 2 & 1\n",
        "\\end{pmatrix}\n",
        "$$\n",
        "\n",
        "Laplace expansion:\n",
        "\n",
        "$$\n",
        "\\text{det}(A) = 2 \\cdot\n",
        "\\text{det}\n",
        "\\begin{pmatrix}\n",
        "4 & 5 \\\\\n",
        "2 & 1\n",
        "\\end{pmatrix}\n",
        "- 3 \\cdot\n",
        "\\text{det}\n",
        "\\begin{pmatrix}\n",
        "1 & 5 \\\\\n",
        "3 & 1\n",
        "\\end{pmatrix}\n",
        "+ 1 \\cdot\n",
        "\\text{det}\n",
        "\\begin{pmatrix}\n",
        "1 & 4 \\\\\n",
        "3 & 2\n",
        "\\end{pmatrix}\n",
        "$$\n",
        "\n",
        "## Determinant of a 4x4 Matrix using Laplace Expansion\n",
        "\n",
        "The general formula for the determinant of a 4x4 matrix, where the matrix looks as follows:\n",
        "\n",
        "$$\n",
        "\\mathbf{B} =\n",
        "\\begin{pmatrix}\n",
        "a_{11} & a_{12} & a_{13} & a_{14} \\\\\n",
        "a_{21} & a_{22} & a_{23} & a_{24} \\\\\n",
        "a_{31} & a_{32} & a_{33} & a_{34} \\\\\n",
        "a_{41} & a_{42} & a_{43} & a_{44}\n",
        "\\end{pmatrix}\n",
        "$$\n",
        "\n",
        "The determinant of a 4x4 matrix is calculated by expanding along the first row. Similar to the 3x3 case, elements of the first row are multiplied by the determinants of the 3x3 matrices that result from removing the appropriate rows and columns.\n",
        "\n",
        "Expanding along the first row of a 4x4 matrix:\n",
        "\n",
        "$$\n",
        "\\text{det}(B) =\n",
        "(-1)^{1+1} \\cdot\n",
        "a_{11} \\cdot \\text{det}\n",
        "\\begin{pmatrix}\n",
        "a_{22} & a_{23} & a_{24} \\\\\n",
        "a_{32} & a_{33} & a_{34} \\\\\n",
        "a_{42} & a_{43} & a_{44}\n",
        "\\end{pmatrix}\n",
        "+ (-1)^{1+2} \\cdot\n",
        "a_{12} \\cdot \\text{det}\n",
        "\\begin{pmatrix}\n",
        "a_{21} & a_{23} & a_{24} \\\\\n",
        "a_{31} & a_{33} & a_{34} \\\\\n",
        "a_{41} & a_{43} & a_{44}\n",
        "\\end{pmatrix}\n",
        "+ (-1)^{1+3} \\cdot\n",
        "a_{13} \\cdot \\text{det}\n",
        "\\begin{pmatrix}\n",
        "a_{21} & a_{22} & a_{24} \\\\\n",
        "a_{31} & a_{32} & a_{34} \\\\\n",
        "a_{41} & a_{42} & a_{44}\n",
        "\\end{pmatrix}\n",
        "+ (-1)^{1+4} \\cdot\n",
        "a_{14} \\cdot \\text{det}\n",
        "\\begin{pmatrix}\n",
        "a_{21} & a_{22} & a_{23} \\\\\n",
        "a_{31} & a_{32} & a_{33} \\\\\n",
        "a_{41} & a_{42} & a_{43}\n",
        "\\end{pmatrix}\n",
        "$$\n",
        "\n",
        "### Example of a 4x4 Matrix\n",
        "\n",
        "For the matrix:\n",
        "\n",
        "$$\n",
        "\\mathbf{B} =\n",
        "\\begin{pmatrix}\n",
        "2 & 3 & 1 & 4 \\\\\n",
        "1 & 4 & 5 & 6 \\\\\n",
        "3 & 2 & 1 & 5 \\\\\n",
        "2 & 1 & 4 & 3\n",
        "\\end{pmatrix}\n",
        "$$\n",
        "\n",
        "Laplace expansion:\n",
        "\n",
        "$$\n",
        "\\text{det}(B) = 2 \\cdot \\text{det}\n",
        "\\begin{pmatrix}\n",
        "4 & 5 & 6 \\\\\n",
        "2 & 1 & 5 \\\\\n",
        "1 & 4 & 3\n",
        "\\end{pmatrix}\n",
        "- 3 \\cdot \\text{det}\n",
        "\\begin{pmatrix}\n",
        "1 & 5 & 6 \\\\\n",
        "3 & 1 & 5 \\\\\n",
        "2 & 4 & 3\n",
        "\\end{pmatrix}\n",
        "+ 1 \\cdot \\text{det}\n",
        "\\begin{pmatrix}\n",
        "1 & 4 & 6 \\\\\n",
        "3 & 2 & 5 \\\\\n",
        "2 & 1 & 3\n",
        "\\end{pmatrix}\n",
        "- 4 \\cdot \\text{det}\n",
        "\\begin{pmatrix}\n",
        "1 & 4 & 5 \\\\\n",
        "3 & 2 & 1 \\\\\n",
        "2 & 1 & 4\n",
        "\\end{pmatrix}\n",
        "$$\n",
        "\n",
        "### Calculating Determinants in Python using SymPy\n",
        "\n",
        "Below we will calculate the determinants of 3x3 and 4x4 matrices using Laplace expansion in Python, using the **SymPy** library."
      ]
    },
    {
      "cell_type": "code",
      "execution_count": null,
      "metadata": {
        "id": "-zBJ_t-pLeNN",
        "outputId": "b3cd2e6b-ee9f-4da5-e9b3-d3744b9eb691"
      },
      "outputs": [
        {
          "data": {
            "text/latex": [
              "$\\displaystyle \\left[\\begin{matrix}2 & 3 & 1\\\\1 & 4 & 5\\\\3 & 2 & 1\\end{matrix}\\right]$"
            ],
            "text/plain": [
              "Matrix([\n",
              "[2, 3, 1],\n",
              "[1, 4, 5],\n",
              "[3, 2, 1]])"
            ]
          },
          "execution_count": 1,
          "metadata": {},
          "output_type": "execute_result"
        }
      ],
      "source": [
        "import sympy as sp\n",
        "\n",
        "# 3x3 Matrix\n",
        "A = sp.Matrix([[2, 3, 1], [1, 4, 5], [3, 2, 1]])\n",
        "A"
      ]
    },
    {
      "cell_type": "code",
      "execution_count": null,
      "metadata": {
        "id": "0GzvgO6-LeNU",
        "outputId": "f1ddbe75-d6ec-4c4e-bae3-0d85dfdf81d8"
      },
      "outputs": [
        {
          "data": {
            "text/plain": [
              "True"
            ]
          },
          "execution_count": 2,
          "metadata": {},
          "output_type": "execute_result"
        }
      ],
      "source": [
        "# Select the first row [2, 3, 1]\n",
        "# Define the appropriate minors\n",
        "M11 = sp.Matrix([[4, 5], [2, 1]])\n",
        "M12 = sp.Matrix([[1, 5], [3, 1]])\n",
        "M13 = sp.Matrix([[1, 4], [3, 2]])\n",
        "\n",
        "# Calculate the determinant\n",
        "d = 2*M11.det() - 3*M12.det() + 1*M13.det()\n",
        "\n",
        "d == A.det()"
      ]
    },
    {
      "cell_type": "code",
      "execution_count": null,
      "metadata": {
        "id": "LaXbZQBPLeNW",
        "outputId": "c55683a6-b9e7-44b6-81fa-8e35a77ffb4f"
      },
      "outputs": [
        {
          "data": {
            "text/latex": [
              "$\\displaystyle \\left[\\begin{matrix}2 & 0 & 1 & 0\\\\1 & 4 & 5 & 6\\\\3 & 2 & 1 & 5\\\\2 & 1 & 4 & 3\\end{matrix}\\right]$"
            ],
            "text/plain": [
              "Matrix([\n",
              "[2, 0, 1, 0],\n",
              "[1, 4, 5, 6],\n",
              "[3, 2, 1, 5],\n",
              "[2, 1, 4, 3]])"
            ]
          },
          "execution_count": 3,
          "metadata": {},
          "output_type": "execute_result"
        }
      ],
      "source": [
        "# 4x4 Matrix\n",
        "B = sp.Matrix([[2, 0, 1, 0], [1, 4, 5, 6], [3, 2, 1, 5], [2, 1, 4, 3]])\n",
        "B"
      ]
    },
    {
      "cell_type": "code",
      "execution_count": null,
      "metadata": {
        "id": "u1GOQ19ALeNX",
        "outputId": "f04268e8-80e8-42f1-e6dc-2bb2b8d9dd55"
      },
      "outputs": [
        {
          "data": {
            "text/plain": [
              "True"
            ]
          },
          "execution_count": 4,
          "metadata": {},
          "output_type": "execute_result"
        }
      ],
      "source": [
        "# Verify the correctness of the calculations\n",
        "M11 = sp.Matrix([[4, 5, 6], [2, 1, 5], [1, 4, 3]])\n",
        "M12 = sp.Matrix([[1, 5, 6], [3, 1, 5], [2, 4, 3]])\n",
        "M13 = sp.Matrix([[1, 4, 6], [3, 2, 5], [2, 1, 3]])\n",
        "M14 = sp.Matrix([[1, 4, 5], [3, 2, 1], [2, 1, 4]])\n",
        "\n",
        "(2*M11.det() - 0*M12.det() + 1*M13.det() - 0*M14.det()) == B.det()\n",
        "\n",
        "d = 2*M11.det() - 0*M12.det() + 1*M13.det() - 0*M14.det()\n",
        "d == B.det()"
      ]
    },
    {
      "cell_type": "markdown",
      "metadata": {
        "id": "pzyb83j2LeNY"
      },
      "source": [
        "Note that only the first and third terms have non-zero coefficients, so it is not necessary to calculate the determinants of all minors!\n",
        "\n",
        "---\n",
        "\n",
        "## Exercises for Students\n",
        "\n",
        "Calculate the determinants of the following matrices:\n",
        "\n",
        "$$\n",
        "\\mathbf{A} =\n",
        "\\begin{pmatrix}\n",
        "2 & 3 & 1 \\\\\n",
        "1 & 4 & 0 \\\\\n",
        "3 & 2 & 1\n",
        "\\end{pmatrix}\n",
        ",\\qquad\n",
        "\\mathbf{B} =\n",
        "\\begin{pmatrix}\n",
        "2 & 3 & 1 \\\\\n",
        "1 & 4 & 0 \\\\\n",
        "3 & 2 & 0  \\\\\n",
        "\\end{pmatrix}\n",
        ",\\qquad\n",
        "\\mathbf{C} =\n",
        "\\begin{pmatrix}\n",
        "2 & 3 & 1 & 4 \\\\\n",
        "1 & 0 & 0 & 6 \\\\\n",
        "3 & 2 & 1 & 5 \\\\\n",
        "2 & 1 & 4 & 0\n",
        "\\end{pmatrix}\n",
        ",\\qquad\n",
        "\\mathbf{D} =\n",
        "\\begin{pmatrix}\n",
        "2 & 3 & 1 & 4 & 5 \\\\\n",
        "1 & 4 & 0 & 0 & 7 \\\\\n",
        "3 & 0 & 0 & 0 & 0 \\\\\n",
        "2 & 1 & 4 & 3 & 2 \\\\\n",
        "1 & 2 & 3 & 4 & 5\n",
        "\\end{pmatrix}\n",
        "$$"
      ]
    },
    {
      "cell_type": "code",
      "source": [],
      "metadata": {
        "id": "OG7IIhg5Qlop"
      },
      "execution_count": null,
      "outputs": []
    },
    {
      "cell_type": "markdown",
      "source": [
        "1.\n",
        "$$\n",
        "\\mathbf{A} =\n",
        "\\begin{pmatrix}\n",
        "2 & 3 & 1 \\\\\n",
        "1 & 4 & 0 \\\\\n",
        "3 & 2 & 1\n",
        "\\end{pmatrix}\n",
        "$$\n",
        "\n",
        "The determinant of the matrix A can be calculated using Laplace expansion with the following formula:\n",
        "\n",
        "$$\n",
        "det(A) = (-1)^{1+1}a_{11}det(M_{11}) + (-1)^{1+2}a_{12}det(M_{12}) + (-1)^{1+3}a_{13}det(M_{13})\n",
        "$$\n",
        "\n",
        "Therefore, we first calculate minors of the matrix:\n",
        "\n",
        "Submatrix $M_{11}$:\n",
        "\n",
        "$$M_{11} =\n",
        "\\begin{pmatrix}\n",
        "4 & 0 \\\\\n",
        "2 & 1 \\\\\n",
        "\\end{pmatrix}\n",
        "$$\n",
        "\n",
        "Determinant of $M_{11}$:\n",
        "\n",
        "$$\n",
        "det(M_{11}) = 4 \\times 1 - 0 \\times 2 = 4 - 0 = 4\n",
        "$$\n",
        "\n",
        "$$M_{12} =\n",
        "\\begin{pmatrix}\n",
        "1 & 0 \\\\\n",
        "3 & 1 \\\\\n",
        "\\end{pmatrix}\n",
        "$$\n",
        "\n",
        "$$\n",
        "det(M_{12}) = 1\n",
        "$$\n",
        "\n",
        "\n",
        "$$M_{13} =\n",
        "\\begin{pmatrix}\n",
        "1 & 4 \\\\\n",
        "3 & 2 \\\\\n",
        "\\end{pmatrix}\n",
        "$$\n",
        "\n",
        "$$\n",
        "det(M_{13}) = -10\n",
        "$$\n"
      ],
      "metadata": {
        "id": "-sefEtHRLnRz"
      }
    },
    {
      "cell_type": "code",
      "source": [
        "import sympy as sp\n",
        "\n",
        "A = sp.Matrix([[2, 3, 1], [1, 4, 0], [3, 2, 1]])\n",
        "\n",
        "M11=sp.Matrix([[4, 0],[2, 1]])\n",
        "M11_det = M11.det()\n",
        "print(f'determinant of M11: {M11_det}')\n",
        "\n",
        "M12=sp.Matrix([[1, 0],[3, 1]])\n",
        "M12_det = M12.det()\n",
        "print(f'determinant of M11: {M12_det}')\n",
        "\n",
        "M13=sp.Matrix([[1, 4],[3, 2]])\n",
        "M13_det = M13.det()\n",
        "print(f'determinant of M11: {M13_det}')\n",
        "\n",
        "det_1 = 2*M11_det-3*M12_det+1*M13_det\n",
        "print(f'Determinant calculated using Laplace expansion: {det_1}')\n",
        "\n",
        "det_2 = A.det()\n",
        "print(f'Determinant calculated by sympy: {det_2}')\n",
        "\n",
        "if det_1 == det_2:\n",
        "  print('Matrix is claculated in a right way! :)')"
      ],
      "metadata": {
        "colab": {
          "base_uri": "https://localhost:8080/"
        },
        "id": "BAG3lPoQOJAc",
        "outputId": "89dbd934-40a9-4998-b0d6-12c08f89e4d6"
      },
      "execution_count": null,
      "outputs": [
        {
          "output_type": "stream",
          "name": "stdout",
          "text": [
            "determinant of M11: 4\n",
            "determinant of M11: 1\n",
            "determinant of M11: -10\n",
            "Determinant calculated using Laplace expansion: -5\n",
            "Determinant calculated by sympy: -5\n",
            "Matric is claculated in a right way!\n"
          ]
        }
      ]
    },
    {
      "cell_type": "markdown",
      "source": [
        "1.\n",
        "$$\n",
        "\\mathbf{B} =\n",
        "\\begin{pmatrix}\n",
        "2 & 3 & 1 \\\\\n",
        "1 & 4 & 0 \\\\\n",
        "3 & 2 & 0\n",
        "\\end{pmatrix}\n",
        "$$\n",
        "\n",
        "$$\n",
        "det(B) = (-1)^{1+1}a_{11}det(M_{11}) + (-1)^{1+2}a_{12}det(M_{12}) + (-1)^{1+3}a_{13}det(M_{13})\n",
        "$$\n",
        "\n",
        "$$M_{11} =\n",
        "\\begin{pmatrix}\n",
        "4 & 0 \\\\\n",
        "2 & 0 \\\\\n",
        "\\end{pmatrix}\n",
        "$$\n",
        "\n",
        "$$\n",
        "det(M_{11}) = 0\n",
        "$$\n",
        "\n",
        "$$M_{12} =\n",
        "\\begin{pmatrix}\n",
        "1 & 0 \\\\\n",
        "3 & 0 \\\\\n",
        "\\end{pmatrix}\n",
        "$$\n",
        "\n",
        "$$\n",
        "det(M_{12}) = 0\n",
        "$$\n",
        "\n",
        "\n",
        "$$M_{13} =\n",
        "\\begin{pmatrix}\n",
        "1 & 4 \\\\\n",
        "3 & 2 \\\\\n",
        "\\end{pmatrix}\n",
        "$$\n",
        "\n",
        "$$\n",
        "det(M_{13}) = -10\n",
        "$$"
      ],
      "metadata": {
        "id": "aczSPixdQtZO"
      }
    },
    {
      "cell_type": "code",
      "source": [
        "import sympy as sp\n",
        "\n",
        "A = sp.Matrix([[2, 3, 1], [1, 4, 0], [3, 2, 0]])\n",
        "\n",
        "M11=sp.Matrix([[4, 0],[2, 0]])\n",
        "M11_det = M11.det()\n",
        "print(f'determinant of M11: {M11_det}')\n",
        "\n",
        "M12=sp.Matrix([[1, 0],[3, 0]])\n",
        "M12_det = M12.det()\n",
        "print(f'determinant of M11: {M12_det}')\n",
        "\n",
        "M13=sp.Matrix([[1, 4],[3, 2]])\n",
        "M13_det = M13.det()\n",
        "print(f'determinant of M11: {M13_det}')\n",
        "\n",
        "det_1 = 2*M11_det-3*M12_det+1*M13_det\n",
        "print(f'Determinant calculated using Laplace expansion: {det_1}')\n",
        "\n",
        "det_2 = A.det()\n",
        "print(f'Determinant calculated by sympy: {det_2}')\n",
        "\n",
        "if det_1 == det_2:\n",
        "  print('Matrix is claculated in a right way! :)')"
      ],
      "metadata": {
        "colab": {
          "base_uri": "https://localhost:8080/"
        },
        "id": "aG3C7RLJLvgw",
        "outputId": "88ade675-95f0-4676-fd09-7b2ea92dd022"
      },
      "execution_count": null,
      "outputs": [
        {
          "output_type": "stream",
          "name": "stdout",
          "text": [
            "determinant of M11: 0\n",
            "determinant of M11: 0\n",
            "determinant of M11: -10\n",
            "Determinant calculated using Laplace expansion: -10\n",
            "Determinant calculated by sympy: -10\n",
            "Matrix is claculated in a right way! :)\n"
          ]
        }
      ]
    },
    {
      "cell_type": "code",
      "source": [],
      "metadata": {
        "id": "vAO7d0HZ5rNs"
      },
      "execution_count": null,
      "outputs": []
    },
    {
      "cell_type": "markdown",
      "source": [
        "3. $$\n",
        "C =\n",
        "\\begin{pmatrix}\n",
        "2 & 3 & 1 & 4 \\\\\n",
        "1 & 0 & 0 & 6 \\\\\n",
        "3 & 2 & 1 & 5 \\\\\n",
        "2 & 1 & 4 & 0\n",
        "\\end{pmatrix}\n",
        "$$\n",
        "\n",
        "In this case, we will calculate the deteriminant by expanding the matrix over the second row, since there is the largest number of zeroes, which simplifies calculations.\n",
        "\n",
        "\n",
        "$$\n",
        "det(C) = (-1)^{1+5}c_{21}det(M_{21}) + (-1)^{1+6}c_{22}det(M_{22}) + (-1)^{1+7}c_{23}det(M_{23}) + (-1)^{1+8}c_{24}det(M_{24}) = 1(42) - 6(7) = 0\n",
        "$$"
      ],
      "metadata": {
        "id": "h9MYbZpCRrGt"
      }
    },
    {
      "cell_type": "markdown",
      "source": [
        "We first calculate all the necessary minors:\n",
        "\n",
        "$$\\det(M_{21}) = \\det\\begin{pmatrix}\n",
        "3 & 1 & 4 \\\\\n",
        "2 & 1 & 5 \\\\\n",
        "1 & 4 & 0\n",
        "\\end{pmatrix} = (-1)^{3+1}\\det\\begin{pmatrix}\n",
        "1 & 4 \\\\\n",
        "1 & 5\n",
        "\\end{pmatrix}\n",
        "+ 4 \\times (-1)^{3+2}\\det\\begin{pmatrix}\n",
        "3 & 4 \\\\\n",
        "2 & 5\n",
        "\\end{pmatrix} + 0 = (5 - 4) - 4(3 \\times 5 - 4 \\times 2) = 1 - 4(15 - 8) = 1 - 28 = -27\n",
        "$$"
      ],
      "metadata": {
        "id": "sVp9aiUg84K8"
      }
    },
    {
      "cell_type": "code",
      "source": [
        "import sympy as sp\n",
        "\n",
        "M21 = sp.Matrix([[3, 1, 4],[2, 1, 5], [1, 4, 0]])\n",
        "M21.det()\n"
      ],
      "metadata": {
        "id": "MqqD62aK89eW",
        "outputId": "11a3cf9c-6f49-4c49-bee3-20afc477439c",
        "colab": {
          "base_uri": "https://localhost:8080/",
          "height": 37
        }
      },
      "execution_count": 6,
      "outputs": [
        {
          "output_type": "execute_result",
          "data": {
            "text/plain": [
              "-27"
            ],
            "text/latex": "$\\displaystyle -27$"
          },
          "metadata": {},
          "execution_count": 6
        }
      ]
    },
    {
      "cell_type": "markdown",
      "source": [
        "$$ \\det(M_{24}) = \\det\\begin{pmatrix}\n",
        "2 & 3 & 1  \\\\\n",
        "3 & 2 & 1 \\\\\n",
        "2 & 1 & 4\n",
        "\\end{pmatrix} =\n",
        "2 \\det \\begin{pmatrix}\n",
        "2 & 1  \\\\\n",
        "1 & 4\n",
        "\\end{pmatrix} - 3 \\det\\begin{pmatrix}\n",
        "3 & 1 \\\\\n",
        "2 & 4\n",
        "\\end{pmatrix} + 1 \\det\\begin{pmatrix}\n",
        "3 & 2 \\\\\n",
        "2 & 1\n",
        "\\end{pmatrix} = 2(8 - 1) - 3(12 - 2) + (3 - 4) = 14 - 30 - 1 = -17\n",
        "$$\n"
      ],
      "metadata": {
        "id": "xFcuJqDM_d4a"
      }
    },
    {
      "cell_type": "code",
      "source": [
        "import sympy as sp\n",
        "\n",
        "M24 = sp.Matrix([[2, 3, 1],[3, 2, 1], [2, 1, 4]])\n",
        "M24.det()"
      ],
      "metadata": {
        "id": "vkbJNmngBUMT",
        "outputId": "ba1a44d9-5ee2-416d-86b1-4fc5e0634f53",
        "colab": {
          "base_uri": "https://localhost:8080/",
          "height": 37
        }
      },
      "execution_count": 7,
      "outputs": [
        {
          "output_type": "execute_result",
          "data": {
            "text/plain": [
              "-17"
            ],
            "text/latex": "$\\displaystyle -17$"
          },
          "metadata": {},
          "execution_count": 7
        }
      ]
    },
    {
      "cell_type": "markdown",
      "source": [
        "Finally, we calculate the determinant of $C$:\n",
        "\n",
        "$$ 1 \\times \\det(M_{21}) + 6 \\times \\det(M_{24}) = -27 + 6(-17) = -75\n",
        "$$"
      ],
      "metadata": {
        "id": "-LiZzp59CTW3"
      }
    },
    {
      "cell_type": "code",
      "source": [
        "import sympy as sp\n",
        "\n",
        "C = sp.Matrix([\n",
        "    [2, 3, 1, 4],\n",
        "    [1, 0, 0, 6],\n",
        "    [3, 2, 1, 5],\n",
        "    [2, 1, 4, 0]\n",
        "])\n",
        "\n",
        "C.det()"
      ],
      "metadata": {
        "colab": {
          "base_uri": "https://localhost:8080/",
          "height": 37
        },
        "id": "_PpMeO59VHwc",
        "outputId": "6e667bcd-4010-40c8-d8e3-b4ff59b9fc60"
      },
      "execution_count": 8,
      "outputs": [
        {
          "output_type": "execute_result",
          "data": {
            "text/plain": [
              "-75"
            ],
            "text/latex": "$\\displaystyle -75$"
          },
          "metadata": {},
          "execution_count": 8
        }
      ]
    },
    {
      "cell_type": "markdown",
      "source": [
        "4. $$ D= \\begin{pmatrix}\n",
        "2 & 3 & 1 & 4 & 5 \\\\\n",
        "1 & 4 & 0 & 0 & 7 \\\\\n",
        "3 & 0 & 0 & 0 & 0 \\\\\n",
        "2 & 1 & 4 & 3 & 2 \\\\\n",
        "1 & 2 & 3 & 4 & 5\n",
        "\\end{pmatrix}\n",
        "$$\n",
        "\n",
        "\n",
        "Expanding over the third row:\n",
        "\n",
        "$$\\det(D) = 3 \\times \\det\\begin{pmatrix}\n",
        "3 & 1 & 4 & 5 \\\\\n",
        "4 & 0 & 0 & 7 \\\\\n",
        "1 & 4 & 3 & 2 \\\\\n",
        "2 & 3 & 4 & 5\n",
        "\\end{pmatrix}\n",
        "$$"
      ],
      "metadata": {
        "id": "oikqrps-OnzV"
      }
    },
    {
      "cell_type": "markdown",
      "source": [
        "Then, calculating the determinant of the $4 \\times 4$ submatrix:"
      ],
      "metadata": {
        "id": "cr3CvYHDDqEo"
      }
    },
    {
      "cell_type": "markdown",
      "source": [
        "$$\\det\\begin{pmatrix}\n",
        "3 & 1 & 4 & 5 \\\\\n",
        "4 & 0 & 0 & 7 \\\\\n",
        "1 & 4 & 3 & 2 \\\\\n",
        "2 & 3 & 4 & 5\n",
        "\\end{pmatrix}\n",
        "= 4 \\det \\begin{pmatrix}\n",
        "1 & 4 & 5 \\\\\n",
        "4 & 3 & 2  \\\\\n",
        "3 & 4 & 5\n",
        "\\end{pmatrix} - 7 \\det \\begin{pmatrix}\n",
        "3 & 1 & 4 \\\\\n",
        "1 & 4 & 3 \\\\\n",
        "2 & 3 & 4\n",
        "\\end{pmatrix} = 77\n",
        "$$"
      ],
      "metadata": {
        "id": "GeY3TJF-D3JN"
      }
    },
    {
      "cell_type": "code",
      "source": [
        "import sympy as sp\n",
        "\n",
        "sub1 = sp.Matrix([[1,4,5],[4,3,2],[3,4,5]])\n",
        "sub1.det()"
      ],
      "metadata": {
        "id": "eKO5vGqUD-Kv",
        "outputId": "d6ac2aa8-15dc-43b2-ac03-82b8f9adfe4a",
        "colab": {
          "base_uri": "https://localhost:8080/",
          "height": 37
        }
      },
      "execution_count": 9,
      "outputs": [
        {
          "output_type": "execute_result",
          "data": {
            "text/plain": [
              "-14"
            ],
            "text/latex": "$\\displaystyle -14$"
          },
          "metadata": {},
          "execution_count": 9
        }
      ]
    },
    {
      "cell_type": "code",
      "source": [
        "import sympy as sp\n",
        "\n",
        "sub2 = sp.Matrix([[3,1,4],[1,4,3],[2,3,4]])\n",
        "sub2.det()"
      ],
      "metadata": {
        "id": "2CYRxwpHENrk",
        "outputId": "5555c239-b757-4cae-bff0-adadec3595ce",
        "colab": {
          "base_uri": "https://localhost:8080/",
          "height": 37
        }
      },
      "execution_count": 11,
      "outputs": [
        {
          "output_type": "execute_result",
          "data": {
            "text/plain": [
              "3"
            ],
            "text/latex": "$\\displaystyle 3$"
          },
          "metadata": {},
          "execution_count": 11
        }
      ]
    },
    {
      "cell_type": "code",
      "source": [
        "import sympy as sp\n",
        "\n",
        "m1 = sp.Matrix([[3,1,4,5],[4,0,0,7],[1,4,3,2],[2,3,4,5]])\n",
        "m1.det()"
      ],
      "metadata": {
        "id": "1-H3lD6OEprf",
        "outputId": "a07504e4-5f62-4ffa-94be-db1ec1237603",
        "colab": {
          "base_uri": "https://localhost:8080/",
          "height": 37
        }
      },
      "execution_count": 14,
      "outputs": [
        {
          "output_type": "execute_result",
          "data": {
            "text/plain": [
              "77"
            ],
            "text/latex": "$\\displaystyle 77$"
          },
          "metadata": {},
          "execution_count": 14
        }
      ]
    }
  ],
  "metadata": {
    "kernelspec": {
      "display_name": "Python 3",
      "language": "python",
      "name": "python3"
    },
    "language_info": {
      "codemirror_mode": {
        "name": "ipython",
        "version": 3
      },
      "file_extension": ".py",
      "mimetype": "text/x-python",
      "name": "python",
      "nbconvert_exporter": "python",
      "pygments_lexer": "ipython3",
      "version": "3.11.9"
    },
    "colab": {
      "provenance": []
    }
  },
  "nbformat": 4,
  "nbformat_minor": 0
}