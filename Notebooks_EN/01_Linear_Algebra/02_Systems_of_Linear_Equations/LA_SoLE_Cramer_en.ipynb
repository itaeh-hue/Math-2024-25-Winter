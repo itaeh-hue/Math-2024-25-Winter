{
  "cells": [
    {
      "cell_type": "markdown",
      "metadata": {
        "id": "cYuWUV7IZj66"
      },
      "source": [
        "# Cramer's Rule - Examples for 2x2, 3x3, and 4x4 Systems\n",
        "\n",
        "Cramer's rule is used only when the number of equations is equal to the number of unknowns. In other words, the coefficient matrix must be a square matrix.\n",
        "\n",
        "**These formulas are used only** when the **determinant** of the coefficient matrix is **non-zero**. Otherwise, the system of equations is either inconsistent or indeterminate.\n",
        "\n",
        "## 2x2 System of Equations\n",
        "\n",
        "Consider a system of two equations with two unknowns:\n",
        "\n",
        "$$\n",
        "\\begin{cases}\n",
        "a_{11}x_1 + a_{12}x_2 = b_1 \\\\\n",
        "a_{21}x_1 + a_{22}x_2 = b_2\n",
        "\\end{cases}\n",
        "$$\n",
        "\n",
        "Cramer's rule for the unknowns $ x_1 $ and $ x_2 $ is as follows:\n",
        "\n",
        "$$\n",
        "x_1 = \\frac{\\det(A_1)}{\\det(A)} \\quad \\text{and} \\quad x_2 = \\frac{\\det(A_2)}{\\det(A)}\n",
        "$$\n",
        "\n",
        "Where:\n",
        "\n",
        "$$\n",
        "\\det(A) =\n",
        "\\begin{vmatrix}\n",
        "a_{11} & a_{12} \\\\\n",
        "a_{21} & a_{22}\n",
        "\\end{vmatrix}\n",
        "= a_{11}a_{22} - a_{12}a_{21}\n",
        "$$\n",
        "\n",
        "$$\n",
        "\\det(A_1) =\n",
        "\\begin{vmatrix}\n",
        "b_1 & a_{12} \\\\\n",
        "b_2 & a_{22}\n",
        "\\end{vmatrix}\n",
        "= b_1a_{22} - a_{12}b_2\n",
        "$$\n",
        "\n",
        "$$\n",
        "\\det(A_2) =\n",
        "\\begin{vmatrix}\n",
        "a_{11} & b_1 \\\\\n",
        "a_{21} & b_2\n",
        "\\end{vmatrix}\n",
        "= a_{11}b_2 - b_1a_{21}\n",
        "$$\n",
        "\n",
        "## 3x3 System of Equations\n",
        "\n",
        "Consider a system of three equations with three unknowns:\n",
        "\n",
        "$$\n",
        "\\begin{cases}\n",
        "a_{11}x_1 + a_{12}x_2 + a_{13}x_3 = b_1 \\\\\n",
        "a_{21}x_1 + a_{22}x_2 + a_{23}x_3 = b_2 \\\\\n",
        "a_{31}x_1 + a_{32}x_2 + a_{33}x_3 = b_3\n",
        "\\end{cases}\n",
        "$$\n",
        "\n",
        "Cramer's rule for $ x_1 $, $ x_2 $, and $ x_3 $:\n",
        "\n",
        "$$\n",
        "x_1 = \\frac{\\det(A_1)}{\\det(A)} \\quad x_2 = \\frac{\\det(A_2)}{\\det(A)} \\quad x_3 = \\frac{\\det(A_3)}{\\det(A)}\n",
        "$$\n",
        "\n",
        "Where:\n",
        "\n",
        "$$\n",
        "\\det(A) =\n",
        "\\begin{vmatrix}\n",
        "a_{11} & a_{12} & a_{13} \\\\\n",
        "a_{21} & a_{22} & a_{23} \\\\\n",
        "a_{31} & a_{32} & a_{33}\n",
        "\\end{vmatrix}\n",
        "$$\n",
        "\n",
        "$$\n",
        "\\det(A_1) =\n",
        "\\begin{vmatrix}\n",
        "b_1 & a_{12} & a_{13} \\\\\n",
        "b_2 & a_{22} & a_{23} \\\\\n",
        "b_3 & a_{32} & a_{33}\n",
        "\\end{vmatrix}\n",
        "$$\n",
        "\n",
        "$$\n",
        "\\det(A_2) =\n",
        "\\begin{vmatrix}\n",
        "a_{11} & b_1 & a_{13} \\\\\n",
        "a_{21} & b_2 & a_{23} \\\\\n",
        "a_{31} & b_3 & a_{33}\n",
        "\\end{vmatrix}\n",
        "$$\n",
        "\n",
        "$$\n",
        "\\det(A_3) =\n",
        "\\begin{vmatrix}\n",
        "a_{11} & a_{12} & b_1 \\\\\n",
        "a_{21} & a_{22} & b_2 \\\\\n",
        "a_{31} & a_{32} & b_3\n",
        "\\end{vmatrix}\n",
        "$$\n",
        "\n",
        "## 4x4 System of Equations\n",
        "\n",
        "Consider a system of four equations with four unknowns:\n",
        "\n",
        "$$\n",
        "\\begin{cases}\n",
        "a_{11}x_1 + a_{12}x_2 + a_{13}x_3 + a_{14}x_4 = b_1 \\\\\n",
        "a_{21}x_1 + a_{22}x_2 + a_{23}x_3 + a_{24}x_4 = b_2 \\\\\n",
        "a_{31}x_1 + a_{32}x_2 + a_{33}x_3 + a_{34}x_4 = b_3 \\\\\n",
        "a_{41}x_1 + a_{42}x_2 + a_{43}x_3 + a_{44}x_4 = b_4\n",
        "\\end{cases}\n",
        "$$\n",
        "\n",
        "Cramer's rule for $ x_1 $, $ x_2 $, $ x_3 $, and $ x_4 $:\n",
        "\n",
        "$$\n",
        "x_1 = \\frac{\\det(A_1)}{\\det(A)} \\quad x_2 = \\frac{\\det(A_2)}{\\det(A)} \\quad x_3 = \\frac{\\det(A_3)}{\\det(A)} \\quad x_4 = \\frac{\\det(A_4)}{\\det(A)}\n",
        "$$\n",
        "\n",
        "Where:\n",
        "\n",
        "$$\n",
        "\\det(A) =\n",
        "\\begin{vmatrix}\n",
        "a_{11} & a_{12} & a_{13} & a_{14} \\\\\n",
        "a_{21} & a_{22} & a_{23} & a_{24} \\\\\n",
        "a_{31} & a_{32} & a_{33} & a_{34} \\\\\n",
        "a_{41} & a_{42} & a_{43} & a_{44}\n",
        "\\end{vmatrix}\n",
        "$$\n",
        "\n",
        "$$\n",
        "\\det(A_1) =\n",
        "\\begin{vmatrix}\n",
        "b_1 & a_{12} & a_{13} & a_{14} \\\\\n",
        "b_2 & a_{22} & a_{23} & a_{24} \\\\\n",
        "b_3 & a_{32} & a_{33} & a_{34} \\\\\n",
        "b_4 & a_{42} & a_{43} & a_{44}\n",
        "\\end{vmatrix}\n",
        "$$\n",
        "\n",
        "$$\n",
        "\\det(A_2) =\n",
        "\\begin{vmatrix}\n",
        "a_{11} & b_1 & a_{13} & a_{14} \\\\\n",
        "a_{21} & b_2 & a_{23} & a_{24} \\\\\n",
        "a_{31} & b_3 & a_{33} & a_{34} \\\\\n",
        "a_{41} & b_4 & a_{43} & a_{44}\n",
        "\\end{vmatrix}\n",
        "$$\n",
        "\n",
        "$$\n",
        "\\det(A_3) =\n",
        "\\begin{vmatrix}\n",
        "a_{11} & a_{12} & b_1 & a_{14} \\\\\n",
        "a_{21} & a_{22} & b_2 & a_{24} \\\\\n",
        "a_{31} & a_{32} & b_3 & a_{34} \\\\\n",
        "a_{41} & a_{42} & b_4 & a_{44}\n",
        "\\end{vmatrix}\n",
        "$$\n",
        "\n",
        "$$\n",
        "\\det(A_4) =\n",
        "\\begin{vmatrix}\n",
        "a_{11} & a_{12} & a_{13} & b_1 \\\\\n",
        "a_{21} & a_{22} & a_{23} & b_2 \\\\\n",
        "a_{31} & a_{32} & a_{33} & b_3 \\\\\n",
        "a_{41} & a_{42} & a_{43} & b_4\n",
        "\\end{vmatrix}\n",
        "$$\n",
        "\n",
        "## Example"
      ]
    },
    {
      "cell_type": "code",
      "execution_count": null,
      "metadata": {
        "id": "tSkFPJUYZj68"
      },
      "outputs": [],
      "source": [
        "import sympy as sp\n",
        "\n",
        "# Define symbols\n",
        "x, y, z = sp.symbols('x y z')\n",
        "\n",
        "# Define the system of equations\n",
        "eq1 = sp.Eq(2*x + 3*y + z, 1)\n",
        "eq2 = sp.Eq(3*x + 2*y + 2*z, 2)\n",
        "eq3 = sp.Eq(x + y + z, 3)\n",
        "\n",
        "# Coefficient matrix of the system\n",
        "A = sp.Matrix([[2, 3, 1], [3, 2, 2], [1, 1, 1]])\n",
        "# Free terms vector\n",
        "b = sp.Matrix([1, 2, 3])"
      ]
    },
    {
      "cell_type": "code",
      "execution_count": null,
      "metadata": {
        "id": "vcglO8D4Zj69",
        "outputId": "904756e7-bd2f-4ee5-ca0e-c519bd2034c0"
      },
      "outputs": [
        {
          "data": {
            "text/latex": [
              "$\\displaystyle \\left[\\begin{matrix}2 & 3 & 1\\\\3 & 2 & 2\\\\1 & 1 & 1\\end{matrix}\\right]$"
            ],
            "text/plain": [
              "Matrix([\n",
              "[2, 3, 1],\n",
              "[3, 2, 2],\n",
              "[1, 1, 1]])"
            ]
          },
          "execution_count": 2,
          "metadata": {},
          "output_type": "execute_result"
        }
      ],
      "source": [
        "A"
      ]
    },
    {
      "cell_type": "code",
      "execution_count": null,
      "metadata": {
        "id": "uvoKsR_4Zj69",
        "outputId": "322f8081-da69-4506-f158-e33d7b90ad9b"
      },
      "outputs": [
        {
          "data": {
            "text/latex": [
              "$\\displaystyle \\left[\\begin{matrix}1\\\\2\\\\3\\end{matrix}\\right]$"
            ],
            "text/plain": [
              "Matrix([\n",
              "[1],\n",
              "[2],\n",
              "[3]])"
            ]
          },
          "execution_count": 3,
          "metadata": {},
          "output_type": "execute_result"
        }
      ],
      "source": [
        "b"
      ]
    },
    {
      "cell_type": "code",
      "execution_count": null,
      "metadata": {
        "id": "oUxsXns4Zj6-",
        "outputId": "604d0f3e-d03c-447f-d930-7651fba94c73"
      },
      "outputs": [
        {
          "data": {
            "text/latex": [
              "$\\displaystyle \\left[\\begin{matrix}1 & 3 & 1\\\\2 & 2 & 2\\\\3 & 1 & 1\\end{matrix}\\right]$"
            ],
            "text/plain": [
              "Matrix([\n",
              "[1, 3, 1],\n",
              "[2, 2, 2],\n",
              "[3, 1, 1]])"
            ]
          },
          "execution_count": 4,
          "metadata": {},
          "output_type": "execute_result"
        }
      ],
      "source": [
        "# Define matrix A_1\n",
        "A_1 = A.copy() # Copy matrix A\n",
        "A_1[:, 0] = b # Replace the first column of A with vector b\n",
        "A_1 # Check if the replacement was successful"
      ]
    },
    {
      "cell_type": "code",
      "execution_count": null,
      "metadata": {
        "id": "JLP8FXAgZj6-",
        "outputId": "bc43a425-571b-41ad-cfe8-a84f26dcdcff"
      },
      "outputs": [
        {
          "data": {
            "text/latex": [
              "$\\displaystyle -4$"
            ],
            "text/plain": [
              "-4"
            ]
          },
          "execution_count": 5,
          "metadata": {},
          "output_type": "execute_result"
        }
      ],
      "source": [
        "det_A_1 = A_1.det() # Calculate determinant of A_1\n",
        "sol_x = det_A_1 / A.det() # Calculate x_1\n",
        "sol_x # Calculated value of x_1"
      ]
    },
    {
      "cell_type": "code",
      "execution_count": null,
      "metadata": {
        "id": "gpTje_L3Zj6_",
        "outputId": "18fe4c6a-b948-4d62-fe10-ff8d9b2b0d20"
      },
      "outputs": [
        {
          "data": {
            "text/latex": [
              "$\\displaystyle \\left[\\begin{matrix}2 & 1 & 1\\\\3 & 2 & 2\\\\1 & 3 & 1\\end{matrix}\\right]$"
            ],
            "text/plain": [
              "Matrix([\n",
              "[2, 1, 1],\n",
              "[3, 2, 2],\n",
              "[1, 3, 1]])"
            ]
          },
          "execution_count": 6,
          "metadata": {},
          "output_type": "execute_result"
        }
      ],
      "source": [
        "# Similarly for y\n",
        "A_2 = A.copy()\n",
        "A_2[:, 1] = b\n",
        "A_2 # Check if the replacement was successful"
      ]
    },
    {
      "cell_type": "code",
      "execution_count": null,
      "metadata": {
        "id": "jPIKEo2PZj6_",
        "outputId": "c9595429-e021-48f4-a5b3-fc6d685ddf7c"
      },
      "outputs": [
        {
          "data": {
            "text/latex": [
              "$\\displaystyle 1$"
            ],
            "text/plain": [
              "1"
            ]
          },
          "execution_count": 7,
          "metadata": {},
          "output_type": "execute_result"
        }
      ],
      "source": [
        "det_A_2 = A_2.det()\n",
        "sol_y = det_A_2 / A.det()\n",
        "sol_y"
      ]
    },
    {
      "cell_type": "code",
      "execution_count": null,
      "metadata": {
        "id": "sMj417LQZj7A",
        "outputId": "6f3e973e-8748-40c0-ca72-36d22db727d2"
      },
      "outputs": [
        {
          "data": {
            "text/latex": [
              "$\\displaystyle 6$"
            ],
            "text/plain": [
              "6"
            ]
          },
          "execution_count": 8,
          "metadata": {},
          "output_type": "execute_result"
        }
      ],
      "source": [
        "# Finally for z\n",
        "A_3 = A.copy()\n",
        "A_3[:, 2] = b\n",
        "det_A_3 = A_3.det()\n",
        "sol_z = det_A_3 / A.det()\n",
        "sol_z"
      ]
    },
    {
      "cell_type": "code",
      "execution_count": null,
      "metadata": {
        "id": "Jr5pG44DZj7B",
        "outputId": "6c36155d-3161-44b0-ff7b-bdad6c85350b"
      },
      "outputs": [
        {
          "data": {
            "text/plain": [
              "{x: -4, y: 1, z: 6}"
            ]
          },
          "execution_count": 9,
          "metadata": {},
          "output_type": "execute_result"
        }
      ],
      "source": [
        "# Solve the system of equations\n",
        "sp.solve((eq1, eq2, eq3), (x, y, z))"
      ]
    },
    {
      "cell_type": "markdown",
      "metadata": {
        "id": "heKKKz4mZj7B"
      },
      "source": [
        "---\n",
        "\n",
        "## Exercises for Students\n",
        "\n",
        "1. Solve the system of equations:\n",
        "   $$\n",
        "   \\begin{cases}\n",
        "   2x_1 - 3x_2 = 7 \\\\\n",
        "   3x_1 + 5x_2 = 2\n",
        "   \\end{cases}\n",
        "   $$\n",
        "\n",
        "2. Solve the system of equations:\n",
        "   $$\n",
        "   \\begin{cases}\n",
        "   2x + y - z = 1 \\\\\n",
        "   x - y + 2z = 4 \\\\\n",
        "   3x - 2z = -1\n",
        "   \\end{cases}\n",
        "   $$\n",
        "\n",
        "3. Solve the system of equations:\n",
        "   $$\n",
        "   \\begin{cases}\n",
        "   x + y + z - t = 2 \\\\\n",
        "   x - z + 2t = 6 \\\\\n",
        "   2x - 3y + t = 4 \\\\\n",
        "   3x + y + 3z - 4t = -2\n",
        "   \\end{cases}\n",
        "   $$\n",
        "\n",
        "4. Why can't the following system of equations be solved using Cramer's rule?\n",
        "$$\n",
        "\\begin{cases}\n",
        "x_1 + 2x_2 + 3x_3 = 3 \\\\\n",
        "4x_1 + 5x_2 + 6x_3 = 2 \\\\\n",
        "7x_1 + 8x_2 + 9x_3 = 1\n",
        "\\end{cases}\n",
        "$$"
      ]
    },
    {
      "cell_type": "markdown",
      "source": [
        "1. $$\\begin{cases}\n",
        "2x_1 - 3x_2 = 7 \\\\\n",
        "3x_1 + 5x_2 = 2\n",
        "\\end{cases}\n",
        "$$\n",
        "\n",
        "$$\\det(A) = \\det \\begin{pmatrix}\n",
        "2 & -3 \\\\\n",
        "3 & 5\n",
        "\\end{pmatrix} = 10 + 9 = 19\n",
        "$$\n",
        "\n",
        "$$\n",
        "\\det(A_{1}) = \\det\\begin{pmatrix}\n",
        "7 & -3 \\\\\n",
        "2 & 5\n",
        "\\end{pmatrix} = 35 + 6 = 41\n",
        "$$\n",
        "\n",
        "$$\n",
        "\\det(A_{2}) = \\det\\begin{pmatrix}\n",
        "2 & 7 \\\\\n",
        "3 & 2\n",
        "\\end{pmatrix} = 4 - 21 = -17\n",
        "$$\n",
        "\n",
        "$$\n",
        "x_{1} = \\frac{\\det(A_{1})}{\\det(A)} = \\frac{42}{19}\n",
        "$$\n",
        "\n",
        "$$\n",
        "x_{2} = \\frac{\\det(A_{2})}{\\det(A)} = -\\frac{17}{19}\n",
        "$$\n",
        "\n",
        "\n"
      ],
      "metadata": {
        "id": "zwPk3jGscW7a"
      }
    },
    {
      "cell_type": "markdown",
      "source": [
        "\n",
        "2.\n",
        "$$\\begin{cases}\n",
        "2x + y - z = 1 \\\\\n",
        "x - y + 2z = 4 \\\\\n",
        "3x - 2z = -1\n",
        "\\end{cases}\n",
        "$$\n",
        "\n",
        "\n",
        "According to the Cramer's rule, the solutions to the system of linear equations is as follows:\n",
        "$$\n",
        "x_1 = \\frac{\\det(A_1)}{\\det(A)} \\quad x_2 = \\frac{\\det(A_2)}{\\det(A)} \\quad x_3 = \\frac{\\det(A_3)}{\\det(A)}\n",
        "$$\n",
        "\n",
        "We can rewrite the system as follows:\n",
        "$$\n",
        "\\begin{bmatrix}\n",
        "2 & 1 & -1 \\\\\n",
        " 1 & -1 & 2 \\\\\n",
        " 3 & 0 & -2  \\\\\n",
        "\\end{bmatrix} \\begin{bmatrix}\n",
        "x \\\\\n",
        "y \\\\\n",
        "z \\\\\n",
        "\\end{bmatrix} = \\begin{bmatrix} 1 \\\\ 4 \\\\ -1 \\end{bmatrix}\n",
        "$$\n",
        "\n",
        "Where\n",
        "\n",
        "$$\n",
        "B = \\begin{bmatrix} 1 \\\\ 4 \\\\ -1 \\end{bmatrix}\n",
        "$$\n",
        "\n",
        "Coefficient Matrix:\n",
        "\n",
        "$$\n",
        "\\det(A) = \\det \\begin{bmatrix}\n",
        "2 & 1 & -1  \\\\\n",
        "1 & -1 & 2  \\\\\n",
        "3 & 0 & -2\n",
        "\\end{bmatrix} = -1\n",
        "$$\n",
        "\n"
      ],
      "metadata": {
        "id": "YOcY8gSSbEgv"
      }
    },
    {
      "cell_type": "code",
      "source": [
        "import sympy as sp\n",
        "\n",
        "A = sp.Matrix([\n",
        "\t\t\t   [2,-1,1],\n",
        "\t\t\t   [1,-1,2],\n",
        "\t\t\t   [3,0,-2]\n",
        "])\n",
        "A.det()"
      ],
      "metadata": {
        "id": "kwn-qKYUbGj-",
        "outputId": "b04c4feb-ceef-4c52-a4df-2d1efd2c2bfb",
        "colab": {
          "base_uri": "https://localhost:8080/",
          "height": 37
        }
      },
      "execution_count": 1,
      "outputs": [
        {
          "output_type": "execute_result",
          "data": {
            "text/plain": [
              "-1"
            ],
            "text/latex": "$\\displaystyle -1$"
          },
          "metadata": {},
          "execution_count": 1
        }
      ]
    },
    {
      "cell_type": "markdown",
      "source": [
        "Substituting the first row with the $B$ vector:\n",
        "\n",
        "$$\\det(A_{1}) = \\det \\begin{bmatrix}\n",
        "1 & 2 & 1 \\\\\n",
        "4 & 1 & -1 \\\\\n",
        "-1 & 3 & 0\n",
        "\\end{bmatrix} = 18\n",
        "$$"
      ],
      "metadata": {
        "id": "C_1LGDk7bIve"
      }
    },
    {
      "cell_type": "code",
      "source": [
        "import sympy as sp\n",
        "\n",
        "A1 = sp.Matrix([\n",
        "\t\t\t   [1,2,1],\n",
        "\t\t\t   [4,1,-1],\n",
        "\t\t\t   [-1,3,0]\n",
        "])\n",
        "A1.det()"
      ],
      "metadata": {
        "id": "jSLyCPu7bJyX",
        "outputId": "53e441f5-a58c-46e9-a0fa-8da71e3e454a",
        "colab": {
          "base_uri": "https://localhost:8080/",
          "height": 37
        }
      },
      "execution_count": 2,
      "outputs": [
        {
          "output_type": "execute_result",
          "data": {
            "text/plain": [
              "18"
            ],
            "text/latex": "$\\displaystyle 18$"
          },
          "metadata": {},
          "execution_count": 2
        }
      ]
    },
    {
      "cell_type": "markdown",
      "source": [
        "\n",
        "Substituting the second row with the $B$ vector:\n",
        "$$\n",
        "\\det(A_{2}) = \\det \\begin{bmatrix}\n",
        "2 & 1 & -1 \\\\\n",
        "1 & 4 & 2 \\\\\n",
        "3 & -1 & -2\n",
        "\\end{bmatrix} = 9\n",
        "$$\n",
        "\n"
      ],
      "metadata": {
        "id": "rXCkiaj5bNAN"
      }
    },
    {
      "cell_type": "code",
      "source": [
        "import sympy as sp\n",
        "\n",
        "A2 = sp.Matrix([\n",
        "\t\t\t   [2,1,-1],\n",
        "\t\t\t   [1,4,2],\n",
        "\t\t\t   [3,-1,-2]\n",
        "])\n",
        "A2.det()"
      ],
      "metadata": {
        "id": "X8RS7d7EbOC-",
        "outputId": "632e0b4f-932c-483b-bb1e-c7f2938706eb",
        "colab": {
          "base_uri": "https://localhost:8080/",
          "height": 37
        }
      },
      "execution_count": 3,
      "outputs": [
        {
          "output_type": "execute_result",
          "data": {
            "text/plain": [
              "9"
            ],
            "text/latex": "$\\displaystyle 9$"
          },
          "metadata": {},
          "execution_count": 3
        }
      ]
    },
    {
      "cell_type": "markdown",
      "source": [
        "Substituting the third row with the $B$ vector:\n",
        "\n",
        "$$\n",
        "\\det(A_{3}) = \\det \\begin{bmatrix}\n",
        "2 & 1 & 1 \\\\\n",
        "1 & -1 & 4 \\\\\n",
        "3 & 0 & -1\n",
        "\\end{bmatrix} = 18\n",
        "$$\n"
      ],
      "metadata": {
        "id": "sNY-c_xQbQHI"
      }
    },
    {
      "cell_type": "code",
      "source": [
        "import sympy as sp\n",
        "\n",
        "A3 = sp.Matrix([\n",
        "\t\t\t   [2,1,1],\n",
        "\t\t\t   [1,-1,4],\n",
        "\t\t\t   [3,0,-1]\n",
        "])\n",
        "A3.det()"
      ],
      "metadata": {
        "id": "5oNh16IjbRVT",
        "outputId": "162f7cec-211c-49d6-91f3-dca515f7f688",
        "colab": {
          "base_uri": "https://localhost:8080/",
          "height": 37
        }
      },
      "execution_count": 4,
      "outputs": [
        {
          "output_type": "execute_result",
          "data": {
            "text/plain": [
              "18"
            ],
            "text/latex": "$\\displaystyle 18$"
          },
          "metadata": {},
          "execution_count": 4
        }
      ]
    },
    {
      "cell_type": "markdown",
      "source": [
        "\n",
        "$$\n",
        "\\det(A) = -1, \\space\n",
        "\\det(A_{1}) = 18, \\space\n",
        "\\det(A_{2}) = 9, \\space\n",
        "\\det(A_{3}) = 18\n",
        "$$\n",
        "\n",
        "$$\n",
        "x_1 = \\frac{\\det(A_1)}{\\det(A)} \\quad x_2 = \\frac{\\det(A_2)}{\\det(A)} \\quad x_3 = \\frac{\\det(A_3)}{\\det(A)}\n",
        "$$\n",
        "$$\n",
        "x_1 = \\frac{\\det(A_1)}{\\det(A)} \\quad = \\frac{18}{-1} = -18\n",
        "$$\n",
        "$$\n",
        "x_2 = \\frac{\\det(A_2)}{\\det(A)} \\quad = \\frac{9}{-1} = -9\n",
        "$$\n",
        "\n",
        "$$\n",
        "x_3 = \\frac{\\det(A_3)}{\\det(A)} \\quad = \\frac{18}{-1} = -18\n",
        "$$\n"
      ],
      "metadata": {
        "id": "85yCcOozc8lW"
      }
    },
    {
      "cell_type": "markdown",
      "source": [
        "3.\n",
        "$$\\begin{cases}\n",
        "   x + y + z - t = 2 \\\\\n",
        "   x - z + 2t = 6 \\\\\n",
        "   2x - 3y + t = 4 \\\\\n",
        "   3x + y + 3z - 4t = -2\n",
        "   \\end{cases}$$\n",
        "We can rewrite this in the following form:\n",
        "\n",
        "$$\\begin{bmatrix}\n",
        "1 & 1 & 1 & -1\\\\\n",
        "1 & 0 & -1 & 2\\\\\n",
        "2 & -3 & 0 & 1 \\\\\n",
        "3 & 1 & 3 & -4\n",
        "\\end{bmatrix} \\begin{bmatrix}\n",
        "x \\\\\n",
        "y \\\\\n",
        "z \\\\\n",
        "t\n",
        "\\end{bmatrix} = \\begin{bmatrix} 2 \\\\ 6 \\\\ 4 \\\\ -2 \\end{bmatrix}\n",
        "$$\n",
        "Where the solution vector $B$ is:\n",
        "\n",
        "$$\n",
        "B = \\begin{bmatrix} 2 \\\\ 6 \\\\ 4 \\\\ -2 \\end{bmatrix}\n",
        "$$\n",
        "\n",
        "$$x_1 = \\frac{\\det(A_1)}{\\det(A)} \\quad x_2 = \\frac{\\det(A_2)}{\\det(A)} \\quad x_3 = \\frac{\\det(A_3)}{\\det(A)} \\quad x_4 = \\frac{\\det(A_4)}{\\det(A)}$$\n",
        "\n",
        "\n",
        "Coefficient matrix:\n",
        "\n",
        "$$\\det(A) = \\det\\begin{bmatrix}\n",
        "1 & 1 & 1 & -1\\\\\n",
        "1 & 0 & -1 & 2\\\\\n",
        "2 & -3 & 0 & 1 \\\\\n",
        "3 & 1 & 3 & -4\n",
        "\\end{bmatrix}\n",
        "= 8\n",
        "$$\n"
      ],
      "metadata": {
        "id": "En1adhbigKmT"
      }
    },
    {
      "cell_type": "code",
      "source": [
        "import sympy as sp\n",
        "\n",
        "A = sp.Matrix([\n",
        "\t\t\t   [1, 1, 1, -1],\n",
        "\t\t\t   [1, 0, -1, 2],\n",
        "\t\t\t   [2, -3, 0, 1],\n",
        "\t\t\t   [3, 1, 3, -4]\n",
        "])\n",
        "A.det()"
      ],
      "metadata": {
        "id": "co6oJt2EgMR8",
        "outputId": "f8eff2df-470d-46a5-902a-923a8bc736ba",
        "colab": {
          "base_uri": "https://localhost:8080/",
          "height": 37
        }
      },
      "execution_count": 5,
      "outputs": [
        {
          "output_type": "execute_result",
          "data": {
            "text/plain": [
              "8"
            ],
            "text/latex": "$\\displaystyle 8$"
          },
          "metadata": {},
          "execution_count": 5
        }
      ]
    },
    {
      "cell_type": "markdown",
      "source": [
        "Substituting the first row with the $B$ vector:\n",
        "\n",
        "$$\n",
        "A_{1} = \\det\\begin{bmatrix}\n",
        "2 & 1 & 1 & -1\\\\\n",
        "6 & 0 & -1 & 2\\\\\n",
        "4 & -3 & 0 & 1 \\\\\n",
        "-2 & 1 & 3 & -4\n",
        "\\end{bmatrix} = 20\n",
        "$$"
      ],
      "metadata": {
        "id": "brno7ngngkeH"
      }
    },
    {
      "cell_type": "code",
      "source": [
        "import sympy as sp\n",
        "\n",
        "\n",
        "b = sp.Matrix([2, 6, 4, 2])\n",
        "\n",
        "A1 = A.copy()\n",
        "A1[:, 0] = b\n",
        "A1.det()"
      ],
      "metadata": {
        "id": "FqhUZ9dHgl9H",
        "outputId": "0d33cc93-ed75-4e02-a882-267040368ce9",
        "colab": {
          "base_uri": "https://localhost:8080/",
          "height": 37
        }
      },
      "execution_count": 10,
      "outputs": [
        {
          "output_type": "execute_result",
          "data": {
            "text/plain": [
              "20"
            ],
            "text/latex": "$\\displaystyle 20$"
          },
          "metadata": {},
          "execution_count": 10
        }
      ]
    },
    {
      "cell_type": "markdown",
      "source": [
        "Substituting the second row with the $B$ vector:\n",
        "$$\\det(A_{2}) = \\det\\begin{bmatrix}\n",
        "1 & 2 & 1 & -1\\\\\n",
        "1 & 6 & -1 & 2\\\\\n",
        "2 & 4 & 0 & 1 \\\\\n",
        "3 & -2 & 3 & -4\n",
        "\\end{bmatrix}\n",
        "= 8\n",
        "$$"
      ],
      "metadata": {
        "id": "edeuQWuwgr1d"
      }
    },
    {
      "cell_type": "code",
      "source": [
        "import sympy as sp\n",
        "\n",
        "b = sp.Matrix([2, 6, 4, 2])\n",
        "\n",
        "A2 = A.copy()\n",
        "A2[:, 1] = b\n",
        "A2.det()"
      ],
      "metadata": {
        "id": "FLnDWiYugtKv",
        "outputId": "06b93e9d-cf3b-4231-fc9f-f1bdbab43dd4",
        "colab": {
          "base_uri": "https://localhost:8080/",
          "height": 37
        }
      },
      "execution_count": 12,
      "outputs": [
        {
          "output_type": "execute_result",
          "data": {
            "text/plain": [
              "8"
            ],
            "text/latex": "$\\displaystyle 8$"
          },
          "metadata": {},
          "execution_count": 12
        }
      ]
    },
    {
      "cell_type": "markdown",
      "source": [
        "Substituting the third row with the $B$ vector:\n",
        "$$\\det(A_{3}) = \\det\\begin{bmatrix}\n",
        "1 & 1 & 2 & -1\\\\\n",
        "1 & 0 & 6 & 2\\\\\n",
        "2 & -3 & 4 & 1 \\\\\n",
        "3 & 1 & -2 & -4\n",
        "\\end{bmatrix}\n",
        "= 4\n",
        "$$"
      ],
      "metadata": {
        "id": "qpHuUTPlhDMp"
      }
    },
    {
      "cell_type": "code",
      "source": [
        "import sympy as sp\n",
        "\n",
        "b = sp.Matrix([2, 6, 4, 2])\n",
        "\n",
        "A3 = A.copy()\n",
        "A3[:, 2] = b\n",
        "\n",
        "A3.det()"
      ],
      "metadata": {
        "id": "DOhX_oS5hEab",
        "outputId": "bed87bbc-1194-4ce0-f92e-2b42b6fd4e99",
        "colab": {
          "base_uri": "https://localhost:8080/",
          "height": 37
        }
      },
      "execution_count": 9,
      "outputs": [
        {
          "output_type": "execute_result",
          "data": {
            "text/plain": [
              "4"
            ],
            "text/latex": "$\\displaystyle 4$"
          },
          "metadata": {},
          "execution_count": 9
        }
      ]
    },
    {
      "cell_type": "markdown",
      "source": [
        "Substituting the fourth row with the $B$ vector:\n",
        "$$\\det(A_{4}) = \\det\\begin{bmatrix}\n",
        "1 & 1 & 1 & 2\\\\\n",
        "1 & 0 & -1 & 6\\\\\n",
        "2 & -3 & 0 & 4 \\\\\n",
        "3 & 1 & 3 & -2\n",
        "\\end{bmatrix}\n",
        "= 16\n",
        "$$"
      ],
      "metadata": {
        "id": "AkW0cmkQiaPI"
      }
    },
    {
      "cell_type": "code",
      "source": [
        "import sympy as sp\n",
        "\n",
        "b = sp.Matrix([2, 6, 4, 2])\n",
        "\n",
        "A4 = A.copy()\n",
        "A4[:, 3] = b\n",
        "A4.det()"
      ],
      "metadata": {
        "id": "ZpAeW_zribOa",
        "outputId": "669e8aef-467c-4733-b703-99bcd5c9f97a",
        "colab": {
          "base_uri": "https://localhost:8080/",
          "height": 37
        }
      },
      "execution_count": 13,
      "outputs": [
        {
          "output_type": "execute_result",
          "data": {
            "text/plain": [
              "16"
            ],
            "text/latex": "$\\displaystyle 16$"
          },
          "metadata": {},
          "execution_count": 13
        }
      ]
    },
    {
      "cell_type": "markdown",
      "source": [
        "\n",
        "$$\n",
        "\\det(A) = 8, \\space\n",
        "\\det(A_{1}) = 20, \\space\n",
        "\\det(A_{2}) = 8, \\space\n",
        "\\det(A_{3}) = 4, \\space\n",
        "\\det(A_{4}) = 16\n",
        "$$\n",
        "\n",
        "$$\n",
        "x_1 = \\frac{\\det(A_1)}{\\det(A)} = \\frac{20}{8} = 2.5 \\quad x_2 = \\frac{\\det(A_2)}{\\det(A)} = \\frac{8}{8} = 1 \\quad x_3 = \\frac{\\det(A_3)}{\\det(A)} = \\frac{4}{8} = 0.5 \\quad x_4 = \\frac{\\det(A_4)}{\\det(A)} = \\frac{16}{8}\n",
        "$$"
      ],
      "metadata": {
        "id": "y_Ux9boIjUdw"
      }
    },
    {
      "cell_type": "markdown",
      "source": [
        "4.\n",
        "$$\n",
        "\\begin{cases}\n",
        "x_1 + 2x_2 + 3x_3 = 3 \\\\\n",
        "4x_1 + 5x_2 + 6x_3 = 2 \\\\\n",
        "7x_1 + 8x_2 + 9x_3 = 1\n",
        "\\end{cases}\n",
        "$$\n",
        "\n",
        "\n",
        "\n",
        "The coefficient matrix $A$ can be expressed as:\n",
        "\n",
        "$$ A = \\begin{bmatrix} 1 & 2 & 3  \\\\\n",
        " 4 & 5 & 6  \\\\\n",
        " 7 & 8 & 9 \\end{bmatrix} $$\n",
        "To apply the Cramer's rule, we first need to calculate the determinant of the coefficient matrix:\n",
        "\n",
        "$$ \\det(A) = \\det\\begin{bmatrix} 1 & 2 & 3  \\\\\n",
        " 4 & 5 & 6  \\\\\n",
        " 7 & 8 & 9 \\end{bmatrix} = 0$$\n"
      ],
      "metadata": {
        "id": "_Ak0fcUpkMWw"
      }
    },
    {
      "cell_type": "code",
      "source": [
        "import sympy as sp\n",
        "\n",
        "A = sp.Matrix([\n",
        "\t\t\t   [1,2,3],\n",
        "\t\t\t   [4,5,6],\n",
        "\t\t\t   [7,8,9]\n",
        "])\n",
        "A.det()"
      ],
      "metadata": {
        "id": "zEWOCsqNkVaj",
        "outputId": "644395a9-06fc-49fc-e07d-b9a3b05a743d",
        "colab": {
          "base_uri": "https://localhost:8080/",
          "height": 37
        }
      },
      "execution_count": 14,
      "outputs": [
        {
          "output_type": "execute_result",
          "data": {
            "text/plain": [
              "0"
            ],
            "text/latex": "$\\displaystyle 0$"
          },
          "metadata": {},
          "execution_count": 14
        }
      ]
    },
    {
      "cell_type": "markdown",
      "source": [
        "The determinant of the coefficient matrix is zero. Since the determinant of the coefficient matrix is zero, you cannot use Cramer's rule on this system. The system either has no solutions or infinitely many solutions, so Cramer's rule doesn't apply here."
      ],
      "metadata": {
        "id": "_tKwL4rRk9Z7"
      }
    }
  ],
  "metadata": {
    "kernelspec": {
      "display_name": "Python 3",
      "language": "python",
      "name": "python3"
    },
    "language_info": {
      "codemirror_mode": {
        "name": "ipython",
        "version": 3
      },
      "file_extension": ".py",
      "mimetype": "text/x-python",
      "name": "python",
      "nbconvert_exporter": "python",
      "pygments_lexer": "ipython3",
      "version": "3.11.9"
    },
    "colab": {
      "provenance": []
    }
  },
  "nbformat": 4,
  "nbformat_minor": 0
}