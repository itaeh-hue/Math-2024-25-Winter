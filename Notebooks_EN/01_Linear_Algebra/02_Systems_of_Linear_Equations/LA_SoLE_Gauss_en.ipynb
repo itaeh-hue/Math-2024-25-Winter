{
  "cells": [
    {
      "cell_type": "markdown",
      "metadata": {
        "id": "Pz9t0cfFlC3f"
      },
      "source": [
        "# Gaussian Elimination Method\n",
        "\n",
        "Solving a system of linear equations using the Gaussian elimination method involves transforming the coefficient matrix of the system into an upper triangular matrix, followed by solving the system using back substitution.\n",
        "\n",
        "This is one of the most fundamental methods for solving systems of linear equations, especially in cases where the number of unknowns is different from the number of equations."
      ]
    },
    {
      "cell_type": "code",
      "execution_count": null,
      "metadata": {
        "id": "ljky54yulC3k",
        "outputId": "3a2d7f1f-9ed1-4b42-b6d3-9f4178479563"
      },
      "outputs": [
        {
          "data": {
            "text/markdown": [
              "**Initial equations:**"
            ],
            "text/plain": [
              "<IPython.core.display.Markdown object>"
            ]
          },
          "metadata": {},
          "output_type": "display_data"
        },
        {
          "data": {
            "text/markdown": [
              "System of equations:"
            ],
            "text/plain": [
              "<IPython.core.display.Markdown object>"
            ]
          },
          "metadata": {},
          "output_type": "display_data"
        },
        {
          "data": {
            "text/markdown": [
              "$$\\begin{aligned} 1 x_{1} + 2 x_{2} + 3 x_{3} = 10 \\\\ 4 x_{1} + 5 x_{2} + 6 x_{3} = 11 \\\\ 7 x_{1} + 8 x_{2} + 12 x_{3} = 18 \\end{aligned}$$"
            ],
            "text/plain": [
              "<IPython.core.display.Markdown object>"
            ]
          },
          "metadata": {},
          "output_type": "display_data"
        }
      ],
      "source": [
        "from sympy import Matrix, symbols, Eq, latex\n",
        "from IPython.display import display, Markdown\n",
        "import sympy as sp\n",
        "\n",
        "class SymbolicMatrix:\n",
        "    def __init__(self, matrix, column_labels=None, free_terms=None, display_mode=\"table\"):\n",
        "        self.matrix = Matrix(matrix)\n",
        "        self.operations = []\n",
        "        self.display_mode = display_mode\n",
        "\n",
        "        if column_labels:\n",
        "            if len(column_labels) != self.matrix.cols:\n",
        "                raise ValueError(\"The number of column labels must be equal to the number of columns in the matrix.\")\n",
        "            self.column_labels = column_labels\n",
        "        else:\n",
        "            self.column_labels = [f\"x{i+1}\" for i in range(self.matrix.cols)]\n",
        "\n",
        "        if free_terms:\n",
        "            if len(free_terms) != self.matrix.rows:\n",
        "                raise ValueError(\"The number of free terms must be equal to the number of rows in the matrix.\")\n",
        "            self.free_terms = free_terms\n",
        "        else:\n",
        "            self.free_terms = [0 for _ in range(self.matrix.rows)]\n",
        "\n",
        "        display(Markdown(\"**Initial equations:**\"))\n",
        "        self.display_matrix()\n",
        "\n",
        "    def set_display_mode(self, mode):\n",
        "        if mode not in [\"table\", \"equations\"]:\n",
        "            raise ValueError(\"Display mode must be 'table' or 'equations'.\")\n",
        "        self.display_mode = mode\n",
        "\n",
        "    def display_matrix(self):\n",
        "        if self.display_mode == \"table\":\n",
        "            self._display_table()\n",
        "        elif self.display_mode == \"equations\":\n",
        "            self._display_equations()\n",
        "\n",
        "    def _display_table(self):\n",
        "        matrix_with_free_terms = self.matrix.row_join(Matrix(self.free_terms))\n",
        "        headers = self.column_labels + [\"Free term\"]\n",
        "        display(Markdown(self._matrix_to_markdown(matrix_with_free_terms, headers)))\n",
        "\n",
        "    def _matrix_to_markdown(self, matrix, headers):\n",
        "        markdown_str = \"| \" + \" | \".join(headers) + \" |\\n\"\n",
        "        markdown_str += \"| \" + \" | \".join([\"---\"] * len(headers)) + \" |\\n\"\n",
        "        for i in range(matrix.rows):\n",
        "            row = [str(matrix[i, j]) for j in range(matrix.cols)]\n",
        "            markdown_str += \"| \" + \" | \".join(row) + \" |\\n\"\n",
        "        return markdown_str\n",
        "\n",
        "    def _display_equations(self):\n",
        "        equations = []\n",
        "        for i in range(self.matrix.rows):\n",
        "            terms = []\n",
        "            for j in range(self.matrix.cols):\n",
        "                coef = self.matrix[i, j]\n",
        "                var = symbols(self.column_labels[j])\n",
        "\n",
        "                # Check if the coefficient is positive, negative, or zero\n",
        "                if coef > 0:\n",
        "                    if j == 0:\n",
        "                        terms.append(f\"{latex(coef)} {latex(var)}\")\n",
        "                    else:\n",
        "                        terms.append(f\"+ {latex(coef)} {latex(var)}\")\n",
        "                elif coef < 0:\n",
        "                    terms.append(f\"- {latex(abs(coef))} {latex(var)}\")\n",
        "                elif coef == 0:\n",
        "                    if j == 0:\n",
        "                        terms.append(f\"0 {latex(var)}\")\n",
        "                    else:\n",
        "                        terms.append(f\"+0 {latex(var)}\")\n",
        "\n",
        "            lhs = \" \".join(terms)\n",
        "            rhs = latex(self.free_terms[i])\n",
        "\n",
        "            equation = f\"{lhs} = {rhs}\"\n",
        "            equations.append(equation)\n",
        "\n",
        "        display(Markdown(\"System of equations:\"))\n",
        "        display(Markdown(f\"$$\\\\begin{{aligned}} {self._equations_to_latex(equations)} \\\\end{{aligned}}$$\"))\n",
        "\n",
        "    def _equations_to_latex(self, equations):\n",
        "        return \" \\\\\\\\ \".join(equations)\n",
        "\n",
        "    def add_row(self, target_row, source_row, coefficient):\n",
        "        target_idx = self._validate_row_number(target_row)\n",
        "        source_idx = self._validate_row_number(source_row)\n",
        "\n",
        "        # Operation on the matrix\n",
        "        self.matrix.row_op(target_idx, lambda v, j: v + coefficient * self.matrix[source_idx, j])\n",
        "\n",
        "        # Operation on the free terms\n",
        "        self.free_terms[target_idx] += coefficient * self.free_terms[source_idx]\n",
        "\n",
        "        operation_str = f\"r{target_row} = r{target_row} + {coefficient}*r{source_row}\"\n",
        "        self.operations.append(operation_str)\n",
        "        display(Markdown(f\"**Operation:** {operation_str}\"))\n",
        "        self.display_matrix()\n",
        "\n",
        "    def multiply_row(self, row, coefficient):\n",
        "        row_idx = self._validate_row_number(row)\n",
        "\n",
        "        # Operation on the matrix\n",
        "        self.matrix.row_op(row_idx, lambda v, _: coefficient * v)\n",
        "\n",
        "        # Operation on the free terms\n",
        "        self.free_terms[row_idx] *= coefficient\n",
        "\n",
        "        operation_str = f\"r{row} = {coefficient}*r{row}\"\n",
        "        self.operations.append(operation_str)\n",
        "        display(Markdown(f\"**Operation:** {operation_str}\"))\n",
        "        self.display_matrix()\n",
        "\n",
        "    def swap_rows(self, row1, row2):\n",
        "        row1_idx = self._validate_row_number(row1)\n",
        "        row2_idx = self._validate_row_number(row2)\n",
        "\n",
        "        self.matrix.row_swap(row1_idx, row2_idx)\n",
        "        self.free_terms[row1_idx], self.free_terms[row2_idx] = self.free_terms[row2_idx], self.free_terms[row1_idx]\n",
        "\n",
        "        operation_str = f\"Swap r{row1} <-> r{row2}\"\n",
        "        self.operations.append(operation_str)\n",
        "        display(Markdown(f\"**Operation:** {operation_str}\"))\n",
        "        self.display_matrix()\n",
        "\n",
        "    def swap_columns(self, col1, col2):\n",
        "        col1_idx = self._validate_col_number(col1)\n",
        "        col2_idx = self._validate_col_number(col2)\n",
        "\n",
        "        self.matrix.col_swap(col1_idx, col2_idx)\n",
        "        self.column_labels[col1_idx], self.column_labels[col2_idx] = self.column_labels[col2_idx], self.column_labels[col1_idx]\n",
        "\n",
        "        operation_str = f\"Swap col{col1} <-> col{col2}\"\n",
        "        self.operations.append(operation_str)\n",
        "        display(Markdown(f\"**Operation:** {operation_str}\"))\n",
        "        self.display_matrix()\n",
        "\n",
        "    def _validate_row_number(self, row):\n",
        "        if not isinstance(row, int):\n",
        "            raise TypeError(\"Row number must be an integer.\")\n",
        "        if row < 1 or row > self.matrix.rows:\n",
        "            raise IndexError(f\"Row number must be between 1 and {self.matrix.rows}.\")\n",
        "        return row - 1\n",
        "\n",
        "    def _validate_col_number(self, col):\n",
        "        if not isinstance(col, int):\n",
        "            raise TypeError(\"Column number must be an integer.\")\n",
        "        if col < 1 or col > self.matrix.cols:\n",
        "            raise IndexError(f\"Column number must be between 1 and {self.matrix.cols}.\")\n",
        "        return col - 1\n",
        "\n",
        "    def print_operations(self):\n",
        "        display(Markdown(\"**Performed operations:**\"))\n",
        "        for op in self.operations:\n",
        "            print(op)\n",
        "\n",
        "# Example usage:\n",
        "m = SymbolicMatrix([[1,2,3], [4,5,6], [7,8,12]], column_labels=[\"x1\", \"x2\", \"x3\"], free_terms=[10, 11, 18], display_mode=\"equations\")\n"
      ]
    },
    {
      "cell_type": "code",
      "execution_count": null,
      "metadata": {
        "id": "gKHeIWZBlC3l",
        "outputId": "0aa8ce70-0062-4227-e23a-6ea2654ead92"
      },
      "outputs": [
        {
          "data": {
            "text/markdown": [
              "**Operation:** r2 = r2 + -4*r1"
            ],
            "text/plain": [
              "<IPython.core.display.Markdown object>"
            ]
          },
          "metadata": {},
          "output_type": "display_data"
        },
        {
          "data": {
            "text/markdown": [
              "System of equations:"
            ],
            "text/plain": [
              "<IPython.core.display.Markdown object>"
            ]
          },
          "metadata": {},
          "output_type": "display_data"
        },
        {
          "data": {
            "text/markdown": [
              "$$\\begin{aligned} 1 x_{1} + 2 x_{2} + 3 x_{3} = 10 \\\\ 0 x_{1} - 3 x_{2} - 6 x_{3} = -29 \\\\ 7 x_{1} + 8 x_{2} + 12 x_{3} = 18 \\end{aligned}$$"
            ],
            "text/plain": [
              "<IPython.core.display.Markdown object>"
            ]
          },
          "metadata": {},
          "output_type": "display_data"
        }
      ],
      "source": [
        "m.add_row(2, 1, -4)"
      ]
    },
    {
      "cell_type": "code",
      "execution_count": null,
      "metadata": {
        "id": "px-y68I0lC3l",
        "outputId": "a48e35ca-ebd5-404d-8ade-a4163fb5beca"
      },
      "outputs": [
        {
          "data": {
            "text/markdown": [
              "**Operation:** r3 = r3 + -7*r1"
            ],
            "text/plain": [
              "<IPython.core.display.Markdown object>"
            ]
          },
          "metadata": {},
          "output_type": "display_data"
        },
        {
          "data": {
            "text/markdown": [
              "System of equations:"
            ],
            "text/plain": [
              "<IPython.core.display.Markdown object>"
            ]
          },
          "metadata": {},
          "output_type": "display_data"
        },
        {
          "data": {
            "text/markdown": [
              "$$\\begin{aligned} 1 x_{1} + 2 x_{2} + 3 x_{3} = 10 \\\\ 0 x_{1} - 3 x_{2} - 6 x_{3} = -29 \\\\ 0 x_{1} - 6 x_{2} - 9 x_{3} = -52 \\end{aligned}$$"
            ],
            "text/plain": [
              "<IPython.core.display.Markdown object>"
            ]
          },
          "metadata": {},
          "output_type": "display_data"
        }
      ],
      "source": [
        "m.add_row(3, 1, -7)"
      ]
    },
    {
      "cell_type": "code",
      "execution_count": null,
      "metadata": {
        "id": "8rRq3M0RlC3m",
        "outputId": "87b21b26-770c-4727-a3cd-85f0f11d5ea7"
      },
      "outputs": [
        {
          "data": {
            "text/markdown": [
              "**Operation:** r3 = r3 + -2*r2"
            ],
            "text/plain": [
              "<IPython.core.display.Markdown object>"
            ]
          },
          "metadata": {},
          "output_type": "display_data"
        },
        {
          "data": {
            "text/markdown": [
              "System of equations:"
            ],
            "text/plain": [
              "<IPython.core.display.Markdown object>"
            ]
          },
          "metadata": {},
          "output_type": "display_data"
        },
        {
          "data": {
            "text/markdown": [
              "$$\\begin{aligned} 1 x_{1} + 2 x_{2} + 3 x_{3} = 10 \\\\ 0 x_{1} - 3 x_{2} - 6 x_{3} = -29 \\\\ 0 x_{1} +0 x_{2} + 3 x_{3} = 6 \\end{aligned}$$"
            ],
            "text/plain": [
              "<IPython.core.display.Markdown object>"
            ]
          },
          "metadata": {},
          "output_type": "display_data"
        }
      ],
      "source": [
        "m.add_row(3, 2, -2)"
      ]
    },
    {
      "cell_type": "code",
      "execution_count": null,
      "metadata": {
        "id": "Zc-mpTI2lC3m"
      },
      "outputs": [],
      "source": [
        "# We have 3 equations, so we end the operation\n",
        "# Define symbols\n",
        "x1, x2, x3 = symbols('x1 x2 x3')\n",
        "# Define equations\n",
        "eq1 = Eq(x1 + 2*x2 + 3*x3, 10)\n",
        "eq2 = Eq(-3*x2 - 6*x3, -29)\n",
        "eq3 = Eq(3*x3, 6)"
      ]
    },
    {
      "cell_type": "code",
      "execution_count": null,
      "metadata": {
        "id": "gFLxyqMglC3m",
        "outputId": "f6e3634f-09cc-4194-840b-01eed4ab601c"
      },
      "outputs": [
        {
          "data": {
            "text/latex": [
              "$\\displaystyle 2$"
            ],
            "text/plain": [
              "2"
            ]
          },
          "execution_count": 14,
          "metadata": {},
          "output_type": "execute_result"
        }
      ],
      "source": [
        "sol_x3 = sp.solve(eq3, x3)[0]\n",
        "sol_x3"
      ]
    },
    {
      "cell_type": "code",
      "execution_count": null,
      "metadata": {
        "id": "pdLU1M-GlC3n",
        "outputId": "1dd8ff7c-89dc-4b01-d9e8-a328af4d74b9"
      },
      "outputs": [
        {
          "data": {
            "text/latex": [
              "$\\displaystyle \\frac{17}{3}$"
            ],
            "text/plain": [
              "17/3"
            ]
          },
          "execution_count": 15,
          "metadata": {},
          "output_type": "execute_result"
        }
      ],
      "source": [
        "# Substitute solution x3 into equation 2\n",
        "eq2 = eq2.subs(x3, sol_x3)\n",
        "# Solve equation 2\n",
        "sol_x2 = sp.solve(eq2, x2)[0]\n",
        "sol_x2"
      ]
    },
    {
      "cell_type": "code",
      "execution_count": null,
      "metadata": {
        "id": "yZGqz-qJlC3n",
        "outputId": "fd17b038-9cd2-4631-d4c7-8d4ebb002331"
      },
      "outputs": [
        {
          "data": {
            "text/latex": [
              "$\\displaystyle - \\frac{22}{3}$"
            ],
            "text/plain": [
              "-22/3"
            ]
          },
          "execution_count": 16,
          "metadata": {},
          "output_type": "execute_result"
        }
      ],
      "source": [
        "# Substitute solutions x2 and x3 into equation 1\n",
        "eq1 = eq1.subs({x2: sol_x2, x3: sol_x3})\n",
        "# Solve equation 1\n",
        "sol_x1 = sp.solve(eq1, x1)[0]\n",
        "sol_x1"
      ]
    },
    {
      "cell_type": "markdown",
      "metadata": {
        "id": "HBkmGSw3lC3o"
      },
      "source": [
        "---\n",
        "\n",
        "## Exercises for Students\n",
        "\n",
        "$$\n",
        "\\left\\{\\begin{array}{c}{x+2 y-2 z=4} \\\\ {2 x+y+z=0} \\\\ {3 x+2 y+z=1}\\end{array}\\right.\\quad\n",
        "\\left\\{\\begin{array}{c}{x+y+z-t=2} \\\\ {2 x+y+z=3} \\\\ {-x+z-t=0} \\\\ {3 x+2 y-z+2 t=-1}\\end{array}\\right.\\quad\n",
        "\\left\\{\\begin{array}{c}{x+y-z-t=0} \\\\ {2 x+3 y-2 z+t=4} \\\\ {3 x+5 z=0} \\\\ {-x+y-3 z+2 t=3}\\end{array}\\right.\n",
        "$$"
      ]
    },
    {
      "cell_type": "markdown",
      "metadata": {
        "id": "XlwbPBRNlC3o"
      },
      "source": [
        "\n",
        "1. $$\n",
        "\\left\\{\\begin{array}{c}{x+2 y-2 z=4} \\\\ {2 x+y+z=0} \\\\ {3 x+2 y+z=1}\\end{array}\\right.\\quad\n",
        "$$\n",
        "\n",
        "We will represent these equations in an augmented matrix form:\n",
        "\n",
        "$$\n",
        "\\begin{bmatrix} 1 & 2 & -2 & | & 4  \\\\\n",
        " 2 & 1 & 1 & | & 0  \\\\\n",
        " 3 & 2 & 1 & | & 1 \\end{bmatrix}\n",
        "$$\n",
        "\n",
        "Start with the first row as the pivot. We will eliminate the x terms in the second and third rows.\n",
        "\n",
        "To eliminate x from Row 2, we can subtract 2 times Row 1 from Row 2. The second row becomes:\n",
        "\n",
        "$$\n",
        "\\begin{bmatrix}\n",
        "0 & -3 & 5 & | & -8  \\\\\n",
        "\\end{bmatrix}\n",
        "$$\n",
        "\n",
        "$$\n",
        "\\begin{bmatrix} 1 & 2 & -2 & | & 4  \\\\\n",
        "0 & -3 & 5 & | & -8  \\\\\n",
        " 3 & 2 & 1 & | & 1 \\end{bmatrix}\n",
        "$$\n",
        "\n",
        "To eliminate x from the third row, subtract 3 times the first row from the third one. We get this:\n",
        "\n",
        "$$\n",
        "\\begin{bmatrix} 1 & 2 & -2 & | & 4  \\\\\n",
        "0 & -3 & 5 & | & -8  \\\\\n",
        " 0 & -4 & 7 & | & -11 \\end{bmatrix}\n",
        "$$\n",
        "\n",
        "Now we need to eliminate y from the third row. We can multiply Row 2 by $\\frac{4}{3}$ to facilitate elimination, then use it to eliminate y from Row 3.\n",
        "\n",
        "$$\n",
        "\\begin{bmatrix} 1 & 2 & -2 & | & 4  \\\\\n",
        "0 & -3 & \\frac{20}{3} & | & -\\frac{32}{3}  \\\\\n",
        " 0 & -4 & 7 & | & -11 \\end{bmatrix}\n",
        "$$\n",
        "\n",
        "Now add the second row to the third one:\n",
        "\n",
        "$$\n",
        "\\begin{bmatrix} 1 & 2 & -2 & | & 4  \\\\\n",
        "0 & -3 & \\frac{20}{3} & | & -\\frac{32}{3}  \\\\\n",
        " 0 & 0 & \\frac{41}{3} & | & -\\frac{65}{3} \\end{bmatrix}\n",
        "$$\n",
        "\n",
        "\n",
        "And now back substitution:\n",
        "\n",
        "$$\n",
        "\\frac{41}{3}z = -\\frac{65}{3} \\implies z = -\\frac{65}{41}\n",
        "$$\n",
        "\n",
        "$$\n",
        "-3y + 5(-\\frac{65}{41}) = -8 \\implies -3y - \\frac{325}{41} = -8\n",
        "$$\n",
        "\n",
        "$$\n",
        "-123y - 325 = -328 \\implies -123y = -3 \\implies y=\\frac{1}{41}\n",
        "$$\n",
        "\n",
        "$$\n",
        "x + 2(\\frac{1}{41}) - 2(-\\frac{65}{41}) = 4\n",
        "$$\n",
        "\n",
        "$$\n",
        "x + \\frac{2}{41} + \\frac{130}{41} = 4 \\Rightarrow x+ \\frac{132}{41} = 4 \\Rightarrow x = 4 - \\frac{132}{41} = 4 - \\frac{132}{41} = \\frac{164}{41} - \\frac{132}{41} = \\frac{32}{41}\n",
        "$$"
      ]
    },
    {
      "cell_type": "markdown",
      "metadata": {
        "id": "zTSJrPRdlC3o"
      },
      "source": [
        "2.\n",
        "$$\n",
        "\\left\\{\\begin{array}{c}{x+y+z-t=2} \\\\ {2 x+y+z=3} \\\\ {-x+z-t=0} \\\\ {3 x+2 y-z+2 t=-1}\\end{array}\\right.\\quad\n",
        "$$We first write the coefficient matrix:\n",
        "\n",
        "$$\\begin{bmatrix} 1 & 1 & 1 & -1 & | & 2 \\\\\n",
        " 2 & 1 & 1 & 0 & | & 3  \\\\\n",
        " -1 & 0 & 1 & -1 & | & 0  \\\\\n",
        " 3 & 2 & -1 & 2 & | & -1 \\end{bmatrix}$$\n",
        "Then we reduce matrix by elimination:\n",
        "\n",
        "First, eliminate x from the last 3 rows:\n",
        "\n",
        "1. R2 = R2 - 2 R1\n",
        "2. R3 = R3 + R1\n",
        "3. R4 = R4 - 3 R1\n",
        "\n",
        "(I will omit the steps to not rewrite Latex all the time)\n",
        "\n",
        "We find that:\n",
        "\n",
        "$$\n",
        "\\begin{bmatrix} 1 & 1 & 1 & -1 & | & 2  \\\\\n",
        "0 & -1 & -1 & 2 & | & -1  \\\\\n",
        "0 & 1 & 2 & -2 & | & 2  \\\\\n",
        " 0 & -1 & -4 & 5 & | & -7 \\end{bmatrix}\n",
        "$$\n",
        "\n",
        "Then eliminate y from the last 2 rows:\n",
        "\n",
        "1. R3 = R3 + R2\n",
        "2. R4 = R4 + R2\n",
        "\n",
        "$$\\begin{bmatrix} 1 & 1 & 1 & -1 & | & 2  \\\\\n",
        " 0 & -1 & -1 & 2 & | & -1  \\\\\n",
        " 0 & 0 & 1 & 0 & | & 1  \\\\\n",
        " 0 & 0 & -5 & 7 & | & -8 \\end{bmatrix}\n",
        "$$\n",
        "\n",
        "And then eliminate z from the last row:\n",
        "\n",
        "1. R4 = R4 + 5 R3\n",
        "\n",
        "$$\\begin{bmatrix} 1 & 1 & 1 & -1 & | & 2  \\\\\n",
        " 0 & -1 & -1 & 2 & | & -1  \\\\\n",
        " 0 & 0 & 1 & 0 & | & 1  \\\\\n",
        " 0 & 0 & 0 & 7 & | & -3 \\end{bmatrix}$$\n",
        "\n",
        "And finally back substitution:\n",
        "\n",
        "From row 4:\n",
        "$$7t = -3 \\Rightarrow t = -\\frac{3}{7}$$\n",
        "From row 3:\n",
        "$$\n",
        "z = 1\n",
        "$$\n",
        "\n",
        "From row 2:\n",
        "\n",
        "$$ -y - z + 2t = -1 \\Rightarrow -y - 1 + 2 \\left(-\\frac{3}{7}\\right) = -1 -y - 1 - \\frac{6}{7} = -1 \\Rightarrow -y - \\frac{13}{7} = -1 \\Rightarrow -y = -1 + \\frac{13}{7} -y = -\\frac{7}{7} + \\frac{13}{7} \\Rightarrow -y = \\frac{6}{7} \\Rightarrow y = -\\frac{6}{7}$$\n",
        "\n",
        "\n",
        "And from row 1:\n",
        "\n",
        "$$x + y + z - t = 2 \\Rightarrow x - \\frac{6}{7} + 1 + \\frac{3}{7} = 2 x - \\frac{6}{7} + \\frac{10}{7} = 2 \\Rightarrow x + \\frac{4}{7} = 2 \\Rightarrow x = 2 - \\frac{4}{7} = \\frac{14}{7} - \\frac{4}{7} = \\frac{10}{7}$$\n",
        "\n",
        "The solution to the system is:\n",
        "\n",
        "$$x = \\frac{10}{7}, \\quad y = -\\frac{6}{7}, \\quad z = 1, \\quad t = -\\frac{3}{7}$$"
      ]
    },
    {
      "cell_type": "markdown",
      "metadata": {
        "id": "B1wdXSomlC3o"
      },
      "source": []
    }
  ],
  "metadata": {
    "kernelspec": {
      "display_name": ".venv",
      "language": "python",
      "name": "python3"
    },
    "language_info": {
      "codemirror_mode": {
        "name": "ipython",
        "version": 3
      },
      "file_extension": ".py",
      "mimetype": "text/x-python",
      "name": "python",
      "nbconvert_exporter": "python",
      "pygments_lexer": "ipython3",
      "version": "3.11.9"
    },
    "colab": {
      "provenance": []
    }
  },
  "nbformat": 4,
  "nbformat_minor": 0
}