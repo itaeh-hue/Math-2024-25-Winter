{
  "nbformat": 4,
  "nbformat_minor": 0,
  "metadata": {
    "colab": {
      "provenance": [],
      "authorship_tag": "ABX9TyMROUJKzTO4sZaOqYhfs41a",
      "include_colab_link": true
    },
    "kernelspec": {
      "name": "python3",
      "display_name": "Python 3"
    },
    "language_info": {
      "name": "python"
    }
  },
  "cells": [
    {
      "cell_type": "markdown",
      "metadata": {
        "id": "view-in-github",
        "colab_type": "text"
      },
      "source": [
        "<a href=\"https://colab.research.google.com/github/itaeh-hue/Math-2024-25-Winter/blob/main/Notebooks_EN/02_Analytic_Geometry/07_Planes_in_Space/Planes_in_Spaces.ipynb\" target=\"_parent\"><img src=\"https://colab.research.google.com/assets/colab-badge.svg\" alt=\"Open In Colab\"/></a>"
      ]
    },
    {
      "cell_type": "markdown",
      "source": [
        "# Planes in Space"
      ],
      "metadata": {
        "id": "j44otxcATM18"
      }
    },
    {
      "cell_type": "markdown",
      "source": [
        "\n",
        "\n",
        "# Exercises\n",
        "\n",
        "**Visualize each task.** - Python, GeoGebra, Wolfram Alpha, ...\n",
        "\n",
        "* The plane passes through points $A(1, 2, 3)$, $B(3, 4, 5)$, and $C(2, 1, 4)$. Find the equation of the plane.\n",
        "* The plane passes through point $A(1, 2, 3)$ and is parallel to the plane $2x + 3y + 4z = 5$. Find the equation of the plane.\n",
        "* The plane passes through point $A(1, 2, 3)$ and is perpendicular to the normal vector $\\vec{n} = [2, 3, 4]$. Find the equation of the plane.\n",
        "* We have two planes $2x + 3y + 4z = 5$ and $3x + 4y + 2z = 6$. Find the line of intersection of these planes.\n",
        "* Write the equation of the plane passing through point $A(1, 2, 3)$ and parallel to vectors $\\vec{v_1} = [1, 0, 1]$ and $\\vec{v_2} = [0, 1, -1]$.\n",
        "* We have the plane $2x + 3y + 4z = 5$. Find an example of a plane parallel and perpendicular to it.\n",
        "* We have the plane $2x + 3y + 4z = 5$ and point $A(1, 2, 3)$. Find the distance from point $A$ to this plane.\n",
        "* The plane intersects the coordinate axes at points $A(2, 0, 0)$, $B(0, 3, 0)$, and $C(0, 0, 4)$. Find the equation of the plane.\n",
        "* Calculate the angle between the plane $x + y + z = 1$ and the plane $x = 0$ (i.e., the $yz$ plane).\n",
        "* Find the vector perpendicular to the plane $x + y + z = 1$."
      ],
      "metadata": {
        "id": "ynbn5EwsLehT"
      }
    },
    {
      "cell_type": "markdown",
      "source": [
        "1. The plane passes through points $A(1,2,3), B(3,4,5)$, and $C(2,1,4)$. Find the equation of the plane.\n",
        "\n",
        "\n",
        "First, calculate the vectors on the plane:\n",
        "\n",
        "$$\\vec{AB} = B - A = (3 - 1, 4 - 2, 5 - 3) = (2, 2, 2)\n",
        "$$\n",
        "$$\\vec{AC} = C - A = (2 - 1, 1 - 2, 4 - 3) = (1, -1, 1)\n",
        "$$\n",
        "\n",
        "And then find the normal vector using the cross product:\n",
        "$$\\vec{n} = \\vec{AB} \\times \\vec{AC} = \\begin{vmatrix} \\mathbf{i} & \\mathbf{j} & \\mathbf{k} \\\\ 2 & 2 & 2 \\\\ 1 & -1 & 1 \\end{vmatrix} = (2(1) - (-1)(2), (2)(1) - (2)(1), (2)(-1) - (2)(1)) = (4, 0, -4)$$\n",
        "\n",
        "Using point $A(1, 2, 3)$ and normal vector $\\vec{n} = (4, 0, -4)$: $$ 4(x - 1) + 0(y - 2) - 4(z - 3) = 0$$ Simplified to: $$4x - 4z + 8 - 4 = 0 \\implies 4x - 4z + 4 = 0 \\implies x - z + 1 = 0$$\n",
        "\n",
        "\n",
        "$\\Large \\text{SOLUTION:}$\n",
        "\n",
        "$x - z + 1 = 0$"
      ],
      "metadata": {
        "id": "1xhxv7X9sb76"
      }
    },
    {
      "cell_type": "markdown",
      "source": [
        "2. The plane passes through point $A(1, 2, 3)$ and is parallel to the plane $2x + 3y + 4z = 5$. Find the equation of the plane.\n",
        "\n",
        "A plane parallel to another has the same normal vector. The normal vector from the original plane is $\\vec{n} = (2, 3, 4)$.\n",
        "\n",
        "Using the point-normal form:\n",
        "$$2(x - 1) + 3(y - 2) + 4(z - 3) = 0\n",
        "$$\n",
        "\n",
        "Simplifying, gives, $$2x + 3y + 4z = 20$$\n",
        "$\\Large \\text{SOLUTION:}$\n",
        "\n",
        "$2x + 3y + 4z = 20$\n"
      ],
      "metadata": {
        "id": "c4CCiIb5se_0"
      }
    },
    {
      "cell_type": "markdown",
      "source": [
        "\n",
        "4. We have two planes $2x + 3y + 4z = 5$ and $3x + 4y + 2z = 6$. Find the line of intersection of these planes."
      ],
      "metadata": {
        "id": "uDbf7WFDsh7M"
      }
    }
  ]
}