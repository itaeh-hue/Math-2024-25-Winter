{
  "nbformat": 4,
  "nbformat_minor": 0,
  "metadata": {
    "colab": {
      "provenance": [],
      "authorship_tag": "ABX9TyMDAypjHsnItyu0Tttx4guN",
      "include_colab_link": true
    },
    "kernelspec": {
      "name": "python3",
      "display_name": "Python 3"
    },
    "language_info": {
      "name": "python"
    }
  },
  "cells": [
    {
      "cell_type": "markdown",
      "metadata": {
        "id": "view-in-github",
        "colab_type": "text"
      },
      "source": [
        "<a href=\"https://colab.research.google.com/github/itaeh-hue/Math-2024-25-Winter/blob/main/Notebooks_EN/02_Analytic_Geometry/05_LinesLines.ipynb\" target=\"_parent\"><img src=\"https://colab.research.google.com/assets/colab-badge.svg\" alt=\"Open In Colab\"/></a>"
      ]
    },
    {
      "cell_type": "markdown",
      "source": [
        "## Lines\n",
        "\n",
        "A line can be defined as a collection of points that satisfy a linear equation.\n",
        "\n",
        "The equation of a line in a two-dimensional space can be expressed in various forms:\n",
        "\n",
        "#### 1. Slope-Intercept Form\n",
        "\n",
        "The slope-intercept form of the equation of a line is given by:\n",
        "$$\n",
        "y = mx + b\n",
        "$$\n",
        "where:\n",
        "\n",
        "- $m$ is the slope of the line.\n",
        "- $b$ is the y-intercept (the point where the line crosses the y-axis).\n",
        "\n",
        "#### 2. Point-Slope Form\n",
        "\n",
        "When a line passes through a specific point $(x_0, y_0)$ and has slope $m$, its equation can be expressed as:\n",
        "$$\n",
        "y - y_0 = m(x - x_0)\n",
        "$$\n",
        "\n",
        "#### 3. Standard Form\n",
        "\n",
        "The standard form of a line is given by:\n",
        "$$\n",
        "Ax + By + C = 0\n",
        "$$\n",
        "where $A$, $B$, and $C$ are constants, and $A, B \\neq 0$.\n",
        "\n",
        "## Slope of a Line\n",
        "\n",
        "The slope $m$ of a line is a measure of its steepness and can be defined as the ratio of the change in $y$ (rise) to the change in $x$ (run) between two points $(x_1, y_1)$ and $(x_2, y_2)$: $$m = \\frac{y_2 - y_1}{x_2 - x_1}$$\n",
        "\n",
        "- A positive slope indicates that the line rises as it moves from left to right, while a negative slope indicates that it falls.\n",
        "\n",
        "## Intercepts\n",
        "\n",
        "#### Y-Intercept\n",
        "The y-intercept of a line is the value of $y$ when $x = 0$. This point is represented as $(0, b)$.\n",
        "\n",
        "#### X-Intercept\n",
        "The x-intercept of a line is the value of $x$ when $y = 0$. To find the x-intercept, set $y = 0$ in the line equation and solve for $x$.\n",
        "\n",
        "## Relationship Between Lines\n",
        "\n",
        "#### Parallel Lines\n",
        "\n",
        "Parallel lines have the same slope but different y-intercepts. If two lines have equations in slope-intercept form $y = m_1x + b_1$ and $y = m_2x + b_2$, then they are parallel if:\n",
        "$$\n",
        "m_1 = m_2\n",
        "$$\n",
        "\n",
        "#### Perpendicular Lines\n",
        "\n",
        "Two lines are perpendicular if the product of their slopes is $-1$. If $m_1$ and $m_2$ are the slopes of two lines, they are perpendicular if:\n",
        "$$\n",
        "m_1 \\cdot m_2 = -1\n",
        "$$\n",
        "\n",
        "## Distance Between Two Points\n",
        "\n",
        "The distance $d$ between two points $(x_1, y_1)$ and $(x_2, y_2)$ in the Cartesian plane can be calculated using the Euclidean distance formula:\n",
        "$$\n",
        "d = \\sqrt{(x_2 - x_1)^2 + (y_2 - y_1)^2}\n",
        "$$"
      ],
      "metadata": {
        "id": "ynbn5EwsLehT"
      }
    }
  ]
}
