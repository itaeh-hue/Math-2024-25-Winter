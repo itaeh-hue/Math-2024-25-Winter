{
  "nbformat": 4,
  "nbformat_minor": 0,
  "metadata": {
    "colab": {
      "provenance": [],
      "authorship_tag": "ABX9TyMvEULQpxtAFLQlLm/RBsyd",
      "include_colab_link": true
    },
    "kernelspec": {
      "name": "python3",
      "display_name": "Python 3"
    },
    "language_info": {
      "name": "python"
    }
  },
  "cells": [
    {
      "cell_type": "markdown",
      "metadata": {
        "id": "view-in-github",
        "colab_type": "text"
      },
      "source": [
        "<a href=\"https://colab.research.google.com/github/itaeh-hue/Math-2024-25-Winter/blob/main/Notebooks_EN/02_Analytic_Geometry/05_Lines/Lines.ipynb\" target=\"_parent\"><img src=\"https://colab.research.google.com/assets/colab-badge.svg\" alt=\"Open In Colab\"/></a>"
      ]
    },
    {
      "cell_type": "markdown",
      "source": [
        "## Lines\n",
        "\n",
        "A line can be defined as a collection of points that satisfy a linear equation.\n",
        "\n",
        "There are several types of equations that can be used to express straight lines. We will examine the following ones:\n",
        "\n",
        "- Slope-Intercept Form\n",
        "- Point-Slope Form\n",
        "- Standard Form\n",
        "- General Form\n",
        "- Intercept Form\n",
        "#### Slope-Intercept Form\n",
        "\n",
        ">The **Slope-Intercept Form** of the equation of a line is given by the formula:\n",
        "$$y = mx + b\n",
        "$$\n",
        "- $m$ is the slope of the line.\n",
        "- $b$ is the $y$-intercept (the point where the line crosses the $y$-axis).\n",
        "\n",
        "#### Point-Slope Form\n",
        "\n",
        ">The **Point-Slope Form** of the equation of a line, also known as the **Canonical Equation of a line**, passing through the point $(x_{0}, y_{0})$ and having the slope $m$ is given by the formula:\n",
        ">\n",
        "$$\n",
        "y - y_{0} = m(x - x_{0})\n",
        "$$\n",
        "\n",
        "If $(x_1, y_1)$ and $(x_2, y_2)$ are two points on a line, the slope of the line $m$ can be calculated as the ratio of the change in $y$ (rise) to the change in $x$ (run) by the following formula:\n",
        "\n",
        "$$m = \\frac{y_2 - y_1}{x_2 - x_1} = \\frac{\\text{{rise}}}{\\text{run}}$$\n",
        "\n",
        "- A positive slope indicates that the line rises as it moves from left to right, while a negative slope indicates that it falls.\n",
        "\n",
        "#### Standard Form\n",
        "\n",
        ">The **Standard Form** of the equation of a line is given by the formula:\n",
        "$$\n",
        "Ax + By = C\n",
        "$$\n",
        "\n",
        "#### General Form\n",
        "\n",
        ">The **General Form** of the equation of a line is given by the formula:\n",
        "$$\n",
        "Ax + By + C = 0\n",
        "$$\n",
        "- $A$, $B$, and $C$ are constants, given that $A$ and $B$ can not both be zero.\n",
        "\n",
        "This form is advantageous because it allows one to quickly determine the vertical and horizontal intercepts of the line.\n",
        "\n",
        "Special cases:\n",
        "\n",
        "1. If $A = 0$, then the equation can be written in the form $y = -\\frac{C}{B}$. This is the equation of a line parallel to the $x$ axis.\n",
        "\n",
        "2. If $B = 0$, then the equation can be written in the form $x =-\\frac{C}{A}$. This is the equation of a line parallel to the $y$ axis.\n",
        "\n",
        "3. If $C =0$, then $Ax+By =0$. This is the equation of a line passing through the point $(0,0)$.\n",
        "#### Intercept Form\n",
        "\n",
        ">The **Intercept Form** of the equation of a line is given by the formula:\n",
        "\n",
        "$$\\frac{x}{a} + \\frac{y}{b} = 1$$\n",
        "- $a$ is the $x$-intercept - the point where the line crosses the $x$-axis.\n",
        "- $b$ is the $y$-intercept - the point where the line crosses the $y$-axis.\n",
        "\n",
        "To convert the equation of a line from the intercept form to the slope-intercept form,\n",
        "$$\n",
        "y = -\\frac{b}{a}x + b\n",
        "$$\n",
        "Because\n",
        "$$\n",
        "\\frac{x}{a} + \\frac{y}{b} = 1 \\implies \\frac{y}{b} = 1 - \\frac{x}{a} \\implies y = b- b \\frac{x}{a} = - \\frac{b}{a}x + b\n",
        "$$\n",
        "### Relative Positions of Lines in the Plane\n",
        "\n",
        "- Coinciding Lines\n",
        "\t- If two lines have the same slope and $y$-intercept, they lie on top of one another.\n",
        "\n",
        "- Parallel Lines\n",
        "\t- If two lines have the same slope but different $y$-intercepts, they never intersect.\n",
        "\n",
        "\t- Therefore, if two lines have equations in the slope-intercept form $y = m_1x + b_1$ and $y = m_2x + b_2$, then they are parallel if and only if $$m_1 = m_2$$\n",
        "\n",
        "\n",
        "- Intersecting Lines\n",
        "\t- If the slopes of two lines are different, they will intersect at a single point.\n",
        "\n",
        "- Perpendicular lines\n",
        "\n",
        "\t- Two lines are perpendicular if the product of their slopes is $-1$.\n",
        "\t- This, if $m_1$ and $m_2$ are the slopes of two lines, the lines are perpendicular if and only if $$m_1 \\cdot m_2 = -1$$\n",
        "\n",
        "To find the intersection of two lines described by the equations\n",
        "$$y = m_1x + b_1, \\quad y = m_2x + b_2$$\n",
        "\n",
        "Set the two equations equal to each other:\n",
        "\n",
        "$$m_1x + b_1 = m_2x + b_2$$\n",
        "\n",
        "Solving for $x$ gives:\n",
        "\n",
        "$$x = \\frac{b_2 - b_1}{m_1 - m_2}$$\n",
        "\n",
        "Substituting this $x$ value back into either equation provides the corresponding $y$ value. The result $(x, y)$ is the intersection point.\n",
        "\n",
        "#### Angle between two lines\n",
        "\n",
        "The angle $\\theta$ between two lines with slopes $m_1$ and $m_2$ can be found using the following formula:\n",
        "\n",
        "$$\\tan \\theta = \\left| \\frac{m_1 - m_2}{1 + m_1m_2} \\right|$$\n",
        "\n",
        "Using the arctangent function:\n",
        "\n",
        "$$\\theta = \\tan^{-1} \\left( \\left| \\frac{m_1 - m_2}{1 + m_1m_2} \\right| \\right)$$\n",
        "\n",
        "This is valid provided that $1 + m_1m_2 \\neq 0$ (the lines are not perpendicular).\n",
        "\n",
        "## Intercepts\n",
        "\n",
        "#### Y-Intercept\n",
        "\n",
        "The y-intercept of a line is the value of $y$ when $x = 0$. This point is represented as $(0, b)$.\n",
        "\n",
        "#### X-Intercept\n",
        "\n",
        "The x-intercept of a line is the value of $x$ when $y = 0$. To find the x-intercept, set $y = 0$ in the line equation and solve for $x$.\n",
        "## Distance Between Two Points\n",
        "\n",
        "\n",
        "The distance $d$ between two points $(x_1, y_1)$ and $(x_2, y_2)$ in the Cartesian plane can be calculated using the Euclidean distance formula:\n",
        "\n",
        "$$d = \\sqrt{(x_2 - x_1)^2 + (y_2 - y_1)^2}$$\n",
        "\n",
        "\n",
        "## Distance between a Point and a Line\n",
        "\n",
        "Let $L$ be a line defined by the equation $Ax + By + C = 0$, and $P(x_{0}, y_{0})$ be a point on a plane. The distance between the line $L$ and the point $P$ is defined by:\n",
        "\n",
        "$$d = \\frac{\\mid Ax_0 + By_0 + C\\mid}{\\sqrt{A^2+B^2}}\n",
        "$$\n",
        "\n"
      ],
      "metadata": {
        "id": "ynbn5EwsLehT"
      }
    },
    {
      "cell_type": "markdown",
      "source": [
        "## Tasks related to equations of lines on a plane\n",
        "\n",
        "**Visualize each task.** - Python, GeoGebra, Wolfram Alpha, ...\n",
        "\n",
        "1. The line passes through points $A(1, 2)$ and $B(3, 4)$. Find the equation of the line.\n",
        "2. The line passes through point $A(1, 2)$ and is parallel to the line $y = 2x + 3$. Find the equation of the line.\n",
        "3. The line passes through point $A(1, 2)$ and is perpendicular to the line $y = 2x + 3$. Find the equation of the line.\n",
        "4. We have two lines $y = 2x + 3$ and $y = 3x + 2$. Find the intersection point of these lines and calculate the angle between them.\n",
        "5. Write the equation of the line passing through point $A(1, 2)$ and parallel to the vector $\\vec{v} = [2, 3]$.\n",
        "6. We have the line $y = 2x + 3$. Find an example of a line perpendicular and parallel to it.\n",
        "7. We have the line $y = 2x + 3$ and point $A(1, 2)$. Find the distance from point $A$ to the line.\n",
        "8. The line intersects the coordinate axes at points $A(2, 0)$ and $B(0, 3)$. Find the equation of the line.\n",
        "9. Calculate the angle between the line $y = x + 3$ and the $Ox$ axis.\n",
        "10. Provide a vector perpendicular to the line $x + y + 1 = 0$.\n"
      ],
      "metadata": {
        "id": "rMqJDqXBnm11"
      }
    },
    {
      "cell_type": "markdown",
      "source": [
        "## Task 1\n",
        "\n",
        "The line passes through points $A(1, 2)$ and $B(3, 4)$. Find the equation of the line.\n",
        "\n",
        "According to the formula of the slope of a line passing through two given points,\n",
        "\n",
        "$$m = \\frac{y_2 - y_1}{x_2 - x_1} = \\frac{4 - 2}{3 - 1} = \\frac{2}{2} = 1$$\n",
        "$$\\text{where} \\quad \\begin{align}\n",
        "x_{1} = 1 \\quad y_{1} = 2 \\\\\n",
        "x_{2} = 3 \\quad y_{2} = 4 \\\\\n",
        "\\end{align}$$\n",
        "\n",
        "Then, using the point-slope form of a line passing thorough the point $A(1,2)$,\n",
        "\n",
        "$$y - y_{1} = m(x - x_{1}) \\implies y - 2 = 1(x - 1) \\implies y = x+1$$\n",
        "\n",
        "$\\Large \\text{SOLUTION:}$\n",
        "$y = x+1$\n"
      ],
      "metadata": {
        "id": "xWHxXHMlnr2E"
      }
    },
    {
      "cell_type": "markdown",
      "source": [],
      "metadata": {
        "id": "vVI6uYEUnwCM"
      }
    },
    {
      "cell_type": "markdown",
      "source": [
        "## Task 2\n",
        "\n",
        "The line passes through point $A(1, 2)$ and is parallel to the line $y = 2x + 3$. Find the equation of the line.\n",
        "\n",
        "Parallel lines have the same slope, therefore the slope of the new line is $2$. Then, using the point-slope form, $$y - y_{1} = m(x - x_{1}) \\implies y - 2 = 2(x -1) \\implies y = 2x$$\n",
        "\n",
        "$\\Large \\text{SOLUTION:}$\n",
        "$y = 2x$\n"
      ],
      "metadata": {
        "id": "0-mz_iSBoLjo"
      }
    },
    {
      "cell_type": "markdown",
      "source": [
        "## Task 3\n",
        "\n",
        "3. The line passes through point $A(1, 2)$ and is perpendicular to the line $y = 2x + 3$. Find the equation of the line.\n",
        "\n",
        "A line perpendicular to a given line has the slope which is negative reciprocal of the slope of the given line. Therefore, the slope of the new line is $$m=-\\frac{1}{2}$$\n",
        "Then, using the point-slope form of the line, $$y - y_{1} = m(x - x_{1}) \\implies y - 2 = -\\frac{1}{2}(x - 1) \\implies y = -\\frac{1}{2}x + \\frac{5}{2}$$\n",
        "\n",
        "\n",
        "$\\Large \\text{SOLUTION:}$\n",
        "$y = -\\frac{1}{2}x + \\frac{5}{2}$"
      ],
      "metadata": {
        "id": "GS4n81LNoRTS"
      }
    },
    {
      "cell_type": "markdown",
      "source": [
        "## Task 4\n",
        "\n",
        "We have two lines $y = 2x + 3$ and $y = 3x + 2$. Find the intersection point of these lines and calculate the angle between them.\n",
        "\n",
        "First, to find the intersection point of the given lines, we need to set equations equal and solve for $x$:\n",
        "\n",
        "$$2x + 3 = 3x + 2 \\implies x = 1$$\n",
        "And then substitute $x=1$ into any of the given equations to find the $y$ component, $$y = 2x + 3 = 5$$\n",
        "Therefore, the intersection point is $P(1,5)$.\n",
        "\n",
        "Second, to find the angle between the lines, we use the formula of the tangent of the angle between two lines, $$\\tan \\theta = \\left| \\frac{m_1 - m_2}{1 + m_1m_2} \\right| = \\left| \\frac{2 - 3}{1 + 2\\cdot{3}}  \\right| = \\left| -\\frac{1}{7} \\right|$$\n",
        "The angle can then be found using the arctangent function,\n",
        "$$\\theta = \\tan^{-1} \\left| -\\frac{1}{7} \\right| \\approx 8.13^\\circ$$\n",
        "\n",
        "$\\Large \\text{SOLUTION: }$\n",
        "$\\text{the intersection point is P(1,5), and the angle between the lines is} \\approx 8.13^\\circ$."
      ],
      "metadata": {
        "id": "PZLt3vAuoXoT"
      }
    },
    {
      "cell_type": "markdown",
      "source": [
        "## Task 5\n",
        "\n",
        "Write the equation of the line passing through point $A(1, 2)$ and parallel to the vector $\\vec{v} = [2, 3]$.\n",
        "\n",
        "The direction vector $\\vec{v} = [2, 3]$ means the slope of the line $m = \\frac{3}{2}$.\n",
        "\n",
        "Using the point-slope form of a line, $$y - y_{1} = m(x - x_{1}) \\implies y - 2 = \\frac{3}{2}(x - 1) \\implies y = \\frac{3}{2}x + \\frac{1}{2}$$\n",
        "$\\Large \\text{SOLUTION:}$\n",
        "$y = \\frac{3}{2}x + \\frac{1}{2}$\n"
      ],
      "metadata": {
        "id": "e_-H7Rs3ocse"
      }
    },
    {
      "cell_type": "markdown",
      "source": [
        "## Task 6\n",
        "\n",
        "\n",
        "6. We have the line $y = 2x + 3$. Find an example of a line perpendicular and parallel to it.\n",
        "\n",
        "Parallel lines have the same slope, and perpendicular ones have slope which is negative reciprocal to one another.\n",
        "\n",
        "Example of a parallel line: $y = 2x + 5$\n",
        "Example of a perpendicular line: $y = -\\frac{1}{2}x + 7$\n",
        "\n",
        "\n",
        "$\\Large \\text{SOLUTION:}$\n",
        "Parallel: $y = 2x + 5$\n",
        "Perpendicular: $y = -\\frac{1}{2}x + 7$"
      ],
      "metadata": {
        "id": "FVi_qfWoognD"
      }
    },
    {
      "cell_type": "markdown",
      "source": [
        "## Task 7\n",
        "\n",
        "We have the line $y = 2x + 3$ and point $A(1, 2)$. Find the distance from point $A$ to the line.\n",
        "\n",
        "First, rewrite the formula of the given line in standard form:\n",
        "\n",
        "$$y = 2x + 3 \\implies 2x - y + 3 = 0$$\n",
        "$$\n",
        "\\text{where} \\quad \\begin{align}\n",
        "A = 2 \\quad B = -1 \\quad C = 3\\\\\n",
        "\\end{align}\n",
        "$$\n",
        "\n",
        "According to the formula of the distance between a point and a line,\n",
        "\n",
        "$$d = \\frac{\\mid Ax_{0} + By_{0} + C\\mid}{\\sqrt{A^2+B^2}} = \\frac{\\mid{2}\\cdot{1} + (-1)\\cdot{2} + 3\\mid}{\\sqrt{ 2^2 + (-1)^2 }} = \\frac{3}{\\sqrt{ 5 }} \\approx 1.34\n",
        "$$\n",
        "\n",
        "\n",
        "$\\Large \\text{SOLUTION:}$\n",
        "$d \\approx 1.34$"
      ],
      "metadata": {
        "id": "QanH-osspRHv"
      }
    },
    {
      "cell_type": "markdown",
      "source": [
        "## Task 8\n",
        "\n",
        "The line intersects the coordinate axes at points $A(2, 0)$ and $B(0, 3)$. Find the equation of the line.\n",
        "\n",
        "Using the intercept form of a line, $$\\frac{x}{a} + \\frac{y}{b} = 1 \\implies \\frac{x}{2} + \\frac{y}{3} = 1$$\n",
        "Rewriting in the slope-intercept form,\n",
        "$$\\frac{x}{2} + \\frac{y}{3} = 1 \\implies y = -\\frac{3}{2}x + \\frac{1}{2}$$\n",
        "\n",
        "\n",
        "$\\Large \\text{SOLUTION:}$\n",
        "$y = -\\frac{3}{2}x + \\frac{1}{2}$"
      ],
      "metadata": {
        "id": "xciiIcF_pVlm"
      }
    },
    {
      "cell_type": "markdown",
      "source": [
        "## Task 9\n",
        "\n",
        "Calculate the angle between the line $y = x + 3$ and the $Ox$ axis.\n",
        "\n",
        "The slope of the line $y = x + 3$ is $m = 1$.\n",
        "The angle between the line and the $Ox$ is given by $$\\tan(\\theta) = m = 1 \\implies \\theta = \\tan^{-1}(1) = 45^\\circ$$\n",
        "$\\Large \\text{SOLUTION:}$\n",
        "$\\theta=45^\\circ$"
      ],
      "metadata": {
        "id": "aaDhhBo8pXWs"
      }
    },
    {
      "cell_type": "markdown",
      "source": [
        "## Task 10\n",
        "\n",
        "Provide a vector perpendicular to the line $x + y + 1 = 0$.\n",
        "\n",
        "The line can be rewritten as $y = -x - 1$ indicating it has a slope of $-1$. A vector in the direction of the line is $[1, -1]$. A vector perpendicular to it would have a slope of $1$ (the negative reciprocal), therefore the desired vector is $[1,1]$\n",
        "\n",
        "\n",
        "$\\Large \\text{SOLUTION:}$\n",
        "$[1,1]$\n"
      ],
      "metadata": {
        "id": "PL7zyYuIpcXf"
      }
    }
  ]
}